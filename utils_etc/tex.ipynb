{
 "cells": [
  {
   "cell_type": "markdown",
   "metadata": {},
   "source": [
    "texの記法についてメモとして残す。"
   ]
  },
  {
   "cell_type": "markdown",
   "metadata": {},
   "source": [
    "---\n",
    "\n",
    "||形式|入力例|表示例|\n",
    "|---|---|---|---|\n",
    "|上付き文字|^{}|x^{2}|$x^{2}$|\n",
    "|下付き文字|_{}|y_{3}|$y_{3}$|\n",
    "|角度記号|^\\circ|60^\\circ|$60^\\circ$|\n",
    "|||||\n",
    "|総和|\\sum|\\sum_{n=1}^{N}|$\\sum_{n=1}^{N}$|\n",
    "\n"
   ]
  }
 ],
 "metadata": {
  "kernelspec": {
   "display_name": "Python 3",
   "language": "python",
   "name": "python3"
  },
  "language_info": {
   "codemirror_mode": {
    "name": "ipython",
    "version": 3
   },
   "file_extension": ".py",
   "mimetype": "text/x-python",
   "name": "python",
   "nbconvert_exporter": "python",
   "pygments_lexer": "ipython3",
   "version": "3.5.2"
  }
 },
 "nbformat": 4,
 "nbformat_minor": 2
}
