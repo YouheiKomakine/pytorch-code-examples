{
 "cells": [
  {
   "cell_type": "markdown",
   "metadata": {},
   "source": [
    "# 『言語処理のための機械学習入門』\n",
    ">自然言語処理シリーズ １  \n",
    "著：高村大也、監修：奥村学  \n",
    "出版：コロナ社  \n",
    "発行年月日：2010/08/05  \n",
    "ISBN：978-4-339-02751-8  \n",
    "\n",
    " - [コロナ社公式ページ](http://www.coronasha.co.jp/np/isbn/9784339027518/)\n",
    " - [この書籍に関する著者のページ](http://www.lr.pi.titech.ac.jp/~takamura/ml4nl.html)\n",
    "\n",
    "初版第10刷を使用して学習していきます。"
   ]
  },
  {
   "cell_type": "markdown",
   "metadata": {},
   "source": [
    "---\n",
    "## 第１章　必要な数学的知識\n",
    "### 1.1　準備と本書における約束事\n"
   ]
  }
 ],
 "metadata": {
  "kernelspec": {
   "display_name": "Python 3",
   "language": "python",
   "name": "python3"
  },
  "language_info": {
   "codemirror_mode": {
    "name": "ipython",
    "version": 3
   },
   "file_extension": ".py",
   "mimetype": "text/x-python",
   "name": "python",
   "nbconvert_exporter": "python",
   "pygments_lexer": "ipython3",
   "version": "3.5.2"
  }
 },
 "nbformat": 4,
 "nbformat_minor": 2
}
