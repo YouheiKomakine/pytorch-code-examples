{
 "cells": [
  {
   "cell_type": "markdown",
   "metadata": {},
   "source": [
    "# 『言語処理のための機械学習入門』\n",
    ">自然言語処理シリーズ １  \n",
    "著：高村大也、監修：奥村学  \n",
    "出版：コロナ社  \n",
    "発行年月日：2010/08/05  \n",
    "ISBN：978-4-339-02751-8  \n",
    "\n",
    " - [コロナ社公式ページ](http://www.coronasha.co.jp/np/isbn/9784339027518/)\n",
    " - [この書籍に関する著者のページ](http://www.lr.pi.titech.ac.jp/~takamura/ml4nl.html)\n",
    "\n",
    "初版第10刷を使用して学習していきます。"
   ]
  },
  {
   "cell_type": "markdown",
   "metadata": {},
   "source": [
    "---\n",
    "## 第１章　必要な数学的知識\n",
    "\n",
    "### 1.1　準備と本書における約束事\n",
    "確率変数は $X$ など大文字で表し、その値は $x$ など小文字で表す。  \n",
    "データとして与えられた事例は $x^{(1)}, x^{(2)}, \\ldots $ のように上付の添字とともに表す。\n",
    "\n",
    "文書 $d$ における単語 $w$ の出現回数を $n(w,d)$ または $n_{w,d}$ と書き、  \n",
    "クラス $c$ に属する文書群における単語 $w$ の出現回数を $n(w,c)$ または $n_{w,c}$ と表す。  \n",
    "\n",
    "また、クラス $c$ に属する文書のうち $w$ が出現するような文書の数を $N(w,c)$ または $N_{w,c}$ と記し、  \n",
    "クラス $c$ に属する文書数を $N(c)$ または $N_{c}$ と書く。\n",
    "\n",
    "$\\delta(w,d)$ や $\\delta_{w,d}$ は、文書 $d$ において単語 $w$ が出現したとき１，そうでないとき０と約束する。  \n",
    "$\\delta(w,s)$ や $\\delta_{w,s}$ なども同様である。\n",
    "\n",
    "文脈から明らかである場合は適宜省略される。"
   ]
  },
  {
   "cell_type": "markdown",
   "metadata": {},
   "source": [
    "---\n",
    "### 1.2　最適化問題\n",
    "最適化問題の単純な例を一つ挙げる。\n",
    "\n",
    "【例題 1.1】　次の最大化問題を解け。ただし $a$ は定数である。\n",
    "\n",
    "\\begin{align*}\n",
    "&\\text{max.} \\hspace{5pt} -x_{1}x_{2} \\\\\n",
    "&\\text{s.t.} \\hspace{5pt} x_{1} - x_{2} -a = 0\n",
    "\\end{align*}\n",
    "\n",
    "【解答】\n",
    "\n",
    "　制約から $x_{2}=x_{1}-a$ とすると $-x_{1}x_{2}=-x_{1}^{2} + ax_{1}$ である。  \n",
    "　これを偏微分して０とおくと\n",
    "\n",
    "\\begin{align*}\n",
    "\\frac{\\partial (-x_{1}^{2} + ax_{1})}{\\partial x_{1}} = -2x_{1} + a = 0 \\\\\n",
    "\\therefore x_{1}=\\frac{a}{2} ,\\hspace{5pt} x_{2} = -\\frac{a}{2}\n",
    "\\end{align*}\n",
    "\n",
    "最適化したい関数をこの最適化問題の目的関数（objective function）、  \n",
    "最適値を与える変数値を最適解（optimal solution）という。\n",
    "\n",
    "一般に、最適化問題は次のように書かれる。\n",
    "\n",
    "\\begin{align*}\n",
    "\\hline\n",
    "&\\text{max.} \\hspace{5pt} &f(x) \\\\\n",
    "&\\text{s.t.} & g(x) \\leq 0 \\\\\n",
    "& & h(x) = 0. \\\\\n",
    "\\hline\n",
    "\\end{align*}\n",
    "\n",
    "ここで $f(x)$ が目的関数、$g(x) \\leq 0, h(x)=0$ が制約である。  \n",
    "特に $g(x)\\leq0$ を不等式制約（inequality constraint）、$h(x)=0$ を等式制約（equality constraint）と呼ぶ。\n",
    "\n",
    "また、制約を満たす解のことを実行可能解（feasible solution）、  \n",
    "実行可能解の集合を実行可能領域（feasible region）という。\n",
    "\n",
    "加減乗除や初等関数の合成関数による解の表し方を閉形式（closed-form）といい、  \n",
    "閉形式の解が得られる問題を解析的に解ける（analytically solvable）問題という。\n",
    "\n",
    "==\n",
    "\n",
    "本節では以降、凸計画問題（convex programming problem）と呼ばれる問題を取り扱う。  \n",
    "凸計画問題の解法の基本は、目的関数の値が改善する方向に進んでいくというものである。"
   ]
  },
  {
   "cell_type": "markdown",
   "metadata": {},
   "source": [
    "---\n",
    "#### 1.2.1　凸集合と凸関数\n"
   ]
  }
 ],
 "metadata": {
  "kernelspec": {
   "display_name": "Python 3",
   "language": "python",
   "name": "python3"
  },
  "language_info": {
   "codemirror_mode": {
    "name": "ipython",
    "version": 3
   },
   "file_extension": ".py",
   "mimetype": "text/x-python",
   "name": "python",
   "nbconvert_exporter": "python",
   "pygments_lexer": "ipython3",
   "version": "3.5.2"
  }
 },
 "nbformat": 4,
 "nbformat_minor": 2
}
