{
 "cells": [
  {
   "cell_type": "markdown",
   "metadata": {},
   "source": [
    "source:  \n",
    "[ゼロから作るDeep Learning ―― Pythonで学ぶディープラーニングの理論と実装](https://www.oreilly.co.jp/books/9784873117584/)  \n",
    "　斎藤 康毅　著  \n",
    "　2016年09月 発行  \n",
    "　ISBN978-4-87311-758-4  "
   ]
  },
  {
   "cell_type": "markdown",
   "metadata": {},
   "source": [
    "---\n",
    "###  ２章　パーセプトロン"
   ]
  },
  {
   "cell_type": "markdown",
   "metadata": {},
   "source": [
    "２入力１出力の１層パーセプトロンを考える。  \n",
    "入力を $x_{1}, x_{2}$ 、重みを $w_{1}, w_{2}$ 、出力を $y$ とする。  \n",
    "$y$ は入力の合計が閾値 $\\theta$ を超えた時に１、それ以外で０とする。  \n",
    "すなわち\n",
    "\n",
    "\\begin{align*}\n",
    "y = \\begin{cases}\n",
    "0 & (w_{1}x_{1}+w_{2}x_{2} \\le \\theta )\\\\\n",
    "1 & (w_{1}x_{1}+w_{2}x_{2} > \\theta )\n",
    "\\end{cases}　\\tag{1}\n",
    "\\end{align*}"
   ]
  },
  {
   "cell_type": "markdown",
   "metadata": {},
   "source": [
    "#### ANDゲート\n",
    "上記のパーセプトロンを用いてANDゲートを作成する。   \n",
    "真理値表は次の通り。\n",
    "\n",
    "$x_{1}$ | $x_{2}$ | $y$\n",
    "---|---|---\n",
    "0|0|0\n",
    "1|0|0\n",
    "0|1|0\n",
    "1|1|1\n",
    "\n",
    "例えば $(w_{1}, w_{2}, \\theta) = (0.5, 0.5, 0.9)$ はこれを満たす。"
   ]
  },
  {
   "cell_type": "markdown",
   "metadata": {},
   "source": [
    "#### NANDゲート\n",
    "同様に、NANDゲートの真理値表は次のようになる。\n",
    "\n",
    "$x_{1}$ | $x_{2}$ | $y$\n",
    "---|---|---\n",
    "0|0|1\n",
    "1|0|1\n",
    "0|1|1\n",
    "1|1|0\n",
    "\n",
    "これの解としては $(w_{1}, w_{2}, \\theta) = (-1, -1, -1.5)$ などがある。"
   ]
  },
  {
   "cell_type": "markdown",
   "metadata": {},
   "source": [
    "#### ORゲート\n",
    "ORゲートの真理値表は次のようになる。\n",
    "\n",
    "$x_{1}$ | $x_{2}$ | $y$\n",
    "---|---|---\n",
    "0|0|0\n",
    "1|0|1\n",
    "0|1|1\n",
    "1|1|1\n",
    "\n",
    "解の１つは $(w_{1}, w_{2}, \\theta) = (1, 1, 0.5)$ 。"
   ]
  },
  {
   "cell_type": "markdown",
   "metadata": {},
   "source": [
    "#### 実装\n",
    "式(1)を次のように変形して、 $b=-\\theta$ とする。\n",
    "\n",
    "\\begin{align*}\n",
    "y &= \\begin{cases}\n",
    "0 & (w_{1}x_{1}+w_{2}x_{2}-\\theta \\le 0 )\\\\\n",
    "1 & (w_{1}x_{1}+w_{2}x_{2}-\\theta > 0 )\n",
    "\\end{cases} \\\\\n",
    "&= \\begin{cases}\n",
    "0 & (w_{1}x_{1}+w_{2}x_{2}+b \\le 0 )\\\\\n",
    "1 & (w_{1}x_{1}+w_{2}x_{2}+b > 0 )\n",
    "\\end{cases}　\\tag{2}\n",
    "\\end{align*}"
   ]
  },
  {
   "cell_type": "code",
   "execution_count": 1,
   "metadata": {
    "scrolled": true
   },
   "outputs": [
    {
     "data": {
      "text/html": [
       "<div>\n",
       "<style>\n",
       "    .dataframe thead tr:only-child th {\n",
       "        text-align: right;\n",
       "    }\n",
       "\n",
       "    .dataframe thead th {\n",
       "        text-align: left;\n",
       "    }\n",
       "\n",
       "    .dataframe tbody tr th {\n",
       "        vertical-align: top;\n",
       "    }\n",
       "</style>\n",
       "<table border=\"1\" class=\"dataframe\">\n",
       "  <thead>\n",
       "    <tr style=\"text-align: right;\">\n",
       "      <th></th>\n",
       "      <th>x1,x2</th>\n",
       "      <th>AND</th>\n",
       "      <th>NAND</th>\n",
       "      <th>OR</th>\n",
       "    </tr>\n",
       "  </thead>\n",
       "  <tbody>\n",
       "    <tr>\n",
       "      <th>0</th>\n",
       "      <td>(0, 0)</td>\n",
       "      <td>0</td>\n",
       "      <td>1</td>\n",
       "      <td>0</td>\n",
       "    </tr>\n",
       "    <tr>\n",
       "      <th>1</th>\n",
       "      <td>(1, 0)</td>\n",
       "      <td>0</td>\n",
       "      <td>1</td>\n",
       "      <td>1</td>\n",
       "    </tr>\n",
       "    <tr>\n",
       "      <th>2</th>\n",
       "      <td>(0, 1)</td>\n",
       "      <td>0</td>\n",
       "      <td>1</td>\n",
       "      <td>1</td>\n",
       "    </tr>\n",
       "    <tr>\n",
       "      <th>3</th>\n",
       "      <td>(1, 1)</td>\n",
       "      <td>1</td>\n",
       "      <td>0</td>\n",
       "      <td>1</td>\n",
       "    </tr>\n",
       "  </tbody>\n",
       "</table>\n",
       "</div>"
      ],
      "text/plain": [
       "    x1,x2 AND NAND OR\n",
       "0  (0, 0)   0    1  0\n",
       "1  (1, 0)   0    1  1\n",
       "2  (0, 1)   0    1  1\n",
       "3  (1, 1)   1    0  1"
      ]
     },
     "execution_count": 1,
     "metadata": {},
     "output_type": "execute_result"
    }
   ],
   "source": [
    "import numpy as np\n",
    "import pandas as pd\n",
    "\n",
    "class Perceptron_one_layer(object):\n",
    "    def __init__(self,w,b):\n",
    "        self.w, self.b = np.array(w), np.array(b)\n",
    "    def output(self, x):\n",
    "        input_sig = sum(self.w*x) + self.b\n",
    "        output_sig = 0 if input_sig<=0 else 1\n",
    "        return output_sig\n",
    "    \n",
    "AND_gate = Perceptron_one_layer((0.5, 0.5), -0.9)\n",
    "NAND_gate = Perceptron_one_layer((-1,-1),1.5)\n",
    "OR_gate = Perceptron_one_layer((1,1),-0.5)\n",
    "\n",
    "\n",
    "inputs = [(0,0), (1,0), (0,1), (1,1)]\n",
    "record = []\n",
    "for i in inputs:\n",
    "    r = i, AND_gate.output(i), NAND_gate.output(i), OR_gate.output(i)\n",
    "    record.append(r)\n",
    "\n",
    "df = pd.DataFrame(np.array(record), columns=[\"x1,x2\",\"AND\",\"NAND\",\"OR\"])\n",
    "df"
   ]
  },
  {
   "cell_type": "code",
   "execution_count": 2,
   "metadata": {
    "scrolled": false
   },
   "outputs": [
    {
     "data": {
      "image/png": "[encoded data removed]",
      "text/plain": [
       "<matplotlib.figure.Figure at 0x7f2d865d16d8>"
      ]
     },
     "metadata": {},
     "output_type": "display_data"
    }
   ],
   "source": [
    "import matplotlib.pyplot as plt\n",
    "\n",
    "def cal_line(w1,w2,b,x):\n",
    "    y = []\n",
    "    for i in x:\n",
    "        y.append((-w1*i - b)/w2)\n",
    "    return np.array(y)\n",
    "\n",
    "def draw_point(gate,x1,x2):\n",
    "    marker = \"+\" if gate.output((x1,x2))==1 else \"^\"\n",
    "    #print(x1,x2,marker)\n",
    "    return marker\n",
    "    \n",
    "def draw_graph(w1,w2,b,ax,name=\"\"):\n",
    "    x = np.arange(-3,3,0.01)\n",
    "    y = cal_line(w1,w2,b,x)\n",
    "    gate = Perceptron_one_layer((w1,w2),b)\n",
    "    ax.plot(x,y,color=\"k\")\n",
    "    \n",
    "    for point in [(0,0),(1,0),(0,1),(1,1)]:\n",
    "        ax.scatter(point[0],point[1],color=\"black\",marker = draw_point(gate,point[0],point[1]),s=60)\n",
    "    ax.axhline(0,-3,3, alpha=.5)\n",
    "    ax.axvline(0,-3,3, alpha=.5)\n",
    "    facecolor = [\"y\",\"b\"] if gate.output((1,1))==1 else [\"b\",\"y\"]\n",
    "\n",
    "    up_line=np.ones(x.shape)*2\n",
    "    down_line=np.ones(x.shape)* -2\n",
    "    ax.fill_between(x,y,up_line,facecolor=facecolor[0], alpha=.5)\n",
    "    ax.fill_between(x,y,down_line,facecolor=facecolor[1], alpha=.5)\n",
    "    \n",
    "    ax.set_xlim(-1,2)\n",
    "    ax.set_ylim(-1,2)\n",
    "    ax.set_xlabel(\"x1\")\n",
    "    ax.set_ylabel(\"x2\")\n",
    "    ax.set_title(name)\n",
    "    \n",
    "fig,((ax1,ax2),(ax3,ax4))=plt.subplots(2,2,figsize=(8,8))\n",
    "draw_graph(0.5,0.5,-0.9,ax1,\"AND gate\")\n",
    "draw_graph(-1,-1,1.5,ax2,\"NAND gate\")\n",
    "draw_graph(1,1,-0.5,ax3,\"OR gate\")\n",
    "\n",
    "for x,y in [(0,0),(1,0),(0,1),(1,1)]:\n",
    "    ax4.scatter(x,y,color=\"black\",marker = \"^\" if x==y else \"+\", s=60)\n",
    "ax4.set_xlim(-1,2)\n",
    "ax4.set_ylim(-1,2)\n",
    "ax4.set_xlabel(\"x1\")\n",
    "ax4.set_ylabel(\"x2\")\n",
    "ax4.set_title(\"XOR gate\")\n",
    "\n",
    "plt.tight_layout()\n",
    "plt.show()"
   ]
  },
  {
   "cell_type": "markdown",
   "metadata": {},
   "source": [
    "上のグラフで、  \n",
    "　$+$ および黄色の領域は $w_{1}x_{1}+w_{2}x_{2}-\\theta > 0$、  \n",
    "　$\\triangle$ および青色の領域は $w_{1}x_{1}+w_{2}x_{2}-\\theta \\le 0$ である。"
   ]
  },
  {
   "cell_type": "markdown",
   "metadata": {},
   "source": [
    "---"
   ]
  },
  {
   "cell_type": "markdown",
   "metadata": {},
   "source": [
    "#### XORゲート\n",
    "XORゲートの真理値表は次のようになる。  \n",
    "\n",
    "$x_{1}$ | $x_{2}$ | $y$\n",
    "---|---|---\n",
    "0|0|0\n",
    "1|0|1\n",
    "0|1|1\n",
    "1|1|0\n",
    "\n",
    "これを上記３種のゲートのように、１層パーセプトロンによって実装することはできない。  \n",
    "（XOR gateのグラフに表示されているマーカー２種を、１本の直線によって分離することができない）  "
   ]
  },
  {
   "cell_type": "markdown",
   "metadata": {},
   "source": [
    "<実装>  \n",
    "　AND、NAND、ORのゲートを組み合わせて実装する。  \n",
    "　これは２層のパーセプトロンとなる。  "
   ]
  },
  {
   "cell_type": "code",
   "execution_count": 3,
   "metadata": {
    "scrolled": true
   },
   "outputs": [
    {
     "data": {
      "text/html": [
       "<div>\n",
       "<style>\n",
       "    .dataframe thead tr:only-child th {\n",
       "        text-align: right;\n",
       "    }\n",
       "\n",
       "    .dataframe thead th {\n",
       "        text-align: left;\n",
       "    }\n",
       "\n",
       "    .dataframe tbody tr th {\n",
       "        vertical-align: top;\n",
       "    }\n",
       "</style>\n",
       "<table border=\"1\" class=\"dataframe\">\n",
       "  <thead>\n",
       "    <tr style=\"text-align: right;\">\n",
       "      <th></th>\n",
       "      <th>x1,x2</th>\n",
       "      <th>XOR</th>\n",
       "    </tr>\n",
       "  </thead>\n",
       "  <tbody>\n",
       "    <tr>\n",
       "      <th>0</th>\n",
       "      <td>(0, 0)</td>\n",
       "      <td>0</td>\n",
       "    </tr>\n",
       "    <tr>\n",
       "      <th>1</th>\n",
       "      <td>(1, 0)</td>\n",
       "      <td>1</td>\n",
       "    </tr>\n",
       "    <tr>\n",
       "      <th>2</th>\n",
       "      <td>(0, 1)</td>\n",
       "      <td>1</td>\n",
       "    </tr>\n",
       "    <tr>\n",
       "      <th>3</th>\n",
       "      <td>(1, 1)</td>\n",
       "      <td>0</td>\n",
       "    </tr>\n",
       "  </tbody>\n",
       "</table>\n",
       "</div>"
      ],
      "text/plain": [
       "    x1,x2 XOR\n",
       "0  (0, 0)   0\n",
       "1  (1, 0)   1\n",
       "2  (0, 1)   1\n",
       "3  (1, 1)   0"
      ]
     },
     "execution_count": 3,
     "metadata": {},
     "output_type": "execute_result"
    }
   ],
   "source": [
    "import numpy as np\n",
    "import pandas as pd\n",
    "\n",
    "AND_gate = Perceptron_one_layer((0.5, 0.5), -0.9)\n",
    "NAND_gate = Perceptron_one_layer((-1,-1),1.5)\n",
    "OR_gate = Perceptron_one_layer((1,1),-0.5)\n",
    "\n",
    "def XOR(x):\n",
    "    output_1 = NAND_gate.output((x[0],x[1])) , OR_gate.output((x[0],x[1]))\n",
    "    return(AND_gate.output(output_1))\n",
    "\n",
    "inputs = [(0,0), (1,0), (0,1), (1,1)]\n",
    "record = []\n",
    "for i in inputs:\n",
    "    r = i, XOR(i)\n",
    "    record.append(r)\n",
    "\n",
    "df = pd.DataFrame(np.array(record), columns=[\"x1,x2\",\"XOR\"])\n",
    "df"
   ]
  },
  {
   "cell_type": "markdown",
   "metadata": {},
   "source": [
    "---\n",
    "###  3章　ニューラルネットワーク"
   ]
  },
  {
   "cell_type": "markdown",
   "metadata": {},
   "source": [
    "入力n個、出力1個の１層パーセプトロンを考える。  \n",
    "入力を $X = (x_{1}, x_{2},\\dots, x_{n})$、重みを $W = (w_{1}, w_{2}, \\dots, w_{n})$、バイアスを $b$、出力を $y$ と表記する。  \n",
    "　（ここで $X$、$W$ は列ベクトル）  \n",
    "また、出力ノードへの入力値を $a$、活性化関数を $h$ とする。  \n",
    "  \n",
    "このとき、  \n",
    "\\begin{align*}\n",
    "a &= W^{\\mathrm{T}}X + b \\\\\n",
    "y &= h(a)\n",
    "\\end{align*}\n",
    "である。"
   ]
  },
  {
   "cell_type": "markdown",
   "metadata": {},
   "source": [
    "よく用いられる活性化関数の１つは、シグモイド関数である。  \n",
    "\\begin{align*}\n",
    "h(x) = \\frac{1}{1 + \\exp(-x)}\n",
    "\\end{align*}"
   ]
  },
  {
   "cell_type": "code",
   "execution_count": 4,
   "metadata": {
    "scrolled": false
   },
   "outputs": [
    {
     "data": {
      "image/png": "[encoded data removed]",
      "text/plain": [
       "<matplotlib.figure.Figure at 0x7f2d80136a20>"
      ]
     },
     "metadata": {},
     "output_type": "display_data"
    }
   ],
   "source": [
    "import numpy as np\n",
    "import matplotlib.pyplot as plt\n",
    "from math import log\n",
    "\n",
    "def sigmoid(x):\n",
    "    #sigmoid_range = log((1 - 10**(-15))/10**(-15)) # 浮動小数点エラー対策\n",
    "    #if x <= -sigmoid_range:\n",
    "    #    return 1e-15\n",
    "    #if x >= sigmoid_range:\n",
    "    #    return 1.0 - 1e-15\n",
    "    return 1.0 / (1.0 + np.exp(-x))\n",
    "    \n",
    "x = np.arange(-10,10,0.01)\n",
    "y = sigmoid(x)\n",
    "plt.figure(figsize=(4,3))\n",
    "plt.plot(x,y)\n",
    "plt.show()"
   ]
  },
  {
   "cell_type": "markdown",
   "metadata": {},
   "source": [
    "他の例として、ReLU (Rectified Linear Unit)がある。\n",
    "\\begin{align*}\n",
    "h(x) = \\begin{cases}\n",
    "x & (x>0) \\\\\n",
    "0 & (x \\leq0)\n",
    "\\end{cases}\n",
    "\\end{align*}"
   ]
  },
  {
   "cell_type": "code",
   "execution_count": 5,
   "metadata": {
    "scrolled": true
   },
   "outputs": [
    {
     "data": {
      "image/png": "[encoded data removed]",
      "text/plain": [
       "<matplotlib.figure.Figure at 0x7f2d4577e7b8>"
      ]
     },
     "metadata": {},
     "output_type": "display_data"
    }
   ],
   "source": [
    "import numpy as np\n",
    "import matplotlib.pyplot as plt\n",
    "\n",
    "def relu(x):\n",
    "    output = np.piecewise(x, [x<=0, x>0], [0, lambda x:x])\n",
    "    return output\n",
    "\n",
    "x = np.arange(-10,10,0.01)\n",
    "y = relu(x)\n",
    "plt.figure(figsize=(4,3))\n",
    "plt.plot(x,y)\n",
    "plt.show()"
   ]
  },
  {
   "cell_type": "markdown",
   "metadata": {},
   "source": [
    "---\n",
    "１層パーセプトロンを入力n個、出力m個に拡張し、出力を $Y = (y_{1}, y_{2}, \\dots, y_{m})$ と表す。  \n",
    "このときそれぞれの出力について  \n",
    "\n",
    "\\begin{align*}\n",
    "a_{i} &= W^{\\mathrm{T}}_{i}X + b_{i} \\\\\n",
    "y_{i} &= h(a_{i})\n",
    "\\end{align*}\n",
    "\n",
    "の計算を行うので、全体としての重みWは $(n\\times m)$ 行列、バイアス $b$ は列ベクトルとなる。    "
   ]
  },
  {
   "cell_type": "code",
   "execution_count": 6,
   "metadata": {},
   "outputs": [
    {
     "name": "stdout",
     "output_type": "stream",
     "text": [
      "[32 42]\n",
      "[32 42]\n"
     ]
    }
   ],
   "source": [
    "import numpy as np\n",
    "\n",
    "def relu(x):\n",
    "    output = np.piecewise(x, [x<=0, x>0], [0, lambda x:x])\n",
    "    return np.array(output)\n",
    "\n",
    "class Perceptron_layer(object):\n",
    "    def __init__(self,input_size, output_size, W=None, b=None, initial_v=1e-4):\n",
    "        self.W = np.random.rand(input_size, output_size) * initial_v if W is None else W\n",
    "        self.b = np.zeros(output_size) if b is None else b\n",
    "        \n",
    "    def output(self, X):\n",
    "        return np.dot(self.W.transpose(),X) + self.b\n",
    "        \n",
    "\n",
    "# 検算用\n",
    "layer_1 = Perceptron_layer(3,2,W=np.array([[1,2],[3,4],[5,6]]),b=np.array([1,2]))\n",
    "output_1 = layer_1.output(np.array([2,3,4]).transpose())\n",
    "print(output_1)\n",
    "print(relu(output_1))"
   ]
  },
  {
   "cell_type": "markdown",
   "metadata": {},
   "source": [
    "本の記述に従った値と構成を用いて、3層のパーセプトロンを実装する。\n",
    "\n",
    "層|入力数|出力数|活性化関数\n",
    ":-:|:-:|:-:|:---\n",
    "1|2|3|Sigmoid\n",
    "2|3|2|Sigmoid\n",
    "3|2|2|Identity function"
   ]
  },
  {
   "cell_type": "code",
   "execution_count": 7,
   "metadata": {},
   "outputs": [
    {
     "name": "stdout",
     "output_type": "stream",
     "text": [
      "[ 0.31682708  0.69627909]\n"
     ]
    }
   ],
   "source": [
    "W1 = np.array([[0.1, 0.3, 0.5], [0.2, 0.4, 0.6]])\n",
    "b1 = np.array([0.1, 0.2, 0.3])\n",
    "W2 = np.array([[0.1, 0.4], [0.2, 0.5], [0.3, 0.6]])\n",
    "b2 = np.array([0.1, 0.2])\n",
    "W3 = np.array([[0.1, 0.3], [0.2, 0.4]])\n",
    "b3 = np.array([0.1, 0.2])\n",
    "\n",
    "layer_1 = Perceptron_layer(2,3,W1,b1)\n",
    "layer_2 = Perceptron_layer(3,2,W2,b2)\n",
    "layer_3 = Perceptron_layer(2,2,W3,b3)\n",
    "\n",
    "def sigmoid(x):\n",
    "    return 1.0 / (1.0 + np.exp(-x))\n",
    "\n",
    "def forward(X):\n",
    "    output_1 = sigmoid(layer_1.output(X))\n",
    "    output_2 = sigmoid(layer_2.output(output_1))\n",
    "    output_3 = layer_3.output(output_2)\n",
    "    return output_3\n",
    "\n",
    "\n",
    "X = np.array([1.0,0.5])\n",
    "Y = forward(X)\n",
    "print(Y)"
   ]
  }
 ],
 "metadata": {
  "kernelspec": {
   "display_name": "Python 3",
   "language": "python",
   "name": "python3"
  },
  "language_info": {
   "codemirror_mode": {
    "name": "ipython",
    "version": 3
   },
   "file_extension": ".py",
   "mimetype": "text/x-python",
   "name": "python",
   "nbconvert_exporter": "python",
   "pygments_lexer": "ipython3",
   "version": "3.6.1"
  }
 },
 "nbformat": 4,
 "nbformat_minor": 2
}
