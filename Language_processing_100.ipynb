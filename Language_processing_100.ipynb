{
 "cells": [
  {
   "cell_type": "markdown",
   "metadata": {},
   "source": [
    "# 言語処理100本ノック 2015\n",
    "乾・岡崎研究室の[言語処理100本ノック 2015](http://www.cl.ecei.tohoku.ac.jp/nlp100/)を解答します"
   ]
  },
  {
   "cell_type": "markdown",
   "metadata": {},
   "source": [
    "---\n",
    "### 準備  \n",
    "　・[MeCab](http://taku910.github.io/mecab/)、[mecab-python3](https://pypi.python.org/pypi/mecab-python3)を使用します  \n",
    "  \n",
    "　・MeCabのインストール：必要なら以下を実行、Ubuntu用  \n",
    "\n",
    "```\n",
    "sudo apt-get update && apt-get -y install libmecab-dev mecab mecab-ipadic mecab-ipadic-utf8 mecab-utils\n",
    "pip3 install mecab-python3\n",
    "```"
   ]
  },
  {
   "cell_type": "code",
   "execution_count": 1,
   "metadata": {},
   "outputs": [
    {
     "name": "stdout",
     "output_type": "stream",
     "text": [
      "言語\t名詞,一般,*,*,*,*,言語,ゲンゴ,ゲンゴ\n",
      ",\t名詞,サ変接続,*,*,*,*,*\n",
      "辞書\t名詞,一般,*,*,*,*,辞書,ジショ,ジショ\n",
      ",\t名詞,サ変接続,*,*,*,*,*\n",
      "コーパス\t名詞,一般,*,*,*,*,コーパス,コーパス,コーパス\n",
      "に\t助詞,格助詞,一般,*,*,*,に,ニ,ニ\n",
      "依存\t名詞,サ変接続,*,*,*,*,依存,イゾン,イゾン\n",
      "し\t動詞,自立,*,*,サ変・スル,未然形,する,シ,シ\n",
      "ない\t助動詞,*,*,*,特殊・ナイ,基本形,ない,ナイ,ナイ\n",
      "汎用\t名詞,一般,*,*,*,*,汎用,ハンヨウ,ハンヨー\n",
      "的\t名詞,接尾,形容動詞語幹,*,*,*,的,テキ,テキ\n",
      "な\t助動詞,*,*,*,特殊・ダ,体言接続,だ,ナ,ナ\n",
      "設計\t名詞,サ変接続,*,*,*,*,設計,セッケイ,セッケイ\n",
      "を\t助詞,格助詞,一般,*,*,*,を,ヲ,ヲ\n",
      "基本\t名詞,一般,*,*,*,*,基本,キホン,キホン\n",
      "方針\t名詞,一般,*,*,*,*,方針,ホウシン,ホーシン\n",
      "と\t助詞,格助詞,一般,*,*,*,と,ト,ト\n",
      "し\t動詞,自立,*,*,サ変・スル,連用形,する,シ,シ\n",
      "て\t助詞,接続助詞,*,*,*,*,て,テ,テ\n",
      "い\t動詞,非自立,*,*,一段,連用形,いる,イ,イ\n",
      "ます\t助動詞,*,*,*,特殊・マス,基本形,ます,マス,マス\n",
      "。\t記号,句点,*,*,*,*,。,。,。\n",
      "EOS\n",
      "\n"
     ]
    }
   ],
   "source": [
    "import MeCab as mecab\n",
    "\n",
    "mt = mecab.Tagger(\"mecabrc\")\n",
    "text = \"言語, 辞書,コーパスに依存しない汎用的な設計を基本方針としています。\"\n",
    "print(mt.parse(text))"
   ]
  },
  {
   "cell_type": "markdown",
   "metadata": {},
   "source": [
    "---\n",
    "### 第１章　準備運動"
   ]
  },
  {
   "cell_type": "markdown",
   "metadata": {},
   "source": [
    "#### 00.文字列の逆順"
   ]
  },
  {
   "cell_type": "code",
   "execution_count": 6,
   "metadata": {},
   "outputs": [
    {
     "name": "stdout",
     "output_type": "stream",
     "text": [
      "desserts\n"
     ]
    }
   ],
   "source": [
    "print(\"stressed\"[::-1])"
   ]
  },
  {
   "cell_type": "markdown",
   "metadata": {},
   "source": [
    "#### 01.「パタトクカシーー」の奇数番目の文字を抽出する"
   ]
  },
  {
   "cell_type": "code",
   "execution_count": 13,
   "metadata": {
    "scrolled": true
   },
   "outputs": [
    {
     "name": "stdout",
     "output_type": "stream",
     "text": [
      "odd :  パトカー\n",
      "even :  タクシー\n"
     ]
    }
   ],
   "source": [
    "print(\"odd : \",\"パタトクカシーー\"[0::2])\n",
    "print(\"even : \",\"パタトクカシーー\"[1::2])"
   ]
  },
  {
   "cell_type": "markdown",
   "metadata": {},
   "source": [
    "#### 02.「パトカー」と「タクシー」の文字を先頭から交互に連結する"
   ]
  },
  {
   "cell_type": "code",
   "execution_count": 9,
   "metadata": {},
   "outputs": [
    {
     "name": "stdout",
     "output_type": "stream",
     "text": [
      "パタトクカシーー\n"
     ]
    }
   ],
   "source": [
    "# Answer 1\n",
    "l=\"\"\n",
    "for a,b in zip(\"パトカー\",\"タクシー\"):\n",
    "    l += a+b\n",
    "print(l)"
   ]
  },
  {
   "cell_type": "code",
   "execution_count": 8,
   "metadata": {},
   "outputs": [
    {
     "data": {
      "text/plain": [
       "'パタトクカシーー'"
      ]
     },
     "execution_count": 8,
     "metadata": {},
     "output_type": "execute_result"
    }
   ],
   "source": [
    "# Answer 2\n",
    "''.join([a+b for a,b in zip(\"パトカー\",\"タクシー\")])"
   ]
  },
  {
   "cell_type": "markdown",
   "metadata": {},
   "source": [
    "#### 03.与えられた文を単語に分割し、文字数を出現順に並べたリストを作成する"
   ]
  },
  {
   "cell_type": "code",
   "execution_count": 20,
   "metadata": {},
   "outputs": [
    {
     "name": "stdout",
     "output_type": "stream",
     "text": [
      "Now I need a drink alcoholic of course after the heavy lectures involving quantum mechanics\n",
      "['Now', 'I', 'need', 'a', 'drink', 'alcoholic', 'of', 'course', 'after', 'the', 'heavy', 'lectures', 'involving', 'quantum', 'mechanics']\n",
      "[3, 1, 4, 1, 5, 9, 2, 6, 5, 3, 5, 8, 9, 7, 9]\n"
     ]
    }
   ],
   "source": [
    "import re\n",
    "\n",
    "text  =\"Now I need a drink, alcoholic of course, after the heavy lectures involving quantum mechanics.\"\n",
    "text_replaced = re.sub(r'[,.]', '', text)\n",
    "words = text_replaced.split(\" \")\n",
    "letter_count = list(map(len, words))\n",
    "\n",
    "print(text_replaced)\n",
    "print(words)\n",
    "print(letter_count)"
   ]
  },
  {
   "cell_type": "markdown",
   "metadata": {},
   "source": [
    "#### 04.文中の単語から文字を取り出し、単語の位置への連想配列を作成する"
   ]
  },
  {
   "cell_type": "code",
   "execution_count": 27,
   "metadata": {
    "scrolled": true
   },
   "outputs": [
    {
     "name": "stdout",
     "output_type": "stream",
     "text": [
      "{'H': 1, 'He': 2, 'Li': 3, 'Be': 4, 'B': 5, 'C': 6, 'N': 7, 'O': 8, 'F': 9, 'Ne': 10, 'Na': 11, 'Mi': 12, 'Al': 13, 'Si': 14, 'P': 15, 'S': 16, 'Cl': 17, 'Ar': 18, 'K': 19, 'Ca': 20}\n"
     ]
    }
   ],
   "source": [
    "text = \"Hi He Lied Because Boron Could Not Oxidize Fluorine. New Nations Might Also Sign Peace Security Clause. Arthur King Can.\"\n",
    "one=[1,5,6,7,8,9,15,16,19]\n",
    "associative_array = {}\n",
    "\n",
    "for i,word in enumerate(text.split(\" \")):\n",
    "    w = word[:1] if i+1 in one else word[:2]\n",
    "    associative_array[w]=i+1\n",
    "\n",
    "print(associative_array)"
   ]
  },
  {
   "cell_type": "markdown",
   "metadata": {},
   "source": [
    "---\n",
    "WIP"
   ]
  },
  {
   "cell_type": "code",
   "execution_count": null,
   "metadata": {
    "collapsed": true
   },
   "outputs": [],
   "source": []
  }
 ],
 "metadata": {
  "kernelspec": {
   "display_name": "Python 3",
   "language": "python",
   "name": "python3"
  },
  "language_info": {
   "codemirror_mode": {
    "name": "ipython",
    "version": 3
   },
   "file_extension": ".py",
   "mimetype": "text/x-python",
   "name": "python",
   "nbconvert_exporter": "python",
   "pygments_lexer": "ipython3",
   "version": "3.6.1"
  }
 },
 "nbformat": 4,
 "nbformat_minor": 2
}
