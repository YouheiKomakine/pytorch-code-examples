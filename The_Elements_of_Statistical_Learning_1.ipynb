{
 "cells": [
  {
   "cell_type": "markdown",
   "metadata": {},
   "source": [
    "## 統計的学習の基礎　データマイニング・推論・予測\n",
    ">原著　The Elements of Statistical Learning Data Mining, Inference, and Prediction 2nd ed. (Springer, 2009)  \n",
    "著者　Trevor Hastie, Robert Tivshirani, Jerome Friedman  \n",
    "監訳　杉山将　ほか  \n",
    "発行　共立出版,  2014年06月  \n",
    "ISBN　978-4-320-12362-5  \n",
    "  \n",
    "[Official Site](https://web.stanford.edu/~hastie/ElemStatLearn/)  \n",
    "  \n",
    "このnotebookでは初版4刷を使って学習する。  "
   ]
  },
  {
   "cell_type": "markdown",
   "metadata": {},
   "source": [
    "---\n",
    "WIP"
   ]
  },
  {
   "cell_type": "markdown",
   "metadata": {},
   "source": [
    "---\n",
    "## 第1章　序章\n"
   ]
  },
  {
   "cell_type": "markdown",
   "metadata": {},
   "source": [
    "---\n",
    "## 第2章　教師あり学習の概要\n",
    "\n",
    "### 導入\n",
    "\n",
    "### 変数の種類と用語\n",
    "\n",
    "### 予測のための2つの簡単なアプローチ：最小二乗法と最近傍法\n",
    "\n",
    "### "
   ]
  }
 ],
 "metadata": {
  "kernelspec": {
   "display_name": "Python 3",
   "language": "python",
   "name": "python3"
  },
  "language_info": {
   "codemirror_mode": {
    "name": "ipython",
    "version": 3
   },
   "file_extension": ".py",
   "mimetype": "text/x-python",
   "name": "python",
   "nbconvert_exporter": "python",
   "pygments_lexer": "ipython3",
   "version": "3.5.4"
  }
 },
 "nbformat": 4,
 "nbformat_minor": 2
}
