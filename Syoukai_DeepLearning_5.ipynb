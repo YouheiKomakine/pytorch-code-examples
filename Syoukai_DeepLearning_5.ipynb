{
 "cells": [
  {
   "cell_type": "markdown",
   "metadata": {},
   "source": [
    "#### [詳解ディープラーニング　TensorFlow・Kerasによる時系列データ処理](https://book.mynavi.jp/ec/products/detail/id=72995)\n",
    "　巣籠悠輔 著  \n",
    "  \n",
    "support site : [https://book.mynavi.jp/supportsite/detail/9784839962517.html](https://book.mynavi.jp/supportsite/detail/9784839962517.html)  \n",
    "github : [yusugomori/deeplearning-tensorflow-keras](https://github.com/yusugomori/deeplearning-tensorflow-keras) \n"
   ]
  },
  {
   "cell_type": "markdown",
   "metadata": {},
   "source": [
    "---\n",
    "## 第５章　リカレントニューラルネットワーク"
   ]
  },
  {
   "cell_type": "markdown",
   "metadata": {},
   "source": [
    "与えられた時系列データから未来の値ををニューラルネットワークで予測することを考える。\n",
    "\n",
    "単純な時系列データとして、時刻tの値がf(t)である以下のようなsin波を考える。\n",
    "\n",
    "\\begin{align*}\n",
    "f(t) &= \\sin \\left( \\frac{2 \\pi}{T}t \\right) & (t=1,\\dots, 2T)\n",
    "\\end{align*}\n",
    "\n",
    "さらにノイズとして、-1から+1までの値を取る一様分布Uに従う確率変数uの0.05倍を加え、観測値とする。"
   ]
  },
  {
   "cell_type": "code",
   "execution_count": 13,
   "metadata": {},
   "outputs": [
    {
     "data": {
      "image/png": "[encoded data removed]",
      "text/plain": [
       "<matplotlib.figure.Figure at 0x10dbdb710>"
      ]
     },
     "metadata": {},
     "output_type": "display_data"
    }
   ],
   "source": [
    "import numpy as np\n",
    "import matplotlib.pyplot as plt\n",
    "\n",
    "T = 100\n",
    "X = np.arange(0, 2*T, 1.)\n",
    "Y = np.sin(X * np.pi * 2 / T)\n",
    "Yu = Y + 0.05 * np.random.uniform(-1., 1., X.size)\n",
    "\n",
    "plt.plot(X, Y, alpha=1.0, color='orange', label='ground truth')\n",
    "plt.plot(X, Yu, alpha=0.3, color='blue', label='observed value')\n",
    "plt.xticks([0,T,2*T],[\"0\",\"T\",\"2T\"])\n",
    "plt.legend()\n",
    "plt.show()"
   ]
  },
  {
   "cell_type": "markdown",
   "metadata": {},
   "source": [
    "---\n",
    "### 過去の状態を保持する隠れ層"
   ]
  },
  {
   "cell_type": "markdown",
   "metadata": {},
   "source": [
    "時系列データでは各タイムステップのデータに相関があることから  \n",
    "隠れ層１層を含む３層ニューラルネットワークについて  \n",
    "前タイムステップにおける隠れ層の情報を隠れ層自身に入力して時系列データに適応させることを考える。  \n",
    "  \n",
    "入力層から隠れ層への入力の重みと活性化関数をそれぞれU、f、隠れ層から出力層への重みと活性化関数をV、g、  \n",
    "隠れ層から隠れ層自身への重みをWとする。  \n",
    "このとき隠れ層の出力 $h(t)$ は  \n",
    "\n",
    "\\begin{align*}\n",
    "\\mathbf{h}(t) = f(U\\mathbf{x}(t) + W\\mathbf{h}(t-1) + \\mathbf{b})\n",
    "\\end{align*}\n",
    "\n",
    "出力層の出力 $y(t)$ は\n",
    "\n",
    "\\begin{align*}\n",
    "y(t) = g(V\\mathbf{h}(t) + \\mathbf{c})\n",
    "\\end{align*}\n",
    "\n",
    "と表される。"
   ]
  },
  {
   "cell_type": "markdown",
   "metadata": {},
   "source": [
    "隠れ層、出力層にて活性化関数へ入力される重み付き和をそれぞれ $\\mathbf{p}(t), \\mathbf{q}(t)$ とする。\n",
    "\n",
    "\\begin{align*}\n",
    "\\mathbf{p}(t) :=& U\\mathbf{x}(t) + W\\mathbf{h}(t-1) + \\mathbf{b} \\\\\n",
    "\\mathbf{q}(t) :=& V\\mathbf{h}(t) + \\mathbf{c}\n",
    "\\end{align*}"
   ]
  },
  {
   "cell_type": "markdown",
   "metadata": {
    "collapsed": true
   },
   "source": [
    "このとき、隠れ層および出力層における誤差項\n",
    "\n",
    "\\begin{align*}\n",
    "\\mathbf{e}_{h}(t) :=& \\frac{\\partial E}{\\partial \\mathbf{p}(t)} \\\\\n",
    "\\mathbf{e}_{o}(t) :=& \\frac{\\partial E}{\\partial \\mathbf{q}(t)}\n",
    "\\end{align*}\n",
    "\n",
    "に対して\n",
    "\n",
    "\\begin{align*}\n",
    "\\frac{\\partial E}{\\partial U} & = \\frac{\\partial E}{\\partial \\mathbf{p}(t)} \\left( \\frac{\\partial \\mathbf{p}(t)}{\\partial U} \\right)^{T} & = \\mathbf{e}_{h}(t)\\mathbf{x}(t)^{T} \\\\\n",
    "\\frac{\\partial E}{\\partial V} & = \\frac{\\partial E}{\\partial \\mathbf{q}(t)} \\left( \\frac{\\partial \\mathbf{q}(t)}{\\partial U} \\right)^{T} & = \\mathbf{e}_{o}(t)\\mathbf{h}(t)^{T} \\\\\n",
    "\\frac{\\partial E}{\\partial W} & = \\frac{\\partial E}{\\partial \\mathbf{p}(t)} \\left( \\frac{\\partial \\mathbf{p}(t)}{\\partial W} \\right)^{T} & = \\mathbf{e}_{h}(t)\\mathbf{h}(t-1)^{T} \\\\\n",
    "\\, \\\\\n",
    "\\frac{\\partial E}{\\partial \\mathbf{b}} & = \\frac{\\partial E}{\\partial \\mathbf{p}(t)} \\odot \\frac{\\partial \\mathbf{p}(t)}{\\partial \\mathbf{b}} & = \\mathbf{e}_{h}(t) \\\\\n",
    "\\frac{\\partial E}{\\partial \\mathbf{c}} & = \\frac{\\partial E}{\\partial \\mathbf{q}(t)} \\odot \\frac{\\partial \\mathbf{q}(t)}{\\partial \\mathbf{c}} & = \\mathbf{e}_{o}(t) \n",
    "\\end{align*}\n",
    "\n",
    "となり、隣り合う層から逆伝播する誤差項のみを考えるというアプローチに変化はない。"
   ]
  },
  {
   "cell_type": "markdown",
   "metadata": {},
   "source": [
    "前のノートブックまでとの違いとして、今回はクラスでなく値を予測するため  \n",
    "出力層の活性化関数は恒等関数、誤差関数は下記のような二乗誤差（二乗平均誤差）を用いる。  \n",
    "\n",
    "\\begin{align*}\n",
    "E := \\frac{1}{2} \\sum_{n=1}^{N} \\sum_{t=1}^{T} || \\mathbf{t}_{n} - \\mathbf{y}_{n} ||^{2}\n",
    "\\end{align*}"
   ]
  },
  {
   "cell_type": "markdown",
   "metadata": {},
   "source": [
    "---\n",
    "### BackPropagation Through Time\n",
    "　参考：  \n",
    " - [数式で書き下すリカレントニューラルネットワーク](https://micin.jp/feed/developer/articles/rnn000)  \n",
    " - [【前編】深層学習による自然言語処理 - ニューラル機械翻訳への理論 -](http://deeplearning.hatenablog.com/entry/neural_machine_translation_theory)  \n",
    " - [Statistical Language Models Based on Neural Networks](http://www.fit.vutbr.cz/~imikolov/rnnlm/google.pdf)   \n",
    " - [Recurrent Neural Networks](https://www.slideshare.net/beam2d/pfi-seminar-20141030rnn)  \n",
    "   "
   ]
  },
  {
   "cell_type": "markdown",
   "metadata": {},
   "source": [
    "RNNのBackPropagation手法としては BPTT(BackPropagation Through Time) が代表的である。  \n",
    "これは、上記の誤差逆伝播を時間について展開したとき  \n",
    "誤差が時間を遡って逆伝播しているように表されることからついた名前である。  \n",
    "    \n",
    "ある時間ステップtにおいて、まず１ステップ分だけ過去に遡って逆伝播することを考えると、  \n",
    "  \n",
    "\\begin{align*}\n",
    "\\mathbf{e}_{h}(t-1) = \\frac{\\partial E}{\\partial \\mathbf{p}(t-1)}\n",
    "\\end{align*}\n",
    "\n",
    "となる。これを変形して\n",
    "\n",
    "\\begin{align*}\n",
    "\\mathbf{e}_{h}(t-1) &= \\frac{\\partial E}{\\partial \\mathbf{p}(t)} \\odot \\frac{\\partial \\mathbf{p}(t)}{\\partial \\mathbf{p}(t-1)} \\\\\n",
    "&= \\mathbf{e}_{h}(t) \\odot \\left( \\frac{\\partial \\mathbf{p}(t)}{\\partial \\mathbf{h}(t-1)}\\frac{\\partial \\mathbf{h}(t-1)}{\\partial \\mathbf{p}(t-1)} \\right) \\\\\n",
    "&= \\mathbf{e}_{h}(t) \\odot \\left( Wf^{\\prime}(\\mathbf{p}(t-1)) \\right)\n",
    "\\end{align*}\n",
    "\n",
    "となる。このとこから再帰式は、任意の０または正の整数 $z \\, (z=0,1,\\dots)$ について\n",
    "\n",
    "\\begin{align*}\n",
    "\\mathbf{e}_{h}(t-z-1) = \\mathbf{e}_{h}(t-z) \\odot \\left( Wf^{\\prime}(\\mathbf{p}(t-1)) \\right)\n",
    "\\end{align*}\n",
    "\n",
    "と表すことができるので、全ての勾配を計算できる。  \n",
    "ただし無制限に遡って計算した場合、（上の例のような）RNNにおいては不安定勾配問題を避けられないため、  \n",
    "遡るステップ数上限を $\\tau$ として  \n",
    "\n",
    "\\begin{align*}\n",
    "U(t+1) &= U(t) - \\eta \\sum^{\\tau}_{z=0} \\mathbf{e}_{h}(t-z) \\mathbf{x} (t-z)^{T} \\\\\n",
    "V(t+1) &= V(t) - \\eta \\mathbf{e}_{o}(t) \\mathbf{h} (t)^{T} \\\\\n",
    "W(t+1) &= W(t) - \\eta \\sum^{\\tau}_{z=0} \\mathbf{e}_{h}(t-z) \\mathbf{x} (t-z-1)^{T} \\\\\n",
    "\\mathbf{b}(t+1) &= \\mathbf{b}(t) - \\eta \\sum^{\\tau}_{z=0} \\mathbf{e}_{h}(t-z) \\\\\n",
    "\\mathbf{c}(t+1) &= \\mathbf{c}(t) - \\eta \\mathbf{e}_{o}(t)\n",
    "\\end{align*}\n",
    "\n",
    "のように各パラメータの更新式を表し、 $\\tau = 10 \\sim 100$ とすることが多い。\n",
    "  \n",
    "このようにステップ数上限を定めるため、 $\\tau$ を超える長期依存 (long-term dependency) を学習できなくなる問題が生じる。  "
   ]
  },
  {
   "cell_type": "markdown",
   "metadata": {},
   "source": [
    "---\n",
    "WIP"
   ]
  },
  {
   "cell_type": "markdown",
   "metadata": {},
   "source": [
    "---\n",
    "### TensorFlowでの実装\n",
    "時刻 $1, \\ldots, t$ までの観測値が与えられたときに、時刻 $t+1$ での値を予測する課題を解く。  \n",
    "また $\\tau = 25$ として、訓練データセット中の各データは  \n",
    "$\\left( [f(t-\\tau), f(t-\\tau+1), \\ldots, f(t) ], f(t+1) \\right)$ という並びの観測値と正解データの組とする。  \n",
    "  \n",
    "TensorFlowでは [tf.nn.rnn_cell.BasicRNNCell](https://www.tensorflow.org/api_docs/python/tf/contrib/rnn/BasicRNNCell) として実装されているので、これを利用する。  \n",
    "  "
   ]
  },
  {
   "cell_type": "code",
   "execution_count": 22,
   "metadata": {},
   "outputs": [],
   "source": [
    "import numpy as np\n",
    "from sklearn.model_selection import train_test_split\n",
    "\n",
    "def toy_problem(x, T=100, ampli=0.05, add_noise=True):\n",
    "    y = np.sin(x * np.pi * 2 / T)\n",
    "    yu = y + ampli * np.random.uniform(-1., 1., x.size)\n",
    "    return  yu if add_noise else y\n",
    "\n",
    "T = 100\n",
    "X = np.arange(0, 2*T, 1.)\n",
    "tau = 25\n",
    "\n",
    "train_data = []\n",
    "target_data = []\n",
    "\n",
    "\n",
    "# dataset\n",
    "for i in range(T-tau+1):\n",
    "    train_data.append(toy_problem(X[i:i+tau]).reshape(-1))\n",
    "    target_data.append(toy_problem(X[i+tau]).reshape(-1))\n",
    "\n",
    "    X_train, X_test, Y_train, Y_test = train_test_split(train_data, target_data, train_size=0.8, test_size=0.2)    "
   ]
  },
  {
   "cell_type": "code",
   "execution_count": null,
   "metadata": {},
   "outputs": [],
   "source": []
  }
 ],
 "metadata": {
  "kernelspec": {
   "display_name": "Python 3",
   "language": "python",
   "name": "python3"
  },
  "language_info": {
   "codemirror_mode": {
    "name": "ipython",
    "version": 3
   },
   "file_extension": ".py",
   "mimetype": "text/x-python",
   "name": "python",
   "nbconvert_exporter": "python",
   "pygments_lexer": "ipython3",
   "version": "3.5.2"
  }
 },
 "nbformat": 4,
 "nbformat_minor": 2
}
