{
 "cells": [
  {
   "cell_type": "markdown",
   "metadata": {},
   "source": [
    "## Chapter 7　実装"
   ]
  },
  {
   "cell_type": "markdown",
   "metadata": {},
   "source": [
    "---\n",
    "### 7.1　GPUとGPGPU\n",
    "画像に対するGPU利用と比べて自然言語処理分野ではGPU利用が難しかったが、  \n",
    "近年GPUを利用するための手法が発展してきた。\n",
    "\n",
    "GPU利用には計算の並列化が重要であり、その代表はミニバッチ化である。"
   ]
  },
  {
   "cell_type": "markdown",
   "metadata": {},
   "source": [
    "---\n",
    "### 7.2　RNNにおけるミニバッチ化\n",
    "自然言語処理においてミニバッチ化を妨げていた問題は  \n",
    "入力文や出力文の長さが一定でないということである。\n",
    "\n",
    "古くから文長ごとにデータセットを分割する手法はあったが、これは無作為抽出を不可能にするため  \n",
    "モデルの予測能力に深刻な悪影響を与えることがある。\n",
    "\n",
    "そこで考えられたのが padding を文へ適用することで、  \n",
    "nullなど事前に定めた特殊な単語を付加することで文長を揃え並列計算を効率化する。    \n",
    "ただし、全ての文がミニバッチ中の最大長に揃えられることになるため、計算量そのものは増大する。\n",
    "\n",
    "また、文長によりソートすることで並列計算における無駄な分岐を減らすことができるので、  \n",
    "これも計算速度向上に寄与する。  \n",
    "\n",
    "paddngによる計算量増大を軽減するためにミニバッチごとに文長を選択して  \n",
    "それぞれの文長に合わせた計算グラフを事前に準備することで計算時間を減らすテクニックがあり、  \n",
    "これをバケッティング（bucketing）という。  \n",
    "ただし、文長の種類が多いと計算グラフを事前準備する意味は失われていく。"
   ]
  },
  {
   "cell_type": "markdown",
   "metadata": {},
   "source": [
    "---\n",
    "#### 多層のRNNの高速化\n",
    "RNNにおいて時刻 $t$ における $k$ 番目の層の出力を $\\mathbf{h}_{t}^{(k)}$ と表記する。  \n",
    "時刻 $t$ または層の番号 $k$ が一致する２つの出力は依存性が存在するために並列計算できないが、  \n",
    "$t$ と $k$ の両方が異なれば依存関係が存在しないため、理論的には並列計算可能である。\n",
    "\n",
    "J.Appleyard et al. [Optimizing Performance of Recurrent Neural Networks on GPUs](https://arxiv.org/abs/1604.01946) arXiv:1604.01946 [cs.LG] 2016.  \n",
    "ではRNNに種々の計算効率改善策を実装し、最大11倍の高速化を果たしたと報告されている。"
   ]
  },
  {
   "cell_type": "markdown",
   "metadata": {},
   "source": [
    "---\n",
    "#### 持続性再帰ニューラルネット （persistent RNN）\n",
    "RNNの隠れ状態ベクトルを $\\mathbf{h} \\in \\mathbb{R}^{D}$、バッチ数を $B$ とする。  \n",
    "このとき隠れ状態ベクトルとパラメータ行列の積の時間計算量は $O(BD^{2})$、  \n",
    "GPUにおけるメモリの消費量は $O(D^{2})$ である。\n",
    "\n",
    "計算中プロセッサ上のレジスタに行列を保持して読み込み時間を抑える  \n",
    "持続性再帰ニューラルネットという手法が提案されている。"
   ]
  },
  {
   "cell_type": "markdown",
   "metadata": {},
   "source": [
    "---\n",
    "#### 木構造再帰ニューラルネットのミニバッチ化\n",
    "Tree-RNNの単純なミニバッチ化は困難である。\n",
    "\n",
    "再帰的な伝播計算を、スタックを用いる直列的な計算に変換することを考える。  \n",
    "各ノードに木の帰りがけ順に番号を振り、番号の小さい順にたどりながら処理を行うこととする。\n",
    "\n",
    "葉ノードに対して埋め込みベクトルを計算する操作を $\\Lambda$、  \n",
    "各ノードに対して２つの子ノードの隠れ状態ベクトル $\\mathbf{h}_{L}, \\mathbf{h}_{R}$ から  \n",
    "親ノードの隠れ状態ベクトル $\\mathbf{h}_{P}$ を計算する操作を $\\Psi$ とする。\n",
    "\n",
    "帰りがけ順にノードをたどるとき、葉ノードで $\\Lambda$ を、それ以外のノードで $\\Psi$ を行えばよい。  \n",
    "この操作はスタックを利用した木構造の走査と見なすことができるので、  \n",
    "$\\Lambda$ では計算結果をプッシュし、 $\\Psi$ ではポップ操作で２データを読み込み計算結果をプッシュする。\n",
    "\n",
    "各ステップでどの変数に $\\Lambda, \\Psi$ いずれの操作を行うかがわかれば並列化可能である。  \n",
    "これは上記のようなスタックの情報 $\\{ \\mathbf{h}_{i} \\}$ を保持すれば可能である。\n",
    "\n",
    "文長 $I$ について $\\{\\mathbf{h}_{i}\\}$ の大きさは $2I-1$、各要素は $\\mathbf{h}_{i} \\in \\mathbb{R}^{D}$ であり、  \n",
    "各ステップごとに複製が必要であるから、前向き計算で $O(I^{2}D)$ のメモリを消費する。  \n",
    "これはシンスタック（thin stack）により空間計算量を $O(ID)$ まで減らすことができる。"
   ]
  },
  {
   "cell_type": "markdown",
   "metadata": {},
   "source": [
    "---\n",
    "### 7.3　無作為抽出\n",
    "自然言語処理のための各種モデルをはじめとして、無作為抽出は近似計算のために頻用される。"
   ]
  },
  {
   "cell_type": "markdown",
   "metadata": {},
   "source": [
    "---\n",
    "#### 逆関数法 （inverse transform sampling）\n",
    "目的の確率分布の累積分布関数を $F(\\cdot)$、$(0,1)$ 上の一様関数に従う確率変数を $U$ とすると  \n",
    "$F^{-1}(U)$ は目的の確率分布に従う。  \n",
    "よって $(0,1)$ 上の一様分布から無作為抽出した $r$ を用いて $F^{-1}(r)$ を計算すると目的の分布からの標本となる。\n",
    "\n",
    "$F^{-1}$ が陽に計算できる場合には容易に並列計算可能である。"
   ]
  },
  {
   "cell_type": "markdown",
   "metadata": {},
   "source": [
    "---\n",
    "#### ガンベル最大トリック （Gumbel-max trick）\n",
    "$N$ 個の単語に対して $\\{ u_{1}, \\ldots, u_{N} \\}$ が与えられたときに  \n",
    "確率 $p_{k} = \\frac{\\exp u_{k}}{\\sum_{i=1}^{N} \\exp u_{i}}$ に従って無作為抽出することを考える。\n",
    "\n",
    "ガンベル分布 $Gb(0,1)$ に従って $N$ 個の値 $\\{G_{1}, \\ldots, G_{N}\\}$ を独立に無作為抽出する。  \n",
    "このとき累積分布関数 $F(\\cdot)$ と確率密度関数 $f(\\cdot)$ は次の通り。\n",
    "\n",
    "\\begin{align*}\n",
    "F(x) &= \\exp(-\\exp(-x)) \\\\\n",
    "f(x) &= \\exp(-x)\\exp(-\\exp(-x)) \\\\\n",
    "&= \\exp (-x) F(x)\n",
    "\\end{align*}\n",
    "\n",
    "ガンベル分布からの抽出は、逆関数法を使い  \n",
    "累積分布関数の逆関数 $F^{-1}(x) = - \\log(- \\log x)$ に  \n",
    "$(0,1)$ 一様分布からの乱数を入力することで得られる。\n",
    "\n",
    "ここで $Z_{i} = u_{i} + G_{i}$ とおくと、  \n",
    "$Z_{k}$ が $\\{X_{1}, \\ldots, Z_{N}\\}$ の中で最大となる確率は $p_{k}$ に一致する。\n",
    "\n",
    "\\begin{align*}\n",
    "P(Z_{i} < Z_{k}, \\hspace{4pt} \\forall i, \\hspace{4pt} i \\neq k) = p_{k}\n",
    "\\end{align*}\n",
    "\n",
    "アルゴリズムは次のようにまとめられる。\n",
    "\n",
    "\\begin{align*}\n",
    "\\hline\n",
    "& \\text{for} \\hspace{5pt} i := 1, \\ldots, N \\hspace{5pt} \\text{do} \\\\\n",
    "& \\hspace{20pt} r_{i} \\sim U(0,1) \\\\\n",
    "& \\hspace{20pt} g_{i} = -\\log(-\\log r_{i}) \\\\\n",
    "& \\hspace{20pt} z_{i} = u_{i} + g_{i} \\\\\n",
    "&\\text{end for} \\\\\n",
    "&k = \\operatorname{argmax}_{i} z_{i} \\\\\n",
    "&\\text{return} \\hspace{5pt} k \\\\\n",
    "&\\hline\n",
    "\\end{align*}"
   ]
  },
  {
   "cell_type": "markdown",
   "metadata": {},
   "source": [
    "E.Jang et al. [Categorical Reparameterization with Gumbel-Softmax](https://arxiv.org/abs/1611.01144) \tarXiv:1611.01144 [stat.ML] 2016.  \n",
    "では、Gumbel-Max trick から argmax以降の処理を省略し  \n",
    "分布から直接 one-hot なベクトルをサンプリングできる Gumbel-Softmax Distribution を提案している。\n",
    "\n",
    "　参考：[Categorical Reparameterization with Gumbel-Softmax [arXiv:1611.01144] | ご注文は機械学習ですか？](http://musyoku.github.io/2016/11/12/Categorical-Reparameterization-with-Gumbel-Softmax/)"
   ]
  },
  {
   "cell_type": "markdown",
   "metadata": {},
   "source": [
    "---\n",
    "#### 補記：ガンベル(極値)分布 (Gumbel distribution)\n",
    "互いに独立で同一の何らかの分布に従う標本における最大値を新たな確率変数 $X$ とみなしたとき  \n",
    "その確率変数 $X$ が漸近的に従う分布である。  \n",
    "一般極値分布 (Generalized Extreme Value) のタイプ１に相当する。\n",
    "\n",
    "位置パラメータを $\\mu \\in \\mathbb{R}$、尺度パラメータを $\\theta > 0$ として、  \n",
    "ガンベル分布 $Gb(\\mu,\\theta)$ の確率密度関数は次の通り。\n",
    "\n",
    "\\begin{align*}\n",
    "f(x) &= \\frac{1}{\\theta} e^{- \\frac{x-\\mu}{\\theta}} e^{-e^{- \\frac{x-\\mu}{\\theta}}} & (-\\infty<x<\\infty)\n",
    "\\end{align*}\n",
    "\n",
    "また、累積分布関数は次の通り。\n",
    "\n",
    "\\begin{align*}\n",
    "F(x) = e^{-e^{- \\frac{x-\\mu}{\\theta}}}\n",
    "\\end{align*}\n",
    "\n",
    "期待値と分散は次のようになる。\n",
    "\n",
    "\\begin{align*}\n",
    "E(X) &= \\mu + \\gamma \\theta \\\\\n",
    "V(X) &= \\frac{\\theta^{2} \\pi^{2}}{6}\n",
    "\\end{align*}\n",
    "\n",
    "\n",
    "参考：  \n",
    "　[グンベル極値分布 | データ科学便覧](http://data-science.gr.jp/theory/tpd_gumbel_distribution.html)  \n",
    "　[numpy.random.gumbel | SciPy.org](https://docs.scipy.org/doc/numpy-1.13.0/reference/generated/numpy.random.gumbel.html)  "
   ]
  },
  {
   "cell_type": "code",
   "execution_count": 9,
   "metadata": {
    "scrolled": true
   },
   "outputs": [
    {
     "data": {
      "image/png": "[encoded data removed]",
      "text/plain": [
       "<matplotlib.figure.Figure at 0x7f5164f15080>"
      ]
     },
     "metadata": {},
     "output_type": "display_data"
    }
   ],
   "source": [
    "# Gumbel distribution\n",
    "\n",
    "import numpy as np\n",
    "import matplotlib.pyplot as plt\n",
    "\n",
    "mu, theta = 0, 0.1\n",
    "s = np.random.gumbel(mu, theta, 10000)\n",
    "\n",
    "count, bins, ignored = plt.hist(s, bins=50, normed=True)\n",
    "plt.plot(bins,\n",
    "         (1/theta)*np.exp(-(bins-mu)/theta) * np.exp( -np.exp(-(bins-mu)/theta) ),\n",
    "         linewidth=2, color='r' )\n",
    "plt.show()"
   ]
  },
  {
   "cell_type": "code",
   "execution_count": 24,
   "metadata": {
    "scrolled": false
   },
   "outputs": [
    {
     "data": {
      "image/png": "[encoded data removed]",
      "text/plain": [
       "<matplotlib.figure.Figure at 0x7f5164d315c0>"
      ]
     },
     "metadata": {},
     "output_type": "display_data"
    }
   ],
   "source": [
    "import numpy as np\n",
    "import matplotlib.pyplot as plt\n",
    "\n",
    "def f(x,mu,theta):\n",
    "    return (1/theta)*np.exp(-(x-mu)/theta) * np.exp( -np.exp(-(x-mu)/theta))\n",
    "\n",
    "x = np.arange(-6,22,0.01)\n",
    "for mu,theta in [(0.5,2.0), (1.0,2.0), (1.5,3.0), (3.0,4.0)]:\n",
    "    plt.plot(x,f(x,mu,theta), label=\"f(x,mu={0},theta={1})\".format(mu,theta))\n",
    "\n",
    "plt.legend()\n",
    "plt.title(\"Probability density function of the Gumbel Distribution\")\n",
    "plt.grid()\n",
    "plt.show()"
   ]
  },
  {
   "cell_type": "markdown",
   "metadata": {},
   "source": [
    "---\n",
    "#### 別名法 （alias method）\n",
    "単語数を $N$ 個としたとき、ガンベル最大トリックによって単語１つを無作為抽出するときの時間計算量は $O(N)$ である。\n",
    "\n",
    "別名法では前処理に時間計算量 $O(N)$ 、空間計算量 $O(N)$ を使い、  \n",
    "１回抽出する時間計算量は $O(1)$ となる。\n",
    "\n",
    "$N$ 個の各要素に対し、それぞれの確率が $\\{p_{1}, \\ldots, o_{N}$ で与えられたとする。  \n",
    "このとき、別名法における前処理のアルゴリズムは次の通り。\n",
    "\n",
    "\\begin{align*}\n",
    "\\hline\n",
    "& \\{q_{1}, \\ldots, q_{N}\\} \\hspace{5pt} | \\hspace{5pt} q_{i} = Np_{i} \\\\\n",
    "& O = \\{i|q_{i}>1\\} \\\\\n",
    "& U = \\{i|q_{i} < 1\\} \\\\\n",
    "& \\text{while} \\hspace{5pt} |U|>0 \\hspace{5pt} \\text{do} \\\\\n",
    "& \\hspace{20pt} \\text{Choose t from O and except from O} \\\\\n",
    "& \\hspace{20pt} \\text{Choose s from U and except from U} \\\\\n",
    "& \\hspace{20pt} a_{s} := t \\\\\n",
    "& \\hspace{20pt} f_{s} := q_{s} \\\\\n",
    "& \\hspace{20pt} q_{t} := q_{t} - (1-q_{s}) \\\\\n",
    "& \\hspace{20pt} \\text{if} \\hspace{5pt} 1_{t} > 1 \\hspace{5pt} \\text{then} \\\\\n",
    "& \\hspace{40pt} \\text{add t to O} \\\\\n",
    "& \\hspace{20pt} \\text{else} \\\\\n",
    "& \\hspace{40pt} \\text{add t to U} \\\\\n",
    "& \\hspace{20pt} \\text{end if} \\\\\n",
    "& \\text{end while} \\\\\n",
    "& \\text{return} \\hspace{5pt} \\{f_{1}, \\ldots, f_{N}\\} , \\{ a_{1}, \\dots, a_{N} \\} \\\\\n",
    "\\hline\n",
    "\\end{align*}\n",
    "\n",
    "前処理によって表を構築した後の、別名法による無作為抽出のアルゴリズムは次の通り。\n",
    "\n",
    "\\begin{align*}\n",
    "\\hline\n",
    "& r \\sim U(0,1) \\\\\n",
    "&k = rN \\\\\n",
    "&p = rN-k \\\\\n",
    "&\\text{if} \\hspace{5pt} p<f_{k} \\hspace{5pt} \\text{then} \\\\\n",
    "&\\hspace{20pt} \\text{return} \\hspace{5pt} k \\\\\n",
    "&\\text{else} \\\\\n",
    "&\\hspace{20pt} \\text{return} \\hspace{5pt} a_{k} \\\\\n",
    "&\\text{end if} \\\\\n",
    "\\hline\n",
    "\\end{align*}\n",
    "\n",
    "　（参考：[基礎統計学III 自然科学の統計学](http://www.utp.or.jp/book/b300859.html)）"
   ]
  },
  {
   "cell_type": "markdown",
   "metadata": {},
   "source": [
    "---\n",
    "### 7.4　メモリ使用量の削減\n",
    "\n"
   ]
  }
 ],
 "metadata": {
  "kernelspec": {
   "display_name": "Python 3",
   "language": "python",
   "name": "python3"
  },
  "language_info": {
   "codemirror_mode": {
    "name": "ipython",
    "version": 3
   },
   "file_extension": ".py",
   "mimetype": "text/x-python",
   "name": "python",
   "nbconvert_exporter": "python",
   "pygments_lexer": "ipython3",
   "version": "3.5.2"
  }
 },
 "nbformat": 4,
 "nbformat_minor": 2
}
