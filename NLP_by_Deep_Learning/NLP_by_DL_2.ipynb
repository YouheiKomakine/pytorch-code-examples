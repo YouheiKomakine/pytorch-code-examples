{
 "cells": [
  {
   "cell_type": "markdown",
   "metadata": {},
   "source": [
    "---\n",
    "## Ch.2　ニューラルネットの基礎"
   ]
  },
  {
   "cell_type": "markdown",
   "metadata": {},
   "source": [
    "---\n",
    "### 2.1　教師あり学習\n",
    "入力変数ベクトル $\\mathbf{x} \\in \\mathcal{X}$、出力変数 $y \\in \\mathcal{Y}$ について  \n",
    "ある変数 $\\mathbf{x}$ が与えられた時に $y$ を予測するモデルを学習することを目的とする。\n",
    "\n",
    "教師あり学習の定義\n",
    "$|\\mathcal{D}|$ 個の訓練事例を $\\mathcal{D} = \\{(\\mathbf{x}^{(n)}, y^{(n)})\\}_{n=1}^{|\\mathcal{D}|}$ としたとき、  \n",
    "訓練データでの誤差（以下の目的関数）を最小化するモデルパラメータ $\\mathbf{\\theta}$ の値を求める手続きを教師あり学習と呼ぶ。\n",
    "\n",
    "\\begin{align*}\n",
    "L(\\mathbf{\\theta}) = \\frac{1}{|\\mathcal{D}|} \\sum_{n=1}^{|\\mathcal{D}|} l_{\\mathbf{\\theta}} (\\mathbf{x}^{(n)}, y^{(n)})\n",
    "\\end{align*}\n",
    "\n",
    "自然言語処理では出力は単語のように離散集合 $\\mathcal{Y} = \\{1, \\ldots, |\\mathcal{Y}| \\}$ であることが多く、分類問題として定式化できる。  \n",
    "分類問題では次の交差エントロピー損失関数と（多クラス）ヒンジ損失関数がよく用いられる。\n",
    "\n",
    "・cross-entropy loss\n",
    "\n",
    "\\begin{align*}\n",
    "l_{\\mathbf{\\theta}}^{\\text{cross-entropy}} \\left( \\mathbf{x}^{(n)}, y^{(n)} \\right) = - \\log \\frac{\\exp ( f_{\\mathbf{\\theta}}( \\mathbf{x}^{(n)}, y^{(n)} ))}{\\sum_{\\tilde{y} \\in \\mathcal{Y}} \\exp ( f_{\\mathbf{\\theta}}(\\mathbf{x}^{(n)}, \\tilde{y}))}\n",
    "\\end{align*}\n",
    "\n",
    "・multiclass hinge loss\n",
    "\n",
    "\\begin{align*}\n",
    "l_{\\theta}^{\\text{hinge}}\\left( \\mathbf{x}^{(n)}, y^{(n)} \\right) = \\max \\left( 0, \\, 1 - f_{\\theta}\\left( \\mathbf{x}^{(n)}, y^{(n)} \\right) + \\max_{\\tilde{y} \\in {\\mathcal{Y} \\\\ \\{y^{(n)}\\}} } f_{\\theta}( \\mathbf{x}^{(n)}, \\tilde{y}) \\right)\n",
    "\\end{align*}"
   ]
  },
  {
   "cell_type": "markdown",
   "metadata": {},
   "source": [
    "---\n"
   ]
  }
 ],
 "metadata": {
  "kernelspec": {
   "display_name": "Python 3",
   "language": "python",
   "name": "python3"
  },
  "language_info": {
   "codemirror_mode": {
    "name": "ipython",
    "version": 3
   },
   "file_extension": ".py",
   "mimetype": "text/x-python",
   "name": "python",
   "nbconvert_exporter": "python",
   "pygments_lexer": "ipython3",
   "version": "3.5.2"
  }
 },
 "nbformat": 4,
 "nbformat_minor": 2
}
