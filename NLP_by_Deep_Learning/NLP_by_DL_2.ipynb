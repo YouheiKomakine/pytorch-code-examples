{
 "cells": [
  {
   "cell_type": "markdown",
   "metadata": {},
   "source": [
    "---\n",
    "## Ch.2　ニューラルネットの基礎"
   ]
  },
  {
   "cell_type": "markdown",
   "metadata": {},
   "source": [
    "---\n",
    "### 2.1　教師あり学習\n",
    "入力変数ベクトル $\\mathbf{x} \\in \\mathcal{X}$、出力変数 $y \\in \\mathcal{Y}$ について  \n",
    "ある変数 $\\mathbf{x}$ が与えられた時に $y$ を予測するモデルを学習することを目的とする。\n",
    "\n",
    "教師あり学習の定義\n",
    "$|\\mathcal{D}|$ 個の訓練事例を $\\mathcal{D} = \\{(\\mathbf{x}^{(n)}, y^{(n)})\\}_{n=1}^{|\\mathcal{D}|}$ としたとき、  \n",
    "訓練データでの誤差（以下の目的関数）を最小化するモデルパラメータ $\\mathbf{\\theta}$ の値を求める手続きを教師あり学習と呼ぶ。\n",
    "\n",
    "\\begin{align*}\n",
    "L(\\mathbf{\\theta}) = \\frac{1}{|\\mathcal{D}|} \\sum_{n=1}^{|\\mathcal{D}|} l_{\\mathbf{\\theta}} (\\mathbf{x}^{(n)}, y^{(n)})\n",
    "\\end{align*}\n",
    "\n",
    "自然言語処理では出力は単語のように離散集合 $\\mathcal{Y} = \\{1, \\ldots, |\\mathcal{Y}| \\}$ であることが多く、分類問題として定式化できる。  \n",
    "分類問題では 0-1損失関数の代理損失（surrogate loss）として、  \n",
    "次の交差エントロピー損失関数と（多クラス）ヒンジ損失関数がよく用いられる。\n",
    "\n",
    "・cross-entropy loss\n",
    "\n",
    "\\begin{align*}\n",
    "l_{\\mathbf{\\theta}}^{\\text{cross-entropy}} \\left( \\mathbf{x}^{(n)}, y^{(n)} \\right) = - \\log \\frac{\\exp ( f_{\\mathbf{\\theta}}( \\mathbf{x}^{(n)}, y^{(n)} ))}{\\sum_{\\tilde{y} \\in \\mathcal{Y}} \\exp ( f_{\\mathbf{\\theta}}(\\mathbf{x}^{(n)}, \\tilde{y}))}\n",
    "\\end{align*}\n",
    "\n",
    "・multiclass hinge loss\n",
    "\n",
    "\\begin{align*}\n",
    "l_{\\theta}^{\\text{hinge}}\\left( \\mathbf{x}^{(n)}, y^{(n)} \\right) = \\max \\left( 0, \\, 1 - f_{\\theta}\\left( \\mathbf{x}^{(n)}, y^{(n)} \\right) + \\max_{\\tilde{y} \\in {\\mathcal{Y} \\\\ \\{y^{(n)}\\}} } f_{\\theta}( \\mathbf{x}^{(n)}, \\tilde{y}) \\right)\n",
    "\\end{align*}"
   ]
  },
  {
   "cell_type": "markdown",
   "metadata": {},
   "source": [
    "---\n",
    "$f_{\\theta}(\\mathbf{x},y)$ は $\\theta$ をパラメータとするスコア関数で、$\\hat{y} = \\operatorname{argmax}_{y} f_{\\theta}(\\mathbf{x}^{(n)}, y)$ を予測として使用することを想定している。  \n",
    "注記なき限りスコア関数はニューラルネットによる実装とする。\n",
    "\n",
    "誤差関数として交差エントロピー、スコア関数 $f_{\\theta}(\\mathbf{x},y)$ を線形モデルとするとき多項ロジスティック回帰という。  \n",
    "交差エントロピー損失関数は以下の条件付き確率モデルを想定し、  \n",
    "その負の対数尤度を想定していると考えることもできる。  \n",
    "\n",
    "\\begin{align*}\n",
    "P_{\\theta}(y|\\mathbf{x}) = \\frac{\\exp ( f_{\\theta} (\\mathbf{x},y))}{\\sum_{\\tilde{y} \\in \\mathcal{Y}} \\exp ( f_{\\theta} ( \\mathbf{x}, \\tilde{y}))}\n",
    "\\end{align*}\n",
    "\n",
    "交差エントロピー損失関数は、真の分布 $P^{*}_{\\theta}(y|\\mathbf{x})$ とモデル $P_{\\theta}(y|\\mathbf{x})$ との距離を表す交差エントロピーを  \n",
    "訓練データで経験近似していることに相当することからそう呼ばれる。\n",
    "\n",
    "ソフトマックス関数\n",
    "\n",
    "\\begin{align*}\n",
    "\\operatorname{softmax}(\\mathbf{o})_{y} = \\frac{\\exp (o_{y})}{\\sum_{\\tilde{y} \\in \\mathcal{Y}} \\exp (o_{y})}\n",
    "\\end{align*}\n",
    "\n",
    "を用いると、上の式は\n",
    "\n",
    "\\begin{align*}\n",
    "P_{\\theta}(y|\\mathbf{x}) = \\operatorname{softmax}(\\mathbf{o})_{y}\n",
    "\\end{align*}\n",
    "\n",
    "と書くことができる。"
   ]
  },
  {
   "cell_type": "markdown",
   "metadata": {},
   "source": [
    "---\n",
    "### 2.2　順伝播型ニューラルネット\n",
    "非線形変換を $L$ 回繰り返すFFNN (feedforward neural network) を想定する。  \n",
    "$l$ 回目の変換結果の出力ベクトル $\\mathbf{h}^{(l)} \\in \\mathcal{R}^{N^{(1)}}$ を隠れ状態ベクトルと呼ぶ。  \n",
    "\n",
    "出力層からの出力候補 $y$ に対するスコアの計算は $|\\mathcal{Y}| \\times N^{(L)}$ のパラメータ行列 $\\mathbf{W}^{(o)}$ と  \n",
    "バイアスパラメータベクトル $\\mathbf{b}^{(o)}$ を使って以下のように表す。\n",
    "\n",
    "\\begin{align*}\n",
    "\\mathbf{o} = \\mathbf{W}^{(o)}\\mathbf{h}^{(L)} + \\mathbf{b}^{(o)}\n",
    "\\end{align*}\n",
    "\n",
    "次に、各層の隠れ状態ベクトル $\\mathbf{h}^{(l)} \\, (l=1,\\ldots,L)$ は活性化関数を $a$ として\n",
    "\n",
    "\\begin{align*}\n",
    "\\mathbf{h}^{(l)} = a^{(l)} \\left( \\mathbf{W}^{(l)}\\mathbf{h}^{(l-1)} + \\mathbf{b}^{(l)} \\right)\n",
    "\\end{align*}\n",
    "\n",
    "と表される。ここで $l=0$ のとき $\\mathbf{h}^{0} = \\mathbf{x}$ （$x$ は入力）とする。"
   ]
  },
  {
   "cell_type": "markdown",
   "metadata": {},
   "source": [
    "---\n",
    "### 2.3　活性化関数\n",
    "シグモイド関数、tanh、ReLUなどがよく用いられる。  \n",
    "活性化関数は非線形でなければならない。"
   ]
  },
  {
   "cell_type": "markdown",
   "metadata": {},
   "source": [
    "---\n",
    "### 2.4　勾配法\n",
    "学習率を $\\eta$ とするとき、次の更新式によって学習する。\n",
    "\n",
    "\\begin{align*}\n",
    "\\theta^{(k+1)} = \\theta^{(k)} - \\eta \\partial L(\\theta^{(k)})\n",
    "\\end{align*}\n",
    "\n",
    "勾配法は局所的な最急降下方向に $\\eta$ に比例してパラメータを変化させる。\n",
    "\n",
    "バッチ法による勾配降下法を行うとき、  \n",
    "損失関数の偏微分は個々のデータにおける偏微分の和に分解できる。\n",
    "\n",
    "\\begin{align*}\n",
    "\\partial L(\\theta)^{batch} \\frac{1}{|\\mathcal{D}|} \\sum_{n=1}^{|\\mathcal{D}|} \\partial l_{\\theta}(\\mathbf{x}^{(n)}, y^{(n)})\n",
    "\\end{align*}\n",
    "\n",
    "バッチ法では訓練データ全てについての計算が必要なことから、  \n",
    "ランダムに選んだ事例で近似する確率的勾配法がよく用いられる。  \n",
    "１事例のみを用いるオンライン確率的勾配法では次のように近似する。$i$ はランダムに選んだ事例の番号。  \n",
    "　（メモ：原文中の式に $i$ 見当たらず）\n",
    "\n",
    "\\begin{align*}\n",
    "\\partial L(\\theta)^{\\text{online}} = \\partial l_{\\theta} (\\mathbf{x}^{(n)}, y^{(n)})\n",
    "\\end{align*}\n",
    "\n",
    "ミニバッチ確率的勾配法では次の通り。\n",
    "\n",
    "\\begin{align*}\n",
    "\\partial L(\\theta)^{\\text{mini-batch}} = \\frac{1}{|\\mathcal{B}|} \\sum_{m=1}^{|\\mathcal{B}|} \\partial l_{\\theta} (\\mathbf{x}^{(\\mathcal{B}[m])}, y^{(\\mathcal{B}[m])})\n",
    "\\end{align*}\n",
    "\n"
   ]
  },
  {
   "cell_type": "markdown",
   "metadata": {},
   "source": [
    "---\n",
    "### 2.5　誤差逆伝播法\n",
    "(他のnotebookで取り扱ったため省略）"
   ]
  },
  {
   "cell_type": "markdown",
   "metadata": {},
   "source": [
    "---\n",
    "### 2.6　再帰ニューラルネット\n",
    "Recurrent Neural Networksでは、長さ $T$ の入力ベクトル列 $\\mathbf{X} = (\\mathbf{x}_{1}, \\mathbf{x}_{2}, \\ldots, \\mathbf{x}_{T_{x}})$ が与えられたとき、  \n",
    "$l$ 層目の隠れ状態ベクトルを次のとおりに再帰的に更新する。\n",
    "\n",
    "\\begin{align*}\n",
    "\\mathbf{h}_{t}^{(l)} = a^{(l)} \\left( \\mathbf{W}^{(l)} \\left[ \\begin{array} \\mathbf{h}_{t}^{(l-1)} \\\\\\mathbf{h}_{t-1}^{(l)} \\end{array} \\right] + \\mathbf{b}^{(l)} \\right)\n",
    "\\end{align*}\n",
    "\n",
    "RNNでは時刻 $t$ の $l-1$ 層目の隠れ状態ベクトルと時刻 $t-1$ の $l$ 層目の隠れ状態ベクトルを線形変換することから  \n",
    "パラメータ行列 $\\mathbf{W}^{(l)}$ の要素数は $(N^{(l)} + N^{(l-1)}) \\times N^{(l)}$ となる。  \n",
    "また、パラメータの初期値 $\\mathbf{h}_{0}^{(l)}$ としては零ベクトルなど定数値が使われることが多い。\n",
    "\n",
    "スコア関数は $\\mathbf{h}_{t}^{(L)}$ を用いて次のように計算する。\n",
    "\n",
    "\\begin{align*}\n",
    "f(\\mathbf{x}, y) &= o_{t,y} \\\\\n",
    "\\mathbf{o}_{t} &= \\mathbf{W}^{(o)} \\mathbf{h}_{t}^{(L)} + \\mathbf{b}^{(o)}\n",
    "\\end{align*}\n",
    "\n",
    "RNNは時間方向に深いモデルとなっていること、時刻 $t$ によらない共通のパラメータを用いることが特徴である。  \n",
    "誤差逆伝播法は時間鳳凰に遡ることからBPTTと呼ばれることがあるが、計算グラフ上は大きな違いがない。  \n"
   ]
  },
  {
   "cell_type": "markdown",
   "metadata": {},
   "source": [
    "---\n",
    "#### 双方向再帰ニューラルネット（bi-directional RNN）\n",
    "時間の前向き方向と後ろ向き方向の走査を組み合わせた双方向RNNはよく用いられる。  \n",
    "前向き走査の隠れ状態ベクトル $\\overrightarrow{\\mathbf{h}}$ と後ろ向き走査の隠れ状態ベクトル $\\overleftarrow{\\mathbf{h}}$ を次の式に従って計算する。\n",
    "\n",
    "\\begin{align*}\n",
    "\\overrightarrow{\\mathbf{h}}_{t}^{(l)} &= a^{(l)} \\left( \\overrightarrow{W}^{(l)} \\left[ \\begin{array} \\overrightarrow{\\mathbf{h}}_{t}^{(l-1)} \\\\ \\overleftarrow{\\mathbf{h}}_{t}^{(l-1)} \\\\ \\overrightarrow{\\mathbf{h}}_{t-1}^{(l)} \\end{array} \\right] + \\overrightarrow{\\mathbf{b}}^{(l)} \\right) \\\\\n",
    "\\overleftarrow{\\mathbf{h}}_{t}^{(l)} &= a^{(l)} \\left( \\overleftarrow{W}^{(l)} \\left[ \\begin{array} \\overrightarrow{\\mathbf{h}}_{t}^{(l-1)} \\\\ \\overleftarrow{\\mathbf{h}}_{t}^{(l-1)} \\\\ \\overrightarrow{\\mathbf{h}}_{t+1}^{(l)} \\end{array} \\right] + \\overleftarrow{\\mathbf{b}}^{(l)} \\right)\n",
    "\\end{align*}\n",
    "\n",
    "出力 $\\mathbf{o}_{t}$ については次の通り。\n",
    "\n",
    "\\begin{align*}\n",
    "\\mathbf{o}_{t} = \\mathbf{W}^{(o)} \\left[ \\begin{array} \\overrightarrow{\\mathbf{h}}_{t}^{(L)} \\\\ \\overleftarrow{\\mathbf{h}}_{t}^{(L)} \\end{array} \\right] + \\mathbf{b}^{(o)}\n",
    "\\end{align*}\n",
    "\n",
    "上の式では各層で双方向の隠れ状態ベクトルを計算に用いるが  \n",
    "この部分は手法により様々で、例えば逆向きの隠れ状態ベクトルを用いない計算式もある。"
   ]
  },
  {
   "cell_type": "markdown",
   "metadata": {},
   "source": [
    "---\n",
    "#### パラメータ行列の固有値による勾配不安定性の議論\n",
    "パラメータ行列の固有値分解を次のように書く。\n",
    "\n",
    "\\begin{align*}\n",
    "\\mathbf{W} = \\mathbf{Q} \\mathbf{\\Lambda} \\mathbf{Q}^{-1}\n",
    "\\end{align*}\n",
    "\n",
    "このときパラメータ行列の $t$ 乗は、$\\mathbf{Q}^{-1}\\mathbf{Q}$ が単位行列となることから次のようになる。\n",
    "\n",
    "\\begin{align*}\n",
    "\\mathbf{W}^{t} = \\mathbf{Q} \\mathbf{\\Lambda}^{t} \\mathbf{Q}^{-1}\n",
    "\\end{align*}\n",
    "\n",
    "よって、RNNの隠れ状態ベクトルについて $\\mathbf{h}_{t} = \\mathbf{W}\\mathbf{h}_{t-1}$ が成り立つとき、\n",
    "\n",
    "\\begin{align*}\n",
    "\\mathbf{h}_{t} &= \\mathbf{W}\\mathbf{h}_{t-1} = \\mathbf{W}^{2}\\mathbf{h}_{t-2} = \\cdots = \\mathbf{W}^{t}\\mathbf{h}_{0} \\\\\n",
    "&= \\mathbf{Q} \\mathbf{\\Lambda}^{t} \\mathbf{Q}^{-1} \\mathbf{h}_{0}\n",
    "\\end{align*}\n",
    "\n",
    "となることから、$t$ が大のとき固有値の値により状態変数の絶対値が強く影響されることとなる。  \n",
    "ここから、パラメータ行列の固有値により勾配不安定性について議論することができる。  \n"
   ]
  },
  {
   "cell_type": "code",
   "execution_count": null,
   "metadata": {},
   "outputs": [],
   "source": []
  }
 ],
 "metadata": {
  "kernelspec": {
   "display_name": "Python 3",
   "language": "python",
   "name": "python3"
  },
  "language_info": {
   "codemirror_mode": {
    "name": "ipython",
    "version": 3
   },
   "file_extension": ".py",
   "mimetype": "text/x-python",
   "name": "python",
   "nbconvert_exporter": "python",
   "pygments_lexer": "ipython3",
   "version": "3.5.2"
  }
 },
 "nbformat": 4,
 "nbformat_minor": 2
}
