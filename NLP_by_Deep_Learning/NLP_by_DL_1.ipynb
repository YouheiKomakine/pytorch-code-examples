{
 "cells": [
  {
   "cell_type": "markdown",
   "metadata": {},
   "source": [
    "# 深層学習による自然言語処理\n",
    "　機械学習プロフェッショナルシリーズ\n",
    ">著者：坪井裕太、海野裕也、鈴木潤  \n",
    "出版：講談社、2017/5/4  \n",
    "ISBN：978-4-06-152924-3  \n",
    "\n",
    "教科書として上記書籍の初版第１刷を使用します。"
   ]
  },
  {
   "cell_type": "markdown",
   "metadata": {},
   "source": [
    "---\n",
    "## Ch.1　自然言語処理のアプローチ"
   ]
  },
  {
   "cell_type": "markdown",
   "metadata": {},
   "source": [
    "---\n",
    "### 1.1　伝統的な自然言語処理\n",
    "典型的な応用タスク\n",
    "- 文書分類 document categorization\n",
    "- 機械翻訳 machine translation\n",
    "- 文書要約 text summarization\n",
    "- 質問応答 question answering\n",
    "- 対話 dialog\n",
    "\n",
    "部分問題としての言語解析タスク\n",
    "- 品詞タグ付け part-of-speech tagging\n",
    "- 単語分割 word segmentation\n",
    "- 語義曖昧性解消 word sense disambiguation\n",
    "- 固有表現抽出 named entity extraction\n",
    "- 構文解析 syntactic parsing\n",
    "- 述語項構造認識 predicate-argument recognition\n",
    "\n",
    "・伝統的な自然言語処理は上のように分割されているが、実際は相互に依存しており  \n",
    "　利用者がすべてを理解する必要がある。  \n",
    "　また、全体がパイプライン処理となっており改修がひどく難しい。\n",
    " "
   ]
  },
  {
   "cell_type": "markdown",
   "metadata": {},
   "source": [
    "---\n",
    "### 1.2　深層学習への期待\n",
    "・応用タスクを直接的に解いた研究結果がより大きな注目を集めている\n",
    "　-> 既存の言語解析器パイプライン全てをNNで置き換える\n",
    "　既存のシステムでは個々の解析器が独立に学習されるのに対し、\n",
    "　深層学習によるモデルは内部表現も含めて学習される"
   ]
  }
 ],
 "metadata": {
  "kernelspec": {
   "display_name": "Python 3",
   "language": "python",
   "name": "python3"
  },
  "language_info": {
   "codemirror_mode": {
    "name": "ipython",
    "version": 3
   },
   "file_extension": ".py",
   "mimetype": "text/x-python",
   "name": "python",
   "nbconvert_exporter": "python",
   "pygments_lexer": "ipython3",
   "version": "3.5.2"
  }
 },
 "nbformat": 4,
 "nbformat_minor": 2
}
