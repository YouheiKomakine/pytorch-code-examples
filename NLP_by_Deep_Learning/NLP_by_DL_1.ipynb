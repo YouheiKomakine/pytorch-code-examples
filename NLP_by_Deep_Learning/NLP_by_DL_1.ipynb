{
 "cells": [
  {
   "cell_type": "markdown",
   "metadata": {},
   "source": [
    "# 深層学習による自然言語処理\n",
    "　機械学習プロフェッショナルシリーズ\n",
    ">著者：坪井裕太、海野裕也、鈴木潤  \n",
    "出版：講談社、2017/5/4  \n",
    "ISBN：978-4-06-152924-3  \n",
    "\n",
    "教科書として上記書籍の初版第１刷を使用します。"
   ]
  },
  {
   "cell_type": "markdown",
   "metadata": {},
   "source": [
    "---\n",
    "## Ch.1　自然言語処理のアプローチ"
   ]
  },
  {
   "cell_type": "markdown",
   "metadata": {},
   "source": [
    "---\n",
    "### 1.1　伝統的な自然言語処理\n",
    "典型的な応用タスク\n",
    "- 文書分類 document categorization\n",
    "- 機械翻訳 machine translation\n",
    "- 文書要約 text summarization\n",
    "- 質問応答 question answering\n",
    "- 対話 dialog\n",
    "\n",
    "部分問題としての言語解析タスク\n",
    "- 品詞タグ付け part-of-speech tagging\n",
    "- 単語分割 word segmentation\n",
    "- 語義曖昧性解消 word sense disambiguation\n",
    "- 固有表現抽出 named entity extraction\n",
    "- 構文解析 syntactic parsing\n",
    "- 述語項構造認識 predicate-argument recognition\n",
    "\n",
    "・伝統的な自然言語処理は上のように分割されているが、実際は相互に依存しており  \n",
    "　利用者がすべてを理解する必要がある。  \n",
    "　また、全体がパイプライン処理となっており改修がひどく難しい。\n",
    " "
   ]
  },
  {
   "cell_type": "markdown",
   "metadata": {},
   "source": [
    "---\n",
    "### 1.2　深層学習への期待\n",
    "・応用タスクを直接的に解いた研究結果がより大きな注目を集めている  \n",
    "　-> 既存の言語解析器パイプライン全てをNNで置き換える  \n",
    "　既存のシステムでは個々の解析器が独立に学習されるのに対し、  \n",
    "　深層学習によるモデルは内部表現も含めて学習される  \n"
   ]
  },
  {
   "cell_type": "markdown",
   "metadata": {},
   "source": [
    "---\n",
    "### 1.3　テキストデータの特徴\n",
    "自然言語処理では単語を処理の単位（トークン）とし、  \n",
    "文を１つの記号列としてまとめて処理することが一般的である。  \n",
    "２単語以上の文法的／意味的な集まりを句（phrase）と呼び、処理単位とすることもある。  \n",
    "単語の種類である語彙数は有限だが、文は無限に存在する。  \n",
    "\n",
    "入力データを単語などへ分割する手続きは自明でない。  \n",
    "現状としては恣意的な定義に基づいて分割している。  \n",
    "\n",
    "自然言語処理では離散記号からなる可変長の記号列を扱う。"
   ]
  },
  {
   "cell_type": "markdown",
   "metadata": {},
   "source": [
    "---\n",
    "### 1.4　他分野への広がり\n",
    "可変長の記号列を扱う分野は多く、自然言語処理の知見はそれらへ応用できる可能性がある。"
   ]
  },
  {
   "cell_type": "markdown",
   "metadata": {},
   "source": [
    "---\n",
    "次のnotebookへ続く。"
   ]
  }
 ],
 "metadata": {
  "kernelspec": {
   "display_name": "Python 3",
   "language": "python",
   "name": "python3"
  },
  "language_info": {
   "codemirror_mode": {
    "name": "ipython",
    "version": 3
   },
   "file_extension": ".py",
   "mimetype": "text/x-python",
   "name": "python",
   "nbconvert_exporter": "python",
   "pygments_lexer": "ipython3",
   "version": "3.5.2"
  }
 },
 "nbformat": 4,
 "nbformat_minor": 2
}
