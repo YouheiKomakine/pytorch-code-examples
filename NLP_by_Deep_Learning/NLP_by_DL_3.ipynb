{
 "cells": [
  {
   "cell_type": "markdown",
   "metadata": {},
   "source": [
    "### Chapter 3　言語処理における深層学習の基礎"
   ]
  },
  {
   "cell_type": "markdown",
   "metadata": {},
   "source": [
    "---\n",
    "### 3.1　準備：記号の世界とベクトルの世界の橋渡し\n",
    "離散的な記号である文字や単語などを連続する実数値のベクトルへ変換する方法の１つとして  \n",
    "one-hotベクトルが用いられる。\n",
    "\n",
    "語彙 $\\mathcal{V}$ があり、単語数は $|\\mathcal{V}|$ である。  \n",
    "ここに含まれる各単語に１から $|\\mathcal{V}|$ までの単語番号を割り振ったとする。  \n",
    "$i$ 番目の単語の番号が $n$ のとき、この単語を表すベクトル $\\mathbf{x}_{i}$ は  \n",
    "$n$ 番目の要素が１で残りが０であるような one-hotベクトルで表すこととする。\n",
    "\n",
    "単語などをニューラルネットで処理する場合は、例えば上記の考え方に基づいて  \n",
    "変換行列 $E$ に one-hotベクトル $\\mathbf{x}$ をかけて埋め込みベクトル $\\mathbf{Ex} = \\bar{\\mathbf{x}}$ を取得する。  \n",
    "この行列 $E$ は各列が一つの単語に対応し、これを埋め込み行列（emedding matrix）という。\n",
    "\n",
    "---\n",
    "逆にベクトルから記号へ変換する場合の典型的手法は、\n",
    "語彙数 $|\\mathcal{V}|$ に等しい次元数のベクトル $\\mathbf{o}$ を用意し、\n",
    "要素中で最大の要素番号に対応する単語番号の単語が選択されたとみなして変換することである。\n",
    "\n",
    "スケーリング係数 $a$ を導入したソフトマックス関数\n",
    "\n",
    "\\begin{align*}\n",
    "\\operatorname{softmax_{a}}(\\mathbf{o}) = \\frac{1}{\\exp (a \\mathbf{o}) \\cdot 1} \\exp(a \\mathbf{o})\n",
    "\\end{align*}\n",
    "\n",
    "を考える。\n",
    "式中の $\\mathbf{o}$ は強化学習でいうところの逆温度パラメータである。\n",
    "\n",
    "$\\mathbf{o}$ が $|\\mathcal{V}|$ 次元のベクトルであるとき、$\\mathbf{x} = \\operatorname{softmax_{a}}(\\mathbf{o})$ の $j$ 番目の要素 $x_{j}$ は\n",
    "\n",
    "\\begin{align*}\n",
    "s_{j} = \\frac{\\exp(ao_{j})}{\\sum_{j^{\\prime}=1}^{|\\mathcal{V}|} \\exp (ao_{j^{\\prime}})} \\, \\forall j\n",
    "\\end{align*}\n",
    "\n",
    "として計算される。  \n",
    "このときソフトマックス関数のパラメータ $a$ を十分大きい値に設定した場合、  \n",
    "得られるベクトル $\\mathbf{x} = \\operatorname{softmax_{a}}(\\mathbf{o})$ は  \n",
    "$\\mathbf{o}$ のすべての要素のうち最大値をとる要素番号の値が１であるようなone-hotベクトルを近似する。"
   ]
  },
  {
   "cell_type": "markdown",
   "metadata": {},
   "source": [
    "---\n",
    "### 3.2　言語モデル\n"
   ]
  }
 ],
 "metadata": {
  "kernelspec": {
   "display_name": "Python 3",
   "language": "python",
   "name": "python3"
  },
  "language_info": {
   "codemirror_mode": {
    "name": "ipython",
    "version": 3
   },
   "file_extension": ".py",
   "mimetype": "text/x-python",
   "name": "python",
   "nbconvert_exporter": "python",
   "pygments_lexer": "ipython3",
   "version": "3.5.2"
  }
 },
 "nbformat": 4,
 "nbformat_minor": 2
}
