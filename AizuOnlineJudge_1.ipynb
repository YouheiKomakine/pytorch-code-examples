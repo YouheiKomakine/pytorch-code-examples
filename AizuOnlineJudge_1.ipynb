{
 "cells": [
  {
   "cell_type": "markdown",
   "metadata": {},
   "source": [
    "## Aizu Online Judge\n",
    "source:  \n",
    "[Official](http://judge.u-aizu.ac.jp/onlinejudge/)  \n",
    "  \n",
    "other sources:  \n",
    "[言語の習得やアルゴリズムの学習に最適 オンラインジャッジサイト一覧（2016/12 版)](https://qiita.com/shibacho/items/20f6eee42083c620b556)  \n",
    "[python3を使用してAOJ(Aizu Online Judge)のITP1に挑戦した際にひっかかったこと](http://suburi.hatenablog.com/entry/2016/12/02/165445)  \n",
    "[新約:標準入力の受け取りその1(Python3対応版)](https://qiita.com/clarinet758/items/33bed8bb2907c68b5242)  \n",
    "[Pythonで競技プログラミングする時に知っておきたいtips(入出力編)](https://qiita.com/lethe2211/items/6cbade2bc547649bc040)  "
   ]
  },
  {
   "cell_type": "markdown",
   "metadata": {},
   "source": [
    "---\n",
    "### ITP1 : Introdution to Programing"
   ]
  },
  {
   "cell_type": "markdown",
   "metadata": {},
   "source": [
    "#### ITP1_1-A - Hello World\n",
    "Write a program which prints \"Hello World\" to standard output.  \n",
    "Input : There is no input for this problem.  \n",
    "Output : Print \"Hellow World\" in a line.  \n",
    "　(Outputの記述が間違ってるけど、大丈夫かなこのサイト)"
   ]
  },
  {
   "cell_type": "code",
   "execution_count": 1,
   "metadata": {},
   "outputs": [
    {
     "name": "stdout",
     "output_type": "stream",
     "text": [
      "Hello World\n"
     ]
    }
   ],
   "source": [
    "# coding: UTF-8\n",
    "print(\"Hello World\")"
   ]
  },
  {
   "cell_type": "markdown",
   "metadata": {},
   "source": [
    "#### ITP 1_1-B - X Cubic\n",
    "Write a program which calculates the cube of a given integer x.  \n",
    "Input : An integer x is given in a line.  \n",
    "Output : Print the cube of x in a line.  \n",
    "Constraints : 1 ≤ x ≤ 100  "
   ]
  },
  {
   "cell_type": "markdown",
   "metadata": {},
   "source": [
    "・標準入力はinput()やraw_input()で受け取る  \n",
    "・AOJでは入力は文字列らしい？  "
   ]
  },
  {
   "cell_type": "code",
   "execution_count": 2,
   "metadata": {},
   "outputs": [
    {
     "name": "stdout",
     "output_type": "stream",
     "text": [
      "2\n",
      "8\n"
     ]
    }
   ],
   "source": [
    "# coding: UTF-8\n",
    "def xcubic(x):\n",
    "    print(x**3)\n",
    "\n",
    "xcubic(int(input()))"
   ]
  },
  {
   "cell_type": "markdown",
   "metadata": {},
   "source": [
    "#### ITP 1_1-C - Rectangle\n",
    "Write a program which calculates the area and perimeter of a given rectangle.  \n",
    "Input : The length a and breadth b of the rectangle are given in a line separated by a single space.  \n",
    "Output : Print the area and perimeter of the rectangle in a line. The two integers should be separated by a single space.  \n",
    "Constraints : 1 ≤ a, b ≤ 100  "
   ]
  },
  {
   "cell_type": "code",
   "execution_count": 3,
   "metadata": {},
   "outputs": [
    {
     "name": "stdout",
     "output_type": "stream",
     "text": [
      "3 4\n",
      "12 14\n"
     ]
    }
   ],
   "source": [
    "def rectangle(input_text):\n",
    "    a,b = input_text.split(' ')\n",
    "    a,b = int(a), int(b)\n",
    "    area = a*b\n",
    "    perimeter = 2*(a+b)\n",
    "    print(\"{} {}\".format(area, perimeter))\n",
    "\n",
    "rectangle(input())"
   ]
  },
  {
   "cell_type": "code",
   "execution_count": 4,
   "metadata": {},
   "outputs": [
    {
     "name": "stdout",
     "output_type": "stream",
     "text": [
      "3 4 5\n",
      "prod=60, sum=12\n"
     ]
    }
   ],
   "source": [
    "from functools import reduce\n",
    "\n",
    "def rectangle_test(input_text):\n",
    "    nums = [int(x) for x in input_text.split(' ')] # map(int, str)は3.x系だと使えないらしい\n",
    "    prod_n = reduce(lambda x,y:x*y, nums)\n",
    "    sum_n = sum(nums)\n",
    "    print(\"prod={}, sum={}\".format(prod_n, sum_n))\n",
    "\n",
    "rectangle_test(input())"
   ]
  },
  {
   "cell_type": "markdown",
   "metadata": {},
   "source": [
    "#### ITP 1_1-D - Watch\n",
    "Write a program which reads an integer S [second] and converts it to h:m:s where h, m, s denote hours, minutes (less than 60) and seconds (less than 60) respectively.  \n",
    "Input : An integer SS is given in a line.  \n",
    "Output : Print hh, mm and ss separated by ':'. You do not need to put '0' for a value, which consists of a digit.  \n",
    "Constraints : 0≤S≤86400"
   ]
  },
  {
   "cell_type": "code",
   "execution_count": 5,
   "metadata": {},
   "outputs": [
    {
     "name": "stdout",
     "output_type": "stream",
     "text": [
      "80000\n"
     ]
    },
    {
     "data": {
      "text/plain": [
       "'22:13:20'"
      ]
     },
     "execution_count": 5,
     "metadata": {},
     "output_type": "execute_result"
    }
   ],
   "source": [
    "# use time module\n",
    "import time\n",
    "time.strftime('%H:%M:%S', time.gmtime(int(input())))"
   ]
  },
  {
   "cell_type": "code",
   "execution_count": 6,
   "metadata": {},
   "outputs": [
    {
     "name": "stdout",
     "output_type": "stream",
     "text": [
      "80000\n",
      "22:13:20\n"
     ]
    }
   ],
   "source": [
    "# no time module\n",
    "m,s = divmod(int(input()), 60)\n",
    "h,m = divmod(m, 60)\n",
    "print(\"{}:{}:{}\".format(h,m,s))"
   ]
  },
  {
   "cell_type": "markdown",
   "metadata": {},
   "source": [
    "#### ITP 1_2 -A - Small, Large, or Equal\n",
    "Write a program which prints small/large/equal relation of given two integers a and b.  \n",
    "Input : Two integers a and b separated by a single space are given in a line.  \n",
    "Output : For given two integers a and b, print  \n",
    "-    a < b if a is less than b,  \n",
    "-    a > b if a is greater than b,  \n",
    "-    a == b if a equals to b.  \n",
    "\n",
    "Constraints : -1000 ≤ a, b ≤ 1000  "
   ]
  },
  {
   "cell_type": "code",
   "execution_count": 7,
   "metadata": {},
   "outputs": [
    {
     "name": "stdout",
     "output_type": "stream",
     "text": [
      "-200 -500\n",
      "a > b\n"
     ]
    }
   ],
   "source": [
    "a,b = [int(x) for x in input().split(' ')]\n",
    "if a<b:\n",
    "    print(\"a < b\")\n",
    "elif a>b:\n",
    "    print(\"a > b\")\n",
    "else:\n",
    "    print(\"a == b\")"
   ]
  },
  {
   "cell_type": "markdown",
   "metadata": {},
   "source": [
    "#### ITP 1_2-B - Range\n",
    "Write a program which reads three integers a, b and c, and prints \"Yes\" if a<b<c, otherwise \"No\".  \n",
    "Input : Three integers a, b and c separated by a single space are given in a line.  \n",
    "Output : Print \"Yes\" or \"No\" in a line.  \n",
    "Constraints : 0 ≤ a, b, c ≤ 100  "
   ]
  },
  {
   "cell_type": "code",
   "execution_count": 8,
   "metadata": {},
   "outputs": [
    {
     "name": "stdout",
     "output_type": "stream",
     "text": [
      "3 4 5\n",
      "Yes\n"
     ]
    }
   ],
   "source": [
    "a,b,c = [int(x) for x in input().split(' ')]\n",
    "if a<b<c:\n",
    "    print(\"Yes\")\n",
    "else:\n",
    "    print(\"No\")"
   ]
  },
  {
   "cell_type": "markdown",
   "metadata": {},
   "source": [
    "#### ITP 1_2-C - Sorting Three Numbers\n",
    "Write a program which reads three integers, and prints them in ascending order.  \n",
    "Input : Three integers separated by a single space are given in a line.  \n",
    "Output : Print the given integers in ascending order in a line. Put a single space between two integers.  \n",
    "Constraints : 1 ≤ the three integers ≤ 10000  "
   ]
  },
  {
   "cell_type": "code",
   "execution_count": 9,
   "metadata": {},
   "outputs": [
    {
     "name": "stdout",
     "output_type": "stream",
     "text": [
      "10000 100 1000\n",
      "100 1000 10000\n"
     ]
    }
   ],
   "source": [
    "a,b,c = [int(x) for x in input().split(' ')]\n",
    "answer = \" \".join([str(x) for x in sorted([a,b,c])])\n",
    "print(answer)"
   ]
  },
  {
   "cell_type": "markdown",
   "metadata": {},
   "source": [
    "#### ITP 1_2-D - Circle in a Rectangle\n",
    "Write a program which reads a rectangle and a circle, and determines whether the circle is arranged inside the rectangle. As shown in the following figures, the upper right coordinate (W,H) of the rectangle and the central coordinate (x,y) and radius r of the circle are given.  \n",
    "  \n",
    "Input : Five integers W, H, x, y and r separated by a single space are given in a line.  \n",
    "Output : Print \"Yes\" if the circle is placed inside the rectangle, otherwise \"No\" in a line.  \n",
    "Constraints : $−100≤x,y≤100−100≤x,y≤100$ , $0<W,H,r≤100$"
   ]
  },
  {
   "cell_type": "code",
   "execution_count": 10,
   "metadata": {
    "scrolled": true
   },
   "outputs": [
    {
     "name": "stdout",
     "output_type": "stream",
     "text": [
      "5 4 2 2 1\n",
      "Yes\n"
     ]
    }
   ],
   "source": [
    "input_text = input()\n",
    "W,H,x,y,r = [int(x) for x in input_text.split(' ')]\n",
    "print(\"Yes\") if (x-r>=0) and (y-r>=0) and (x+r<=W) and (y+r<=H) else print(\"No\")"
   ]
  },
  {
   "cell_type": "markdown",
   "metadata": {},
   "source": [
    "#### ITP 1_3-A - Print Many Hello World\n",
    "Write a program which prints 1000 \"Hello World\".  \n",
    "  \n",
    "Input : There is no input for this problem.  \n",
    "Output : The output consists of 1000 lines. Print \"Hello World\" in each line."
   ]
  },
  {
   "cell_type": "code",
   "execution_count": 11,
   "metadata": {
    "scrolled": false
   },
   "outputs": [
    {
     "name": "stdout",
     "output_type": "stream",
     "text": [
      "Hello World\n",
      "Hello World\n",
      "Hello World\n"
     ]
    },
    {
     "data": {
      "text/plain": [
       "[None, None, None]"
      ]
     },
     "execution_count": 11,
     "metadata": {},
     "output_type": "execute_result"
    }
   ],
   "source": [
    "# range(3) for test\n",
    "[print(\"Hello World\") for i in range(3)]"
   ]
  },
  {
   "cell_type": "markdown",
   "metadata": {},
   "source": [
    "#### ITP 1_3-B - Print Test Cases\n",
    "In an online judge system, a judge file may includes multiple datasets to check whether the submitted program outputs a correct answer for each test case. This task is to practice solving a problem with multiple datasets.  \n",
    "Write a program which reads an integer x and print it as is. Note that multiple datasets are given for this problem.  \n",
    "  \n",
    "Input :  \n",
    "The input consists of multiple datasets. Each dataset consists of an integer x in a line.  \n",
    "The input ends with an integer 0. You program should not process (print) for this terminal symbol.    \n",
    "  \n",
    "Output :   \n",
    "For each dataset, print x in the following format: Case i: x  \n",
    "where i is the case number which starts with 1. Put a single space between \"Case\" and i. Also, put a single space between ':' and x.  \n",
    "  \n",
    "Constraints : $1 ≤ x ≤ 10000$ , The number of datasets $≤ 10000$"
   ]
  },
  {
   "cell_type": "code",
   "execution_count": 12,
   "metadata": {},
   "outputs": [
    {
     "name": "stdout",
     "output_type": "stream",
     "text": [
      "3\n",
      "4\n",
      "5\n",
      "0\n",
      "Case 1: 3\n",
      "Case 2: 4\n",
      "Case 3: 5\n"
     ]
    }
   ],
   "source": [
    "input_text = []\n",
    "x = input()\n",
    "while x!=\"0\":\n",
    "    input_text.append(x)\n",
    "    x = input()\n",
    "    \n",
    "for i, t in enumerate(input_text):\n",
    "    print(\"Case {}: {}\".format(i+1, t))"
   ]
  },
  {
   "cell_type": "markdown",
   "metadata": {},
   "source": [
    "#### ITP 1_3-C - Swapping Two Numbers\n",
    "Write a program which reads two integers x and y, and prints them in ascending order.  \n",
    "  \n",
    "Input :   \n",
    "The input consists of multiple datasets. Each dataset consists of two integers x and y separated by a single space.  The input ends with two 0 (when both x and y are zero). Your program should not process for these terminal symbols.  \n",
    "  \n",
    "Output : For each dataset, print x and y in ascending order in a line. Put a single space between x and y.  \n",
    "Constraints : $0 ≤ x, y ≤ 10000$ , the number of datasets $≤ 3000$"
   ]
  },
  {
   "cell_type": "code",
   "execution_count": 13,
   "metadata": {
    "collapsed": true,
    "scrolled": false
   },
   "outputs": [],
   "source": [
    "import sys\n",
    "input_text = sys.stdin\n",
    "\n",
    "for t in input_text:\n",
    "    a,b = map(int, t.split())\n",
    "    if a==0 and b==0:\n",
    "        break\n",
    "    else:\n",
    "        print(a,b) if a<=b else print(b,a)"
   ]
  },
  {
   "cell_type": "markdown",
   "metadata": {},
   "source": [
    "#### ITP 1_3-D - How Many Divisors?\n",
    "Write a program which reads three integers a, b and c, and prints the number of divisors of c between a and b.  \n",
    "  \n",
    "Input : Three integers a, b and c are given in a line separated by a single space.  \n",
    "Output : Print the number of divisors in a line.  \n",
    "Constraints : $1 ≤ a, b, c ≤ 10000$ , $a ≤ b$"
   ]
  },
  {
   "cell_type": "code",
   "execution_count": 14,
   "metadata": {},
   "outputs": [
    {
     "name": "stdout",
     "output_type": "stream",
     "text": [
      "5 14 80\n",
      "3\n"
     ]
    }
   ],
   "source": [
    "input_text = input()\n",
    "a,b,c = map(int, input_text.split())\n",
    "\n",
    "divisor_n = 0\n",
    "for i in range(a,b+1):\n",
    "    if c%i==0:\n",
    "        divisor_n += 1\n",
    "\n",
    "print(divisor_n)"
   ]
  },
  {
   "cell_type": "markdown",
   "metadata": {},
   "source": [
    "#### ITP 1_4-A - A/B Problem"
   ]
  },
  {
   "cell_type": "code",
   "execution_count": 15,
   "metadata": {},
   "outputs": [
    {
     "name": "stdout",
     "output_type": "stream",
     "text": [
      "8 3\n",
      "2 2 2.66667\n"
     ]
    }
   ],
   "source": [
    "input_text = input()\n",
    "a,b = map(int, input_text.split())\n",
    "\n",
    "d,r = divmod(a,b)\n",
    "f = float(a)/float(b)\n",
    "print(d,r,round(f,5))"
   ]
  },
  {
   "cell_type": "code",
   "execution_count": null,
   "metadata": {
    "collapsed": true
   },
   "outputs": [],
   "source": []
  }
 ],
 "metadata": {
  "kernelspec": {
   "display_name": "Python 3",
   "language": "python",
   "name": "python3"
  },
  "language_info": {
   "codemirror_mode": {
    "name": "ipython",
    "version": 3
   },
   "file_extension": ".py",
   "mimetype": "text/x-python",
   "name": "python",
   "nbconvert_exporter": "python",
   "pygments_lexer": "ipython3",
   "version": "3.6.1"
  }
 },
 "nbformat": 4,
 "nbformat_minor": 2
}
