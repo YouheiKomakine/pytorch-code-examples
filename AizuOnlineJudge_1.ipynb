{
 "cells": [
  {
   "cell_type": "markdown",
   "metadata": {},
   "source": [
    "## Aizu Online Judge\n",
    "source:  \n",
    "[Official](http://judge.u-aizu.ac.jp/onlinejudge/)  \n",
    "  \n",
    "other sources:  \n",
    "[言語の習得やアルゴリズムの学習に最適 オンラインジャッジサイト一覧（2016/12 版)](https://qiita.com/shibacho/items/20f6eee42083c620b556)  \n",
    "[python3を使用してAOJ(Aizu Online Judge)のITP1に挑戦した際にひっかかったこと](http://suburi.hatenablog.com/entry/2016/12/02/165445)  \n",
    "[新約:標準入力の受け取りその1(Python3対応版)](https://qiita.com/clarinet758/items/33bed8bb2907c68b5242)  \n",
    "[Pythonで競技プログラミングする時に知っておきたいtips(入出力編)](https://qiita.com/lethe2211/items/6cbade2bc547649bc040)  "
   ]
  },
  {
   "cell_type": "markdown",
   "metadata": {},
   "source": [
    "---\n",
    "### ITP1 : Introdution to Programing"
   ]
  },
  {
   "cell_type": "markdown",
   "metadata": {},
   "source": [
    "#### ITP1_1-A - Hello World\n",
    "Write a program which prints \"Hello World\" to standard output.  \n",
    "Input : There is no input for this problem.  \n",
    "Output : Print \"Hellow World\" in a line.  \n",
    "　(Outputの記述が間違ってるけど、大丈夫かなこのサイト)"
   ]
  },
  {
   "cell_type": "code",
   "execution_count": 1,
   "metadata": {},
   "outputs": [
    {
     "name": "stdout",
     "output_type": "stream",
     "text": [
      "Hello World\n"
     ]
    }
   ],
   "source": [
    "# coding: UTF-8\n",
    "print(\"Hello World\")"
   ]
  },
  {
   "cell_type": "markdown",
   "metadata": {},
   "source": [
    "#### ITP 1_1-B - X Cubic\n",
    "Write a program which calculates the cube of a given integer x.  \n",
    "Input : An integer x is given in a line.  \n",
    "Output : Print the cube of x in a line.  \n",
    "Constraints : 1 ≤ x ≤ 100  "
   ]
  },
  {
   "cell_type": "markdown",
   "metadata": {},
   "source": [
    "・標準入力はinput()やraw_input()で受け取る  \n",
    "・AOJでは入力は文字列らしい？  "
   ]
  },
  {
   "cell_type": "code",
   "execution_count": 2,
   "metadata": {},
   "outputs": [
    {
     "name": "stdout",
     "output_type": "stream",
     "text": [
      "2\n",
      "8\n"
     ]
    }
   ],
   "source": [
    "# coding: UTF-8\n",
    "def xcubic(x):\n",
    "    print(x**3)\n",
    "\n",
    "xcubic(int(input()))"
   ]
  },
  {
   "cell_type": "markdown",
   "metadata": {},
   "source": [
    "#### ITP 1_1-C - Rectangle\n",
    "Write a program which calculates the area and perimeter of a given rectangle.  \n",
    "Input : The length a and breadth b of the rectangle are given in a line separated by a single space.  \n",
    "Output : Print the area and perimeter of the rectangle in a line. The two integers should be separated by a single space.  \n",
    "Constraints : 1 ≤ a, b ≤ 100  "
   ]
  },
  {
   "cell_type": "code",
   "execution_count": 3,
   "metadata": {},
   "outputs": [
    {
     "name": "stdout",
     "output_type": "stream",
     "text": [
      "3 4\n",
      "12 14\n"
     ]
    }
   ],
   "source": [
    "def rectangle(input_text):\n",
    "    a,b = input_text.split(' ')\n",
    "    a,b = int(a), int(b)\n",
    "    area = a*b\n",
    "    perimeter = 2*(a+b)\n",
    "    print(\"{} {}\".format(area, perimeter))\n",
    "\n",
    "rectangle(input())"
   ]
  },
  {
   "cell_type": "code",
   "execution_count": 4,
   "metadata": {},
   "outputs": [
    {
     "name": "stdout",
     "output_type": "stream",
     "text": [
      "3 4 5\n",
      "prod=60, sum=12\n"
     ]
    }
   ],
   "source": [
    "from functools import reduce\n",
    "\n",
    "def rectangle_test(input_text):\n",
    "    nums = [int(x) for x in input_text.split(' ')] # map(int, str)は3.x系だと使えないらしい\n",
    "    prod_n = reduce(lambda x,y:x*y, nums)\n",
    "    sum_n = sum(nums)\n",
    "    print(\"prod={}, sum={}\".format(prod_n, sum_n))\n",
    "\n",
    "rectangle_test(input())"
   ]
  },
  {
   "cell_type": "markdown",
   "metadata": {},
   "source": [
    "#### ITP 1_1-D - Watch\n",
    "Write a program which reads an integer S [second] and converts it to h:m:s where h, m, s denote hours, minutes (less than 60) and seconds (less than 60) respectively.  \n",
    "Input : An integer SS is given in a line.  \n",
    "Output : Print hh, mm and ss separated by ':'. You do not need to put '0' for a value, which consists of a digit.  \n",
    "Constraints : 0≤S≤86400"
   ]
  },
  {
   "cell_type": "code",
   "execution_count": 5,
   "metadata": {},
   "outputs": [
    {
     "name": "stdout",
     "output_type": "stream",
     "text": [
      "80000\n"
     ]
    },
    {
     "data": {
      "text/plain": [
       "'22:13:20'"
      ]
     },
     "execution_count": 5,
     "metadata": {},
     "output_type": "execute_result"
    }
   ],
   "source": [
    "# use time module\n",
    "import time\n",
    "time.strftime('%H:%M:%S', time.gmtime(int(input())))"
   ]
  },
  {
   "cell_type": "code",
   "execution_count": 6,
   "metadata": {},
   "outputs": [
    {
     "name": "stdout",
     "output_type": "stream",
     "text": [
      "80000\n",
      "22:13:20\n"
     ]
    }
   ],
   "source": [
    "# no time module\n",
    "m,s = divmod(int(input()), 60)\n",
    "h,m = divmod(m, 60)\n",
    "print(\"{}:{}:{}\".format(h,m,s))"
   ]
  },
  {
   "cell_type": "markdown",
   "metadata": {},
   "source": [
    "#### ITP 1_2 -A - Small, Large, or Equal\n",
    "Write a program which prints small/large/equal relation of given two integers a and b.  \n",
    "Input : Two integers a and b separated by a single space are given in a line.  \n",
    "Output : For given two integers a and b, print  \n",
    "-    a < b if a is less than b,  \n",
    "-    a > b if a is greater than b,  \n",
    "-    a == b if a equals to b.  \n",
    "\n",
    "Constraints : -1000 ≤ a, b ≤ 1000  "
   ]
  },
  {
   "cell_type": "code",
   "execution_count": 7,
   "metadata": {},
   "outputs": [
    {
     "name": "stdout",
     "output_type": "stream",
     "text": [
      "-200 -500\n",
      "a > b\n"
     ]
    }
   ],
   "source": [
    "a,b = [int(x) for x in input().split(' ')]\n",
    "if a<b:\n",
    "    print(\"a < b\")\n",
    "elif a>b:\n",
    "    print(\"a > b\")\n",
    "else:\n",
    "    print(\"a == b\")"
   ]
  },
  {
   "cell_type": "markdown",
   "metadata": {},
   "source": [
    "#### ITP 1_2-B - Range\n",
    "Write a program which reads three integers a, b and c, and prints \"Yes\" if a<b<c, otherwise \"No\".  \n",
    "Input : Three integers a, b and c separated by a single space are given in a line.  \n",
    "Output : Print \"Yes\" or \"No\" in a line.  \n",
    "Constraints : 0 ≤ a, b, c ≤ 100  "
   ]
  },
  {
   "cell_type": "code",
   "execution_count": 8,
   "metadata": {},
   "outputs": [
    {
     "name": "stdout",
     "output_type": "stream",
     "text": [
      "3 4 5\n",
      "Yes\n"
     ]
    }
   ],
   "source": [
    "a,b,c = [int(x) for x in input().split(' ')]\n",
    "if a<b<c:\n",
    "    print(\"Yes\")\n",
    "else:\n",
    "    print(\"No\")"
   ]
  },
  {
   "cell_type": "markdown",
   "metadata": {},
   "source": [
    "#### ITP 1_2-C - Sorting Three Numbers\n",
    "Write a program which reads three integers, and prints them in ascending order.  \n",
    "Input : Three integers separated by a single space are given in a line.  \n",
    "Output : Print the given integers in ascending order in a line. Put a single space between two integers.  \n",
    "Constraints : 1 ≤ the three integers ≤ 10000  "
   ]
  },
  {
   "cell_type": "code",
   "execution_count": 9,
   "metadata": {},
   "outputs": [
    {
     "name": "stdout",
     "output_type": "stream",
     "text": [
      "10000 100 1000\n",
      "100 1000 10000\n"
     ]
    }
   ],
   "source": [
    "a,b,c = [int(x) for x in input().split(' ')]\n",
    "answer = \" \".join([str(x) for x in sorted([a,b,c])])\n",
    "print(answer)"
   ]
  },
  {
   "cell_type": "markdown",
   "metadata": {},
   "source": [
    "#### ITP 1_2-D - Circle in a Rectangle\n",
    "Write a program which reads a rectangle and a circle, and determines whether the circle is arranged inside the rectangle. As shown in the following figures, the upper right coordinate (W,H) of the rectangle and the central coordinate (x,y) and radius r of the circle are given.  \n",
    "  \n",
    "Input : Five integers W, H, x, y and r separated by a single space are given in a line.  \n",
    "Output : Print \"Yes\" if the circle is placed inside the rectangle, otherwise \"No\" in a line.  \n",
    "Constraints : $−100≤x,y≤100−100≤x,y≤100$ , $0<W,H,r≤100$"
   ]
  },
  {
   "cell_type": "code",
   "execution_count": 10,
   "metadata": {
    "scrolled": true
   },
   "outputs": [
    {
     "name": "stdout",
     "output_type": "stream",
     "text": [
      "5 4 2 2 1\n",
      "Yes\n"
     ]
    }
   ],
   "source": [
    "input_text = input()\n",
    "W,H,x,y,r = [int(x) for x in input_text.split(' ')]\n",
    "print(\"Yes\") if (x-r>=0) and (y-r>=0) and (x+r<=W) and (y+r<=H) else print(\"No\")"
   ]
  },
  {
   "cell_type": "markdown",
   "metadata": {},
   "source": [
    "#### ITP 1_3-A - Print Many Hello World\n",
    "Write a program which prints 1000 \"Hello World\".  \n",
    "  \n",
    "Input : There is no input for this problem.  \n",
    "Output : The output consists of 1000 lines. Print \"Hello World\" in each line."
   ]
  },
  {
   "cell_type": "code",
   "execution_count": 11,
   "metadata": {
    "scrolled": false
   },
   "outputs": [
    {
     "name": "stdout",
     "output_type": "stream",
     "text": [
      "Hello World\n",
      "Hello World\n",
      "Hello World\n"
     ]
    },
    {
     "data": {
      "text/plain": [
       "[None, None, None]"
      ]
     },
     "execution_count": 11,
     "metadata": {},
     "output_type": "execute_result"
    }
   ],
   "source": [
    "# range(3) for test\n",
    "[print(\"Hello World\") for i in range(3)]"
   ]
  },
  {
   "cell_type": "markdown",
   "metadata": {},
   "source": [
    "#### ITP 1_3-B - Print Test Cases\n",
    "In an online judge system, a judge file may includes multiple datasets to check whether the submitted program outputs a correct answer for each test case. This task is to practice solving a problem with multiple datasets.  \n",
    "Write a program which reads an integer x and print it as is. Note that multiple datasets are given for this problem.  \n",
    "  \n",
    "Input :  \n",
    "The input consists of multiple datasets. Each dataset consists of an integer x in a line.  \n",
    "The input ends with an integer 0. You program should not process (print) for this terminal symbol.    \n",
    "  \n",
    "Output :   \n",
    "For each dataset, print x in the following format: Case i: x  \n",
    "where i is the case number which starts with 1. Put a single space between \"Case\" and i. Also, put a single space between ':' and x.  \n",
    "  \n",
    "Constraints : $1 ≤ x ≤ 10000$ , The number of datasets $≤ 10000$"
   ]
  },
  {
   "cell_type": "code",
   "execution_count": 12,
   "metadata": {},
   "outputs": [
    {
     "name": "stdout",
     "output_type": "stream",
     "text": [
      "3\n",
      "4\n",
      "5\n",
      "0\n",
      "Case 1: 3\n",
      "Case 2: 4\n",
      "Case 3: 5\n"
     ]
    }
   ],
   "source": [
    "input_text = []\n",
    "x = input()\n",
    "while x!=\"0\":\n",
    "    input_text.append(x)\n",
    "    x = input()\n",
    "    \n",
    "for i, t in enumerate(input_text):\n",
    "    print(\"Case {}: {}\".format(i+1, t))"
   ]
  },
  {
   "cell_type": "markdown",
   "metadata": {},
   "source": [
    "#### ITP 1_3-C - Swapping Two Numbers\n",
    "Write a program which reads two integers x and y, and prints them in ascending order.  \n",
    "  \n",
    "Input :   \n",
    "The input consists of multiple datasets. Each dataset consists of two integers x and y separated by a single space.  The input ends with two 0 (when both x and y are zero). Your program should not process for these terminal symbols.  \n",
    "  \n",
    "Output : For each dataset, print x and y in ascending order in a line. Put a single space between x and y.  \n",
    "Constraints : $0 ≤ x, y ≤ 10000$ , the number of datasets $≤ 3000$"
   ]
  },
  {
   "cell_type": "code",
   "execution_count": 13,
   "metadata": {
    "collapsed": true,
    "scrolled": false
   },
   "outputs": [],
   "source": [
    "import sys\n",
    "input_text = sys.stdin\n",
    "\n",
    "for t in input_text:\n",
    "    a,b = map(int, t.split())\n",
    "    if a==0 and b==0:\n",
    "        break\n",
    "    else:\n",
    "        print(a,b) if a<=b else print(b,a)"
   ]
  },
  {
   "cell_type": "markdown",
   "metadata": {},
   "source": [
    "#### ITP 1_3-D - How Many Divisors?\n",
    "Write a program which reads three integers a, b and c, and prints the number of divisors of c between a and b.  \n",
    "  \n",
    "Input : Three integers a, b and c are given in a line separated by a single space.  \n",
    "Output : Print the number of divisors in a line.  \n",
    "Constraints : $1 ≤ a, b, c ≤ 10000$ , $a ≤ b$"
   ]
  },
  {
   "cell_type": "code",
   "execution_count": 14,
   "metadata": {},
   "outputs": [
    {
     "name": "stdout",
     "output_type": "stream",
     "text": [
      "5 14 80\n",
      "3\n"
     ]
    }
   ],
   "source": [
    "input_text = input()\n",
    "a,b,c = map(int, input_text.split())\n",
    "\n",
    "divisor_n = 0\n",
    "for i in range(a,b+1):\n",
    "    if c%i==0:\n",
    "        divisor_n += 1\n",
    "\n",
    "print(divisor_n)"
   ]
  },
  {
   "cell_type": "markdown",
   "metadata": {},
   "source": [
    "#### ITP 1_4-A - A/B Problem"
   ]
  },
  {
   "cell_type": "code",
   "execution_count": 15,
   "metadata": {
    "scrolled": true
   },
   "outputs": [
    {
     "name": "stdout",
     "output_type": "stream",
     "text": [
      "8 3\n",
      "2 2 2.66667\n"
     ]
    }
   ],
   "source": [
    "input_text = input()\n",
    "a,b = map(int, input_text.split())\n",
    "\n",
    "d,r = divmod(a,b)\n",
    "f = float(a)/float(b)\n",
    "print(d,r,round(f,5))"
   ]
  },
  {
   "cell_type": "markdown",
   "metadata": {},
   "source": [
    "#### ITP 1_4-B - Circle"
   ]
  },
  {
   "cell_type": "code",
   "execution_count": 1,
   "metadata": {},
   "outputs": [
    {
     "name": "stdout",
     "output_type": "stream",
     "text": [
      "2\n",
      "12.566371 12.566371\n"
     ]
    }
   ],
   "source": [
    "import math\n",
    "\n",
    "input_text = input()\n",
    "r  =float(input_text)\n",
    "area, circumference = math.pi * r**2, 2*math.pi*r\n",
    "print(round(area,6), round(circumference,6))"
   ]
  },
  {
   "cell_type": "markdown",
   "metadata": {},
   "source": [
    "#### ITP 1_4-C - Simple Calculator"
   ]
  },
  {
   "cell_type": "code",
   "execution_count": 2,
   "metadata": {},
   "outputs": [],
   "source": [
    "import math\n",
    "import sys\n",
    "input_text = sys.stdin\n",
    "#input_text = input()\n",
    "\n",
    "for t in input_text:\n",
    "    a,op,b = t.split()\n",
    "    a,b = float(a),float(b)\n",
    "\n",
    "    if op==\"+\":\n",
    "        print(int(a+b))\n",
    "    elif op==\"-\":\n",
    "        print(int(a-b))\n",
    "    elif op==\"*\":\n",
    "        print(int(a*b))\n",
    "    elif op==\"/\":\n",
    "        print(int(math.floor(a/b)))\n",
    "    elif op==\"?\" or b==\"?\":\n",
    "        break\n",
    "    else:\n",
    "        break"
   ]
  },
  {
   "cell_type": "markdown",
   "metadata": {},
   "source": [
    "#### ITP 1_4-D - Min, Max and Sum"
   ]
  },
  {
   "cell_type": "code",
   "execution_count": 3,
   "metadata": {
    "collapsed": true
   },
   "outputs": [],
   "source": [
    "import sys\n",
    "input_text = sys.stdin\n",
    "\n",
    "for i,t in enumerate(input_text):\n",
    "    if i==1:\n",
    "        s = list(map(int, t.split()))\n",
    "        print(min(s), max(s), sum(s))"
   ]
  },
  {
   "cell_type": "markdown",
   "metadata": {},
   "source": [
    "#### ITP 1_5-A - Print a Rectangle"
   ]
  },
  {
   "cell_type": "code",
   "execution_count": 4,
   "metadata": {
    "collapsed": true
   },
   "outputs": [],
   "source": [
    "import sys\n",
    "input_text = sys.stdin\n",
    "\n",
    "for line in input_text:\n",
    "    H,W = line.split()\n",
    "    image = \"\"\n",
    "    if H=='0' and W=='0': break\n",
    "    for h in range(int(H)):\n",
    "        for w in range(int(W)):\n",
    "            image += \"#\"\n",
    "        image += \"\\n\"\n",
    "    print(image)"
   ]
  },
  {
   "cell_type": "markdown",
   "metadata": {},
   "source": [
    "#### ITP 1_5-B - Print a Frame"
   ]
  },
  {
   "cell_type": "code",
   "execution_count": 5,
   "metadata": {
    "collapsed": true
   },
   "outputs": [],
   "source": [
    "import sys\n",
    "input_text = sys.stdin\n",
    "\n",
    "for line in input_text:\n",
    "    H,W = line.split()\n",
    "    if H=='0' and W=='0': break\n",
    "        \n",
    "    image = \"\"\n",
    "    for h in range(int(H)):\n",
    "        inner = \"#\" if (h==0 or h==int(H)-1) else \".\"\n",
    "        image += \"#\" + inner*(int(W)-2) + \"#\\n\"\n",
    "    print(image)"
   ]
  },
  {
   "cell_type": "markdown",
   "metadata": {},
   "source": [
    "#### ITP 1_5-C - Print a Chessboard"
   ]
  },
  {
   "cell_type": "code",
   "execution_count": 6,
   "metadata": {
    "collapsed": true
   },
   "outputs": [],
   "source": [
    "import sys\n",
    "input_text = sys.stdin\n",
    "\n",
    "for line in input_text:\n",
    "    H,W = line.split()\n",
    "    if H=='0' and W=='0': break\n",
    "        \n",
    "    image = \"\"\n",
    "    for h in range(int(H)):\n",
    "        letter = \"#\" if h%2==0 else \".\"\n",
    "        for w in range(int(W)):\n",
    "            image += letter\n",
    "            letter = \".\" if letter==\"#\" else \"#\"\n",
    "        image += \"\\n\"\n",
    "    print(image)"
   ]
  },
  {
   "cell_type": "markdown",
   "metadata": {},
   "source": [
    "#### ITP 1_5-D - Structured Programming"
   ]
  },
  {
   "cell_type": "markdown",
   "metadata": {},
   "source": [
    "参考  \n",
    "coutは、標準出力に対するマルチバイト出力ストリームオブジェクトである。  \n",
    "std::cout << \"Hello world\" << std::endl;　は  \n",
    "Hello world の出力を得る。  "
   ]
  },
  {
   "cell_type": "code",
   "execution_count": 7,
   "metadata": {
    "scrolled": true
   },
   "outputs": [
    {
     "name": "stdout",
     "output_type": "stream",
     "text": [
      "100\n",
      " 3 6 9 12 13 15 18 21 23 24 27 30 31 32 33 34 35 36 37 38 39 42 43 45 48 51 53 54 57 60 63 66 69 72 73 75 78 81 83 84 87 90 93 96 99\n"
     ]
    }
   ],
   "source": [
    "input_text = input()\n",
    "\n",
    "n = int(input_text)\n",
    "answer = \"\"\n",
    "\n",
    "for i in range(n):\n",
    "    a,x=i+1, i+1\n",
    "    \n",
    "    if x%3==0 or x%10==3:\n",
    "        answer += \" {}\".format(a)\n",
    "    else:\n",
    "        while x>=1:\n",
    "            x = x//10\n",
    "            if x%10==3:\n",
    "                answer += \" {}\".format(a)\n",
    "                break\n",
    "print(answer)"
   ]
  },
  {
   "cell_type": "markdown",
   "metadata": {},
   "source": [
    "#### ITP 1_6-A - Reversing Numbers"
   ]
  },
  {
   "cell_type": "code",
   "execution_count": 8,
   "metadata": {},
   "outputs": [
    {
     "ename": "NameError",
     "evalue": "name 'rs' is not defined",
     "output_type": "error",
     "traceback": [
      "\u001b[0;31m---------------------------------------------------------------------------\u001b[0m",
      "\u001b[0;31mNameError\u001b[0m                                 Traceback (most recent call last)",
      "\u001b[0;32m<ipython-input-8-c87547ca60ac>\u001b[0m in \u001b[0;36m<module>\u001b[0;34m()\u001b[0m\n\u001b[1;32m      6\u001b[0m         \u001b[0ms\u001b[0m \u001b[0;34m=\u001b[0m \u001b[0mlist\u001b[0m\u001b[0;34m(\u001b[0m\u001b[0mmap\u001b[0m\u001b[0;34m(\u001b[0m\u001b[0mint\u001b[0m\u001b[0;34m,\u001b[0m \u001b[0mt\u001b[0m\u001b[0;34m.\u001b[0m\u001b[0msplit\u001b[0m\u001b[0;34m(\u001b[0m\u001b[0;34m)\u001b[0m\u001b[0;34m)\u001b[0m\u001b[0;34m)\u001b[0m\u001b[0;34m\u001b[0m\u001b[0m\n\u001b[1;32m      7\u001b[0m         \u001b[0mrs\u001b[0m \u001b[0;34m=\u001b[0m \u001b[0mmap\u001b[0m\u001b[0;34m(\u001b[0m\u001b[0mstr\u001b[0m\u001b[0;34m,\u001b[0m\u001b[0ms\u001b[0m\u001b[0;34m[\u001b[0m\u001b[0;34m:\u001b[0m\u001b[0;34m:\u001b[0m\u001b[0;34m-\u001b[0m\u001b[0;36m1\u001b[0m\u001b[0;34m]\u001b[0m\u001b[0;34m)\u001b[0m\u001b[0;34m\u001b[0m\u001b[0m\n\u001b[0;32m----> 8\u001b[0;31m \u001b[0mprint\u001b[0m\u001b[0;34m(\u001b[0m\u001b[0;34m\" \"\u001b[0m\u001b[0;34m.\u001b[0m\u001b[0mjoin\u001b[0m\u001b[0;34m(\u001b[0m\u001b[0mrs\u001b[0m\u001b[0;34m)\u001b[0m\u001b[0;34m)\u001b[0m\u001b[0;34m\u001b[0m\u001b[0m\n\u001b[0m",
      "\u001b[0;31mNameError\u001b[0m: name 'rs' is not defined"
     ]
    }
   ],
   "source": [
    "import sys\n",
    "input_text = sys.stdin\n",
    "\n",
    "for i,t in enumerate(input_text):\n",
    "    if i==1:\n",
    "        s = list(map(int, t.split()))\n",
    "        rs = map(str,s[::-1])\n",
    "print(\" \".join(rs))"
   ]
  },
  {
   "cell_type": "markdown",
   "metadata": {},
   "source": [
    "#### ITP 1_6-B - Finding missing Cards"
   ]
  },
  {
   "cell_type": "code",
   "execution_count": 9,
   "metadata": {
    "scrolled": true
   },
   "outputs": [
    {
     "name": "stdout",
     "output_type": "stream",
     "text": [
      "S 1\n",
      "S 2\n",
      "S 3\n",
      "S 4\n",
      "S 5\n",
      "S 6\n",
      "S 7\n",
      "S 8\n",
      "S 9\n",
      "S 10\n",
      "S 11\n",
      "S 12\n",
      "S 13\n",
      "H 1\n",
      "H 2\n",
      "H 3\n",
      "H 4\n",
      "H 5\n",
      "H 6\n",
      "H 7\n",
      "H 8\n",
      "H 9\n",
      "H 10\n",
      "H 11\n",
      "H 12\n",
      "H 13\n",
      "C 1\n",
      "C 2\n",
      "C 3\n",
      "C 4\n",
      "C 5\n",
      "C 6\n",
      "C 7\n",
      "C 8\n",
      "C 9\n",
      "C 10\n",
      "C 11\n",
      "C 12\n",
      "C 13\n",
      "D 1\n",
      "D 2\n",
      "D 3\n",
      "D 4\n",
      "D 5\n",
      "D 6\n",
      "D 7\n",
      "D 8\n",
      "D 9\n",
      "D 10\n",
      "D 11\n",
      "D 12\n",
      "D 13\n"
     ]
    }
   ],
   "source": [
    "import sys, itertools\n",
    "input_text = sys.stdin\n",
    "\n",
    "suit = ['S', 'H', 'C', 'D']\n",
    "card_set = {}\n",
    "for s,n in itertools.product(suit, range(13)):\n",
    "    card_set[s,str(n+1)]=0\n",
    "\n",
    "for i,t in enumerate(input_text):\n",
    "    if i!=0:\n",
    "        s,n = t.split()\n",
    "        card_set[s,n] += 1\n",
    "        \n",
    "for s in suit:\n",
    "    for i in range(13):\n",
    "        if card_set[s,str(i+1)]==0:\n",
    "            print(s,i+1)"
   ]
  },
  {
   "cell_type": "markdown",
   "metadata": {},
   "source": [
    "#### ITP 1_6-C - Official House"
   ]
  },
  {
   "cell_type": "code",
   "execution_count": 10,
   "metadata": {
    "scrolled": true
   },
   "outputs": [
    {
     "name": "stdout",
     "output_type": "stream",
     "text": [
      " 0 0 0 0 0 0 0 0 0 0\n",
      " 0 0 0 0 0 0 0 0 0 0\n",
      " 0 0 0 0 0 0 0 0 0 0\n",
      "####################\n",
      " 0 0 0 0 0 0 0 0 0 0\n",
      " 0 0 0 0 0 0 0 0 0 0\n",
      " 0 0 0 0 0 0 0 0 0 0\n",
      "####################\n",
      " 0 0 0 0 0 0 0 0 0 0\n",
      " 0 0 0 0 0 0 0 0 0 0\n",
      " 0 0 0 0 0 0 0 0 0 0\n",
      "####################\n",
      " 0 0 0 0 0 0 0 0 0 0\n",
      " 0 0 0 0 0 0 0 0 0 0\n",
      " 0 0 0 0 0 0 0 0 0 0\n"
     ]
    }
   ],
   "source": [
    "import sys\n",
    "input_text = sys.stdin\n",
    "move_record={}\n",
    "\n",
    "for i,t in enumerate(input_text):\n",
    "    if i!=0:\n",
    "        b,f,r,v = list(map(int, t.split()))\n",
    "        move_record[b,f,r] = move_record.get((b,f,r), 0) + v\n",
    "\n",
    "answer = \"\"\n",
    "\n",
    "for b in range(4):\n",
    "    for f in range(3):\n",
    "        line = \"\"\n",
    "        for r in range(10):\n",
    "            line += \" \" + str(move_record.get((b+1,f+1,r+1), 0))\n",
    "        answer += line + \"\\n\"\n",
    "    if b != range(4)[-1]:\n",
    "        answer += \"#\"*20 + \"\\n\"\n",
    "    \n",
    "print(answer[:-1])"
   ]
  },
  {
   "cell_type": "markdown",
   "metadata": {},
   "source": [
    "#### ITP 1_6-D - Matrix Vector Multiplication"
   ]
  },
  {
   "cell_type": "code",
   "execution_count": 11,
   "metadata": {
    "collapsed": true
   },
   "outputs": [],
   "source": [
    "import sys\n",
    "input_text = sys.stdin\n",
    "a,b,c = [],[],[]\n",
    "n,m = 0,0\n",
    "\n",
    "for i,t in enumerate(input_text):\n",
    "    if i==0:\n",
    "        n,m = list(map(int, t.split()))\n",
    "    elif 1<=i and i<=n:\n",
    "        a.append(list(map(int, t.split())))\n",
    "    else: \n",
    "        b.append(list(map(int, t.split()))[0])\n",
    "\n",
    "for i in range(n):\n",
    "    ci = 0\n",
    "    for j in range(m):\n",
    "        ci += a[i][j] * b[j]\n",
    "    c.append(ci)\n",
    "    \n",
    "for v in c:\n",
    "    print(v)"
   ]
  },
  {
   "cell_type": "markdown",
   "metadata": {},
   "source": [
    "#### ITP 1_7-A - Grading"
   ]
  },
  {
   "cell_type": "code",
   "execution_count": 12,
   "metadata": {
    "collapsed": true
   },
   "outputs": [],
   "source": [
    "import sys\n",
    "input_text = sys.stdin\n",
    "for i,t in enumerate(input_text):\n",
    "    m,f,r = list(map(int, t.split()))\n",
    "    \n",
    "    if (m,f,r)==(-1,-1,-1):\n",
    "        break\n",
    "    elif m==-1 or f==-1:\n",
    "        g=\"F\"\n",
    "    elif m+f>=80:\n",
    "        g=\"A\"\n",
    "    elif 65<=m+f<80:\n",
    "        g=\"B\"\n",
    "    elif 50<=m+f<65:\n",
    "        g=\"C\"\n",
    "    elif 30<=m+f<50 and r>=50:\n",
    "        g=\"C\"\n",
    "    elif 30<=m+f<50 and r<50:\n",
    "        g=\"D\"\n",
    "    else:\n",
    "        g=\"F\"\n",
    "        \n",
    "    print(g)"
   ]
  },
  {
   "cell_type": "markdown",
   "metadata": {},
   "source": [
    "#### ITP 1_7-B - How many ways?"
   ]
  },
  {
   "cell_type": "code",
   "execution_count": 13,
   "metadata": {
    "collapsed": true
   },
   "outputs": [],
   "source": [
    "import sys, itertools\n",
    "input_text = sys.stdin\n",
    "for i,t in enumerate(input_text):\n",
    "    n,x = list(map(int, t.split()))\n",
    "    if n==0 and x==0:\n",
    "        pass\n",
    "    else:\n",
    "        e_count = 0\n",
    "        for c in list(itertools.combinations(range(1,n+1),3)):\n",
    "            if sum(c)==x: e_count += 1\n",
    "        print(e_count)"
   ]
  },
  {
   "cell_type": "markdown",
   "metadata": {},
   "source": [
    "#### ITP 1_7-C - Spreadsheet"
   ]
  },
  {
   "cell_type": "code",
   "execution_count": 14,
   "metadata": {},
   "outputs": [
    {
     "ename": "IndexError",
     "evalue": "list index out of range",
     "output_type": "error",
     "traceback": [
      "\u001b[0;31m---------------------------------------------------------------------------\u001b[0m",
      "\u001b[0;31mIndexError\u001b[0m                                Traceback (most recent call last)",
      "\u001b[0;32m<ipython-input-14-0fd9bed25e4f>\u001b[0m in \u001b[0;36m<module>\u001b[0;34m()\u001b[0m\n\u001b[1;32m      9\u001b[0m         \u001b[0mtable\u001b[0m\u001b[0;34m.\u001b[0m\u001b[0mappend\u001b[0m\u001b[0;34m(\u001b[0m\u001b[0mline\u001b[0m\u001b[0;34m)\u001b[0m\u001b[0;34m\u001b[0m\u001b[0m\n\u001b[1;32m     10\u001b[0m \u001b[0;34m\u001b[0m\u001b[0m\n\u001b[0;32m---> 11\u001b[0;31m \u001b[0mlast_l\u001b[0m \u001b[0;34m=\u001b[0m \u001b[0;34m[\u001b[0m\u001b[0;36m0\u001b[0m\u001b[0;34m]\u001b[0m\u001b[0;34m*\u001b[0m\u001b[0mlen\u001b[0m\u001b[0;34m(\u001b[0m\u001b[0mtable\u001b[0m\u001b[0;34m[\u001b[0m\u001b[0;34m-\u001b[0m\u001b[0;36m1\u001b[0m\u001b[0;34m]\u001b[0m\u001b[0;34m)\u001b[0m\u001b[0;34m\u001b[0m\u001b[0m\n\u001b[0m\u001b[1;32m     12\u001b[0m \u001b[0;32mfor\u001b[0m \u001b[0mc\u001b[0m \u001b[0;32min\u001b[0m \u001b[0mrange\u001b[0m\u001b[0;34m(\u001b[0m\u001b[0mlen\u001b[0m\u001b[0;34m(\u001b[0m\u001b[0mlast_l\u001b[0m\u001b[0;34m)\u001b[0m\u001b[0;34m)\u001b[0m\u001b[0;34m:\u001b[0m\u001b[0;34m\u001b[0m\u001b[0m\n\u001b[1;32m     13\u001b[0m     \u001b[0mlc\u001b[0m \u001b[0;34m=\u001b[0m \u001b[0;36m0\u001b[0m\u001b[0;34m\u001b[0m\u001b[0m\n",
      "\u001b[0;31mIndexError\u001b[0m: list index out of range"
     ]
    }
   ],
   "source": [
    "# AOJ 上ではAcceptedになります\n",
    "import sys\n",
    "input_text = sys.stdin\n",
    "table = []\n",
    "for i,t in enumerate(input_text):\n",
    "    if i!=0:\n",
    "        line = list(map(int, t.split()))\n",
    "        line.append(sum(line))\n",
    "        table.append(line)\n",
    "        \n",
    "last_l = [0]*len(table[-1])\n",
    "for c in range(len(last_l)):\n",
    "    lc = 0\n",
    "    for r in range(len(table)):\n",
    "        lc += table[r][c]\n",
    "    last_l[c] = lc\n",
    "table.append(last_l)\n",
    "\n",
    "a = []\n",
    "for r in range(len(table)):\n",
    "    l = \"\"\n",
    "    for v in table[r]:\n",
    "        l += str(v) + \" \"\n",
    "    a.append(l[:-1])\n",
    "for v in a:\n",
    "    print(v)"
   ]
  },
  {
   "cell_type": "markdown",
   "metadata": {},
   "source": [
    "#### ITP 1_7-D - Matrix Multiplication"
   ]
  },
  {
   "cell_type": "code",
   "execution_count": 15,
   "metadata": {
    "collapsed": true
   },
   "outputs": [],
   "source": [
    "import sys\n",
    "input_text = sys.stdin\n",
    "a,b,c = [],[],[]\n",
    "n,m,l = 0,0,0\n",
    "\n",
    "for i,t in enumerate(input_text):\n",
    "    if i==0:\n",
    "        n,m,l = list(map(int, t.split()))\n",
    "    elif 1<=i and i<=n:\n",
    "        a.append(list(map(int, t.split())))\n",
    "    elif n+1<=i and i<=n+m:\n",
    "        b.append(list(map(int, t.split())))\n",
    "        \n",
    "for s in range(n):\n",
    "    cs = []\n",
    "    for t in range(l):\n",
    "        cst = 0\n",
    "        for u in range(m):\n",
    "            cst += a[s][u] * b[u][t]\n",
    "        cs.append(cst)\n",
    "    c.append(cs)\n",
    "    \n",
    "answer = []\n",
    "for row in range(len(c)):\n",
    "    line = \"\"\n",
    "    for v in c[row]:\n",
    "        line += str(v) + \" \"\n",
    "    answer.append(line[:-1])\n",
    "for v in answer:\n",
    "    print(v)"
   ]
  },
  {
   "cell_type": "markdown",
   "metadata": {},
   "source": [
    "#### ITP 1_8-A - Toggling Cases"
   ]
  },
  {
   "cell_type": "code",
   "execution_count": 16,
   "metadata": {},
   "outputs": [
    {
     "name": "stdout",
     "output_type": "stream",
     "text": [
      "fAIR, LATER, OCCASIONALLY CLOUDY.\n",
      "Fair, later, occasionally cloudy.\n"
     ]
    }
   ],
   "source": [
    "converted = [x.upper() if x.islower() else x.lower() for x in input()]\n",
    "print(\"\".join(converted))"
   ]
  },
  {
   "cell_type": "code",
   "execution_count": 17,
   "metadata": {},
   "outputs": [
    {
     "name": "stdout",
     "output_type": "stream",
     "text": [
      "fAIR, LATER, OCCASIONALLY CLOUDY.\n",
      "Fair, later, occasionally cloudy.\n"
     ]
    }
   ],
   "source": [
    "# 別解\n",
    "print(input().swapcase())"
   ]
  },
  {
   "cell_type": "markdown",
   "metadata": {},
   "source": [
    "####"
   ]
  }
 ],
 "metadata": {
  "kernelspec": {
   "display_name": "Python 3",
   "language": "python",
   "name": "python3"
  },
  "language_info": {
   "codemirror_mode": {
    "name": "ipython",
    "version": 3
   },
   "file_extension": ".py",
   "mimetype": "text/x-python",
   "name": "python",
   "nbconvert_exporter": "python",
   "pygments_lexer": "ipython3",
   "version": "3.6.1"
  }
 },
 "nbformat": 4,
 "nbformat_minor": 2
}
