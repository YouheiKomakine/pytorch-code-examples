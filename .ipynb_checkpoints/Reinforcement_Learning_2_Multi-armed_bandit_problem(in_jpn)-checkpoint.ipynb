{
 "cells": [
  {
   "cell_type": "markdown",
   "metadata": {},
   "source": [
    "## 多腕バンディット問題 (Multi-armed bandit problem)"
   ]
  },
  {
   "cell_type": "markdown",
   "metadata": {},
   "source": [
    "source : これからの機械学習（森北出版）"
   ]
  },
  {
   "cell_type": "markdown",
   "metadata": {},
   "source": [
    "---"
   ]
  },
  {
   "cell_type": "markdown",
   "metadata": {},
   "source": [
    "### 問題設定\n",
    "腕がK本あるスロットマシンを考える。  \n",
    "払い戻される額をR、腕i (i = 1, 2, ..., K)を引いた場合のあたりが出る確率をpkとする。  \n",
    "また、スロットマシンの状態は試行中に変化しないものとする。  \n",
    "  \n",
    "確率値pkが既知であれば、プレイヤーの最適な戦略は最大のR*pkを与える腕kを選び続けることである。  \n",
    "しかしpkが未知であるとき、どのように腕を選べば払戻額を最大化することができるだろうか。  "
   ]
  },
  {
   "cell_type": "code",
   "execution_count": 1,
   "metadata": {
    "collapsed": true
   },
   "outputs": [],
   "source": [
    "# スロットマシンのプログラム\n",
    "import numpy as np\n",
    "\n",
    "\n",
    "class slotmachine(object):\n",
    "    def __init__(self, \n",
    "                 reward_price=500, \n",
    "                 coin_price=100, \n",
    "                 distribution=(0.2, 0.3, 0.4, 0.5)):\n",
    "\n",
    "        # 各スロットマシンの報酬Rとあたりが出る確率pkを定義する\n",
    "        self.distributions = {}\n",
    "        for i in range(len(distribution)):\n",
    "            self.distributions[i] = (reward_price, distribution[i])\n",
    "        self.reward_price = reward_price\n",
    "        self.coin_price = coin_price\n",
    "    \n",
    "    def action_space(self):\n",
    "        return len(self.distributions)\n",
    "    \n",
    "    def reward_space(self):\n",
    "        return (self.reward_price, 0)\n",
    "\n",
    "    def play(self, action):\n",
    "        (R, p) = self.distributions[action]\n",
    "        hit = np.random.choice([0, 1], 1, p=[1-p, p])[0]\n",
    "        reward = R * hit - self.coin_price\n",
    "        return reward, int(hit)"
   ]
  },
  {
   "cell_type": "code",
   "execution_count": 62,
   "metadata": {
    "scrolled": true
   },
   "outputs": [
    {
     "name": "stdout",
     "output_type": "stream",
     "text": [
      "選択肢の数 = 4\n",
      "action = 1, miss, money = 900\n",
      "action = 3, miss, money = 800\n",
      "action = 2, miss, money = 700\n",
      "action = 1, hit!, money = 1100\n",
      "action = 1, miss, money = 1000\n",
      "action = 0, hit!, money = 1400\n",
      "action = 0, hit!, money = 1800\n",
      "action = 1, hit!, money = 2200\n",
      "action = 1, miss, money = 2100\n",
      "action = 3, hit!, money = 2500\n"
     ]
    }
   ],
   "source": [
    "# ランダムに１０回引いてみる\n",
    "m = slotmachine()\n",
    "money = 1000\n",
    "action_space_size = m.action_space()\n",
    "print(\"選択肢の数 =\",  action_space_size)\n",
    "\n",
    "for i in range(10):\n",
    "    action = np.random.choice(range(action_space_size))\n",
    "    reward, hit = m.play(action)\n",
    "    money += reward\n",
    "    hit_message = \"hit!\" if hit==1 else \"miss\"\n",
    "    print(\"action = {0}, {1}, money = {2}\".format(action, hit_message, money))"
   ]
  },
  {
   "cell_type": "markdown",
   "metadata": {},
   "source": [
    "---"
   ]
  },
  {
   "cell_type": "markdown",
   "metadata": {},
   "source": [
    "### greedyアルゴリズム\n",
    "Algorithm\n",
    ">まだn回選んだことがない腕がある場合、その腕を選ぶ  \n",
    ">それ以外の場合、すべての腕に対して、これまでの報酬の平均を計算する  \n",
    ">　　　　vi = (これまで腕iから得られた報酬の和) / (これまで腕iをプレイした回数)  \n",
    ">viが最大の腕を選ぶ  "
   ]
  },
  {
   "cell_type": "code",
   "execution_count": 48,
   "metadata": {},
   "outputs": [
    {
     "name": "stdout",
     "output_type": "stream",
     "text": [
      "[3, 3, 1.0]\n",
      "6 50\n"
     ]
    }
   ],
   "source": [
    "a = {\n",
    "    0:[1, [3, 3, 1.], 1],\n",
    "    1:[1, [2, 4, 2.], 1]\n",
    "    }\n",
    "#max_vv = max(a[:][2])\n",
    "max_vv = max(a[x][1] for x in a)\n",
    "print(max_vv)\n",
    "#self.expected_reward[x][2] for x in self.expected_reward\n",
    "\n",
    "\n",
    "# あとで消す\n",
    "#max_key = max(a, key=(lambda x:a[x][1]))\n",
    "#max_val = max(a[x][1] for x in a)\n",
    "#key = [key for key in a if a[key][0]==max_val]\n",
    "\n",
    "print(max_key, max_val)"
   ]
  },
  {
   "cell_type": "code",
   "execution_count": 55,
   "metadata": {},
   "outputs": [
    {
     "name": "stdout",
     "output_type": "stream",
     "text": [
      "dic\n",
      "{0: [0, 0.0, 0.0], 1: [0, 0.0, 0.0], 2: [0, 0.0, 0.0], 3: [0, 0.0, 0.0]}\n",
      "0.0\n"
     ]
    }
   ],
   "source": [
    "def dic_a(a=None):\n",
    "    if a is None:\n",
    "        print(\"none\")\n",
    "    elif a == {}:\n",
    "        print(\"dic\")\n",
    "    else:\n",
    "        print(\"a\")\n",
    "\n",
    "dic_a({})\n",
    "\n",
    "a = {}\n",
    "for i in range(4):\n",
    "    a[i] = [0, 0., 0.]\n",
    "print(a)\n",
    "\n",
    "max_val = max(a[x][2] for x in a)\n",
    "print(max_val)"
   ]
  },
  {
   "cell_type": "code",
   "execution_count": 57,
   "metadata": {
    "collapsed": true
   },
   "outputs": [],
   "source": [
    "class Agent_greedy(object):\n",
    "    def __init__(self, action_space_size, min_choose=1, initial_play_count=0, expected_reward=None):\n",
    "        self.action_space_size = action_space_size\n",
    "        self.play_count = initial_play_count\n",
    "        self.min_choose = min_choose\n",
    "        \n",
    "        # expected_reward[action_number] = (selected_count, sum of rewards, avarage of rewards)\n",
    "        if expected_reward is None or expected_reward=={}:\n",
    "            self.expected_reward = {}\n",
    "            for i in range(action_space_size):\n",
    "                self.expected_reward[i] = [0, 0., 0.]\n",
    "        else:\n",
    "            self.expected_reward = expected_reward\n",
    "            \n",
    "    def act(self):\n",
    "        keys_of_less_selected = [key for key in self.expected_reward if self.expected_reward[key][0] < self.min_choose]\n",
    "        if len(keys_of_less_selected)!=0:\n",
    "            action = int(np.random.choice(keys_of_less_selected, 1))\n",
    "            return action\n",
    "        else:\n",
    "            max_val = max(self.expected_reward[x][2] for x in self.expected_reward)\n",
    "            keys_of_max_expected = [key for key in self.expected_reward if self.expected_reward[key][2] == max_val]\n",
    "            action = int(np.random.choice(keys_of_max_expected))\n",
    "            return action\n",
    "        \n",
    "    def update(self, action, reward):\n",
    "        self.play_count += 1\n",
    "        self.expected_reward[action][0] += 1\n",
    "        self.expected_reward[action][1] += reward\n",
    "        self.expected_reward[action][2] = self.expected_reward[action][1] / self.expected_reward[action][0]\n",
    "\n",
    "    def load_record(self, initial_play_count, expected_reward):\n",
    "        self.play_count = initial_play_count\n",
    "        if expected_reward is None or expected_reward=={}:\n",
    "            self.expected_reward = {}\n",
    "            for i in range(action_space_size):\n",
    "                self.expected_reward[i] = [0, 0., 0.]\n",
    "        else:\n",
    "            self.expected_reward = expected_reward\n",
    "        \n",
    "    def save_record(self):\n",
    "        return self.play_count, self.expected_reward\n",
    "\n",
    "    def reset_record(self):\n",
    "        self.play_count = 0\n",
    "        self.expected_reward = {}\n",
    "        for i in range(action_space_size):\n",
    "            self.expected_reward[i] = [0, 0., 0.]\n",
    "    \n",
    "    def sum_reward(self):\n",
    "        sum_reward = 0\n",
    "        for value in self.expected_reward.values():\n",
    "            sum_reward += value[1]\n",
    "        return sum_reward\n",
    "    \n",
    "    def action_count(self):\n",
    "        action_count = []\n",
    "        for value in self.expected_reward.values():\n",
    "            action_count.append(value[0])\n",
    "        return action_count\n",
    "        "
   ]
  },
  {
   "cell_type": "code",
   "execution_count": 24,
   "metadata": {},
   "outputs": [
    {
     "name": "stdout",
     "output_type": "stream",
     "text": [
      "try:100, money=15000\n",
      "try:200, money=33500\n",
      "try:300, money=48500\n",
      "try:400, money=64500\n",
      "try:500, money=78000\n",
      "try:600, money=95000\n",
      "try:700, money=110500\n",
      "try:800, money=123000\n",
      "try:900, money=141000\n",
      "try:1000, money=153000\n"
     ]
    }
   ],
   "source": [
    "# 動作例\n",
    "m = slotmachine()\n",
    "money = 0\n",
    "action_space_size = m.action_space()\n",
    "\n",
    "agent = Agent_greedy(action_space_size, min_choose=3)\n",
    "\n",
    "for i in range(1000):\n",
    "    action = agent.act()\n",
    "    reward, hit = m.play(action)\n",
    "    agent.update(action, reward)\n",
    "    money += reward\n",
    "    #hit_message = \"hit!\" if hit==1 else \"miss\"\n",
    "    #print(\"action = {0}, {1}, money = {2}\".format(action, hit_message, money))\n",
    "    if (i+1)%100==0:\n",
    "        print(\"try:{0}, money={1}\".format(i+1, money))"
   ]
  },
  {
   "cell_type": "markdown",
   "metadata": {},
   "source": [
    "このアルゴリズムは、  \n",
    "・最適ではない腕i'の報酬の期待値Rpi'を、最適な腕iの期待値Rpiよりも大きいと誤認したとき、  \n",
    "　試行回数を増加すればいつかは訂正できる  \n",
    "  \n",
    "しかし、  \n",
    "・最適な腕iの報酬の期待値Rpiが他のある腕i'の期待値Rpi'よりも小さいと誤認したとき、  \n",
    "　試行回数をいくら増加させても訂正できるとは限らない  \n",
    "という問題がある。\n",
    "  \n",
    "このリスクを前言させ、探索コストを減らす手法の一つとして、  \n",
    "下記のε-greedyアルゴリズムが知られている。  "
   ]
  },
  {
   "cell_type": "markdown",
   "metadata": {},
   "source": [
    "### ε-greedyアルゴリズム\n",
    "Algorithm\n",
    ">まだ選んだことがない腕がある場合、その腕から一つ選ぶ  \n",
    ">確率εで、すべての腕からランダムに一つ選ぶ  \n",
    ">確率1-εで、これまでの報酬の平均viが最大の腕を選ぶ  "
   ]
  },
  {
   "cell_type": "code",
   "execution_count": 86,
   "metadata": {
    "collapsed": true
   },
   "outputs": [],
   "source": [
    "class Agent_e_greedy(Agent_greedy):\n",
    "    def __init__(self, action_space_size, epsilon=0.1, min_choose=1):\n",
    "        super(Agent_e_greedy, self).__init__(action_space_size, min_choose)\n",
    "        self.epsilon = epsilon\n",
    "\n",
    "    def act_greedy(self):\n",
    "        keys_of_less_selected = [key for key in self.expected_reward if self.expected_reward[key][0] < self.min_choose]\n",
    "        if len(keys_of_less_selected)!=0:\n",
    "            action = int(np.random.choice(keys_of_less_selected, 1))\n",
    "            return action\n",
    "        else:\n",
    "            max_val = max(self.expected_reward[x][2] for x in self.expected_reward)\n",
    "            keys_of_max_expected = [key for key in self.expected_reward if self.expected_reward[key][2] == max_val]\n",
    "            action = int(np.random.choice(keys_of_max_expected))\n",
    "            return action    \n",
    "        \n",
    "    def act(self):\n",
    "        if np.random.choice([1, 0], p=[self.epsilon, 1-self.epsilon]):\n",
    "            action = int(np.random.choice(range(action_space_size)))\n",
    "        else:\n",
    "            action = self.act_greedy()\n",
    "        return action\n",
    "    "
   ]
  },
  {
   "cell_type": "markdown",
   "metadata": {},
   "source": [
    "探索と利用のトレードオフを解く方法として  \n",
    "「不確かなときは楽観的に (optimism in face of uncertainty)」という原理が知られている。  \n",
    "  \n",
    "この原理を用いた多腕バンディット問題の解放として、  \n",
    "Upper Confidence Bound (UCB) アルゴリズムが有名である。  "
   ]
  },
  {
   "cell_type": "markdown",
   "metadata": {},
   "source": [
    "### UCB1アルゴリズム\n",
    "Algorithm  \n",
    ">R : 払戻額の最大値と最小値の差  \n",
    ">まだ選んだことのない腕があれば、そのうちの一つを選ぶ  \n",
    ">各々の腕iから得られる報酬の期待値を計算する。  \n",
    ">　　　　vi = (これまで腕iから得られた報酬の和) / (これまで腕iを選んだ回数)  \n",
    ">各々の腕iから得られる報酬の信頼区間の半幅を計算する  \n",
    ">　　　　Ui = R * root( (2ln(これまでの総プレイ回数)) / (これまで腕iをプレイした回数) )  \n",
    ">vi + Ui が最大の腕iを選ぶ  "
   ]
  },
  {
   "cell_type": "code",
   "execution_count": 62,
   "metadata": {
    "collapsed": true
   },
   "outputs": [],
   "source": [
    "from math import sqrt, log\n",
    "\n",
    "class Agent_ucb1(object):\n",
    "    def __init__(self, action_space_size, reward_space=(500,0), min_choose=1,\n",
    "                 initial_play_count = 0, expected_reward=None):\n",
    "        self.action_space_size = action_space_size\n",
    "        self.play_count = initial_play_count\n",
    "        self.min_choose = min_choose\n",
    "        self.reward_width = abs(reward_space[0] - reward_space[1])\n",
    "        \n",
    "        # expected_reward[action_number] = (selected_count, sum of rewards, \n",
    "        #                                   avarage of rewards, 1/2 * Confidence interval of reward,\n",
    "        #                                   average + 1/2*CI)\n",
    "        if expected_reward is None or expected_reward=={}:\n",
    "            self.expected_reward = {}\n",
    "            for i in range(action_space_size):\n",
    "                self.expected_reward[i] = [0, 0., 0., 0., 0.]\n",
    "        else:\n",
    "            self.expected_reward = expected_reward\n",
    "\n",
    "    def act(self):\n",
    "        keys_of_less_selected = [key for key in self.expected_reward if self.expected_reward[key][0] < self.min_choose]\n",
    "        if len(keys_of_less_selected)!=0:\n",
    "            action = int(np.random.choice(keys_of_less_selected, 1))\n",
    "            return action\n",
    "        else:\n",
    "            max_val = max(self.expected_reward[x][4] for x in self.expected_reward)\n",
    "            keys_of_max_expected = [key for key in self.expected_reward if self.expected_reward[key][4] == max_val]\n",
    "            action = int(np.random.choice(keys_of_max_expected))\n",
    "            return action\n",
    "        \n",
    "    def update(self, action, reward):\n",
    "        self.play_count += 1\n",
    "        self.expected_reward[action][0] += 1\n",
    "        self.expected_reward[action][1] += reward\n",
    "        self.expected_reward[action][2] = self.expected_reward[action][1] / self.expected_reward[action][0]\n",
    "        self.expected_reward[action][3] = self.reward_width * sqrt((2*log(self.play_count)) / (self.expected_reward[action][0]))\n",
    "        self.expected_reward[action][4] = self.expected_reward[action][2] + self.expected_reward[action][3]\n",
    "    \n",
    "    def load_record(self, initial_play_count, expected_reward):\n",
    "        self.play_count = initial_play_count\n",
    "        if expected_reward is None or expected_reward=={}:\n",
    "            self.expected_reward = {}\n",
    "            for i in range(action_space_size):\n",
    "                self.expected_reward[i] = [0, 0., 0., 0., 0.]\n",
    "        else:\n",
    "            self.expected_reward = expected_reward\n",
    "    \n",
    "    def save_record(self):\n",
    "        return self.play_count, self.expected_reward\n",
    "    \n",
    "    def reset_record(self):\n",
    "        self.play_count = 0\n",
    "        self.expected_reward = {}\n",
    "        for i in range(action_space_size):\n",
    "            self.expected_reward[i] = [0, 0., 0., 0., 0.]\n",
    "        \n",
    "    def sum_reward(self):\n",
    "        sum_reward = 0\n",
    "        for value in self.expected_reward.values():\n",
    "            sum_reward += value[1]\n",
    "        return sum_reward\n",
    "    \n",
    "    def action_count(self):\n",
    "        action_count = []\n",
    "        for value in self.expected_reward.values():\n",
    "            action_count.append(value[0])\n",
    "        return action_count"
   ]
  },
  {
   "cell_type": "markdown",
   "metadata": {},
   "source": [
    "---"
   ]
  },
  {
   "cell_type": "markdown",
   "metadata": {},
   "source": [
    "### 性能比較\n",
    "参考文献の設定に従い、K=4の場合のシミュレーションを行う。  \n",
    "４つの腕の払戻額は同じ（１とする）で、払戻率はそれぞれ0.2, 0.3, 0.4, 0.5である。  \n",
    "学習は１エポックあたり1,000回、これを独立に1,000エポック繰り返し、結果を平均する。  "
   ]
  },
  {
   "cell_type": "code",
   "execution_count": 96,
   "metadata": {
    "scrolled": false
   },
   "outputs": [
    {
     "name": "stdout",
     "output_type": "stream",
     "text": [
      "total_record len, len[action 1] =  1000 4\n",
      "total_record len, len[action 1] =  1000 4\n",
      "total_record len, len[action 1] =  1000 4\n",
      "\n",
      "slot machine's settings: \n",
      "  arm,  chance of hit, color on glaph\n",
      "    0        0.2        red\n",
      "    1        0.3        yellow\n",
      "    2        0.4        green\n",
      "    3        0.5        blue\n",
      "\n"
     ]
    },
    {
     "data": {
      "image/png": "[encoded data removed]",
      "text/plain": [
       "<matplotlib.figure.Figure at 0x7f916d5905f8>"
      ]
     },
     "metadata": {},
     "output_type": "display_data"
    }
   ],
   "source": [
    "import numpy as np\n",
    "import matplotlib.pyplot as plt\n",
    "%matplotlib inline\n",
    "\n",
    "m = slotmachine(reward_price=1,\n",
    "                coin_price=0, \n",
    "                distribution=(0.2, 0.3, 0.4, 0.5))\n",
    "action_space_size = m.action_space()\n",
    "reward_space_size = m.reward_space()\n",
    "\n",
    "initial_play_count = 0\n",
    "expected_reward = {}\n",
    "\n",
    "agent_greed = Agent_greedy(action_space_size, min_choose=100)\n",
    "agent_e_greed = Agent_e_greedy(action_space_size, epsilon=0.1, min_choose=1)\n",
    "agent_ucb1 = Agent_ucb1(action_space_size, reward_space=reward_space_size, min_choose=1)\n",
    "\n",
    "# 100 for debag\n",
    "trial_num = 1000\n",
    "epoch_num = 100\n",
    "\n",
    "# for debug\n",
    "reset_per_epoch = True\n",
    "\n",
    "def exam_block(agent, trial_num=trial_num, reset_per_epoch=False,\n",
    "               initial_play_count=0, expected_reward=None):\n",
    "    # record[trial] = [trial, [each action's selected_count list], sum of reward]\n",
    "    record = []\n",
    "    agent.reset_record()\n",
    "    if reset_per_epoch==False:\n",
    "        agent.load_record(initial_play_count, expected_reward)\n",
    "    \n",
    "    for trial in range(trial_num):\n",
    "        action = agent.act()\n",
    "        reward, hit = m.play(action)\n",
    "        agent.update(action, reward)\n",
    "        record.append([trial, agent.action_count(), agent.sum_reward()])\n",
    "    \n",
    "    save_data = agent.save_record()\n",
    "    \n",
    "    return record, save_data\n",
    "    \n",
    "def epoch_block(agent, epoch_num=epoch_num, trial_num=trial_num, reset_per_epoch=False,\n",
    "                initial_play_count=0, expected_reward=None):\n",
    "    # total_record[trial] = [trial, [each action's total selected_count], total reward]\n",
    "    record = []\n",
    "    total_record = []\n",
    "    \n",
    "    play_count = 0\n",
    "    expected_reward = {}\n",
    "    save_data = (play_count, expected_reward)\n",
    "    \n",
    "    for epoch in range(epoch_num):\n",
    "        record,save_data = exam_block(agent, trial_num=trial_num,\n",
    "                                                          reset_per_epoch=reset_per_epoch,\n",
    "                                                          initial_play_count=save_data[0],\n",
    "                                                          expected_reward=save_data[1])\n",
    "        if len(total_record)==0:\n",
    "            total_record = record\n",
    "        else:\n",
    "            for trial in range(trial_num):\n",
    "                if reset_per_epoch:\n",
    "                    for action in range(action_space_size):\n",
    "                        total_record[trial][1][action] = record[trial][1][action]\n",
    "                    total_record[trial][2] = record[trial][2]\n",
    "                else:\n",
    "                    for action in range(action_space_size):\n",
    "                        total_record[trial][1][action] += record[trial][1][action]\n",
    "                    total_record[trial][2] += record[trial][2]\n",
    "\n",
    "    return total_record\n",
    "    \n",
    "\n",
    "total_record_greed = epoch_block(agent_greed, epoch_num, trial_num, reset_per_epoch)\n",
    "total_record_e_greed = epoch_block(agent_e_greed, epoch_num, trial_num, reset_per_epoch)\n",
    "total_record_ucb1 = epoch_block(agent_ucb1, epoch_num, trial_num, reset_per_epoch)\n",
    "\n",
    "# for debug\n",
    "#print(\" --- debug message ---\")\n",
    "#print(\"greed\", agent_greed.action_count(), agent_greed.sum_reward())\n",
    "#print(\"len = \", len(total_record_greed))\n",
    "#print(\"trial[0] = \", total_record_greed[0], \"\\n\")\n",
    "#print(\"e-greed\", agent_e_greed.action_count(), agent_e_greed.sum_reward())\n",
    "#print(\"len = \", len(total_record_e_greed))\n",
    "#print(\"trial[0] = \", total_record_e_greed[0], \"\\n\")\n",
    "#print(\"ucb1\", agent_ucb1.action_count(), agent_ucb1.sum_reward())\n",
    "#print(\"len = \", len(total_record_ucb1))\n",
    "#print(\"trial[0] = \", total_record_ucb1[0], \"\\n\")\n",
    "\n",
    "\n",
    "# drawing graph\n",
    "def draw_learning_graph(total_record, row=4, col=1, num=1, \n",
    "                        title=\"\", color=[\"tomato\", \"gold\", \"palegreen\", \"deepskyblue\", \"violet\"], \n",
    "                        action_space_size=4, trial_num=3, epoch_num=3, reset_per_epoch=False, \n",
    "                        x=np.array(range(0, trial_num)), \n",
    "                        xmin=0, xmax=3, ymin=0, ymax=3):\n",
    "    action_records=[]\n",
    "    \n",
    "    # for debag\n",
    "    #print(\"action_record\", len(action_record))\n",
    "    #print(action_record)\n",
    "    print(\"total_record len, len[action 1] = \", len(total_record), len(total_record[1][1]))\n",
    "    \n",
    "    for action in range(action_space_size):\n",
    "        action_record = []\n",
    "        \n",
    "        # action_record[trial] = rate of choice at trial No.[trial]\n",
    "        \n",
    "        for trial in range(trial_num):\n",
    "            #record = total_record[trial][1][action] / ((trial+1) * epoch_num)\n",
    "            record = total_record[trial][1][action] / sum(total_record[trial][1])\n",
    "            action_record.append(record)\n",
    "            \n",
    "        action_records.append(action_record)      \n",
    "\n",
    "    plt.subplot(row, col, num)\n",
    "            \n",
    "    ymaxline = np.array([ymax for i in range(trial_num)])\n",
    "    yminline = np.array([ymin for i in range(trial_num)])\n",
    "    y = []\n",
    "\n",
    "    for action_num in range(action_space_size):\n",
    "        y.append(action_records[action_num])\n",
    "        \n",
    "    y = np.array(y)\n",
    "    #y = y[y[:,-1].argsort()][::-1]\n",
    "    #y = y[y[:,-1].argsort()]\n",
    "\n",
    "    ysum = []\n",
    "    for action in range(action_space_size+1):\n",
    "        ysum.append([])\n",
    "        if action != 0:\n",
    "            ysum[action] = ysum[action-1] - y[action-1]\n",
    "        else:\n",
    "            ysum[action] = ymaxline\n",
    "    #ysum = ysum[::-1]\n",
    "    \n",
    "    #y = y[y[:,-1].argsort()][::-1]\n",
    "    #y = np.vstack((ymaxline, y, yminline))\n",
    "    #y = np.vstack((ymaxline, ysum, yminline))\n",
    "    y = np.vstack((ysum, yminline))\n",
    "    \n",
    "    # for debug\n",
    "    #print(\"ysum = \", ysum)\n",
    "    #print(\"len(y) = \", len(y))\n",
    "    #print(\"len(y[0]) = \", len(y[0]))\n",
    "    #print(\"len(y[1]) = \", len(y[1]))\n",
    "    #for i in range(len(y)):\n",
    "    #    print(\"y[{0}] = \".format(i), y[i])\n",
    "\n",
    "    for action_num in range(action_space_size):\n",
    "        plt.fill_between(x, y[action_num], y[action_num+1], \n",
    "                         facecolor = color[action_num], alpha=0.5)\n",
    "\n",
    "    plt.title(title)\n",
    "    plt.xlim(xmin, xmax)\n",
    "    plt.ylim(ymin, ymax)\n",
    "        \n",
    "\n",
    "x = np.array(range(0, trial_num))\n",
    "color = [\"tomato\", \"gold\", \"palegreen\", \"deepskyblue\", \"violet\"]\n",
    "\n",
    "plt.figure(figsize=(10,20))\n",
    "\n",
    "draw_learning_graph(total_record_greed,\n",
    "                    row=4, col=1, num=1, \n",
    "                    title=\"Action choose rate of greedy algorithm\", color=color,\n",
    "                    action_space_size = action_space_size, trial_num=trial_num, epoch_num=epoch_num,\n",
    "                    reset_per_epoch = reset_per_epoch,\n",
    "                    x=x, xmin=0, xmax=trial_num, ymin=0, ymax=1)\n",
    "\n",
    "draw_learning_graph(total_record_e_greed,\n",
    "                    row=4, col=1, num=2, \n",
    "                    title=\"Action choose rate of e-greedy algorithm\", color=color,\n",
    "                    action_space_size = action_space_size, trial_num=trial_num, epoch_num=epoch_num,\n",
    "                    reset_per_epoch = reset_per_epoch,\n",
    "                    x=x, xmin=0, xmax=trial_num, ymin=0, ymax=1)\n",
    "draw_learning_graph(total_record_ucb1,\n",
    "                    row=4, col=1, num=3, \n",
    "                    title=\"Action choose rate of UCB1 algorithm\", color=color,\n",
    "                    reset_per_epoch = reset_per_epoch,\n",
    "                    action_space_size = action_space_size, trial_num=trial_num, epoch_num=epoch_num,\n",
    "                    x=x, xmin=0, xmax=trial_num, ymin=0, ymax=1)\n",
    "\n",
    "setting_text = \\\n",
    "\"\\n\\\n",
    "slot machine's settings: \\n\\\n",
    "  arm,  chance of hit, color on glaph\\n\\\n",
    "    0        0.2        red\\n\\\n",
    "    1        0.3        yellow\\n\\\n",
    "    2        0.4        green\\n\\\n",
    "    3        0.5        blue\\n\"\n",
    "print(setting_text)\n",
    "\n",
    "\n",
    "plt.tight_layout()\n",
    "plt.show()\n",
    "\n",
    "# record[trial] = [trial, [each action's selected_count list], sum of reward]\n",
    "# total_record[trial] = [trial, [each action's total selected_count], total reward]"
   ]
  },
  {
   "cell_type": "code",
   "execution_count": 77,
   "metadata": {
    "scrolled": true
   },
   "outputs": [
    {
     "name": "stdout",
     "output_type": "stream",
     "text": [
      "#101010\n",
      "#202020\n",
      "#303030\n",
      "#404040\n",
      "#505050\n"
     ]
    },
    {
     "data": {
      "image/png": "[encoded data removed]",
      "text/plain": [
       "<matplotlib.figure.Figure at 0x7f807b9e7748>"
      ]
     },
     "metadata": {},
     "output_type": "display_data"
    }
   ],
   "source": [
    "import numpy as np\n",
    "import matplotlib.pyplot as plt\n",
    "from math import *\n",
    "\n",
    "x = np.arange(0,10,0.01)\n",
    "y=[np.linspace(0, 0, num=x.size)]\n",
    "color = []\n",
    "for i in range(5):\n",
    "    y1 = np.linspace(0, i+1, num=x.size)\n",
    "    y.append(y1)\n",
    "    color.append(\"#\"+str((i+1)*10)*3)\n",
    "    print(color[i])\n",
    "    plt.fill_between(x,y[i],y[i+1],facecolor=color[i],alpha=0.5)\n",
    "plt.show()"
   ]
  },
  {
   "cell_type": "code",
   "execution_count": 93,
   "metadata": {},
   "outputs": [
    {
     "name": "stdout",
     "output_type": "stream",
     "text": [
      "slot machine's settings: \n",
      "  arm,  chance of hit, color on glaph\n",
      "    0        0.2        red\n",
      "    1        0.3        yellow\n",
      "    2        0.4        green\n",
      "    3        0.5        blue\n",
      "\n"
     ]
    }
   ],
   "source": [
    "setting_text = \\\n",
    "\"slot machine's settings: \\n\\\n",
    "  arm,  chance of hit, color on glaph\\n\\\n",
    "    0        0.2        red\\n\\\n",
    "    1        0.3        yellow\\n\\\n",
    "    2        0.4        green\\n\\\n",
    "    3        0.5        blue\\n\"\n",
    "print(setting_text)\n"
   ]
  },
  {
   "cell_type": "code",
   "execution_count": 79,
   "metadata": {},
   "outputs": [
    {
     "data": {
      "text/plain": [
       "10"
      ]
     },
     "execution_count": 79,
     "metadata": {},
     "output_type": "execute_result"
    }
   ],
   "source": [
    "c = [1, 2, 3, 4]\n",
    "sum(c)"
   ]
  },
  {
   "cell_type": "code",
   "execution_count": 116,
   "metadata": {
    "scrolled": true
   },
   "outputs": [
    {
     "name": "stdout",
     "output_type": "stream",
     "text": [
      "[[1 2 3 4]\n",
      " [3 4 1 2]\n",
      " [2 3 4 1]]\n"
     ]
    }
   ],
   "source": [
    "a=[[1,2,3,4],\n",
    "   [2,3,4,1],\n",
    "   [3,4,1,2]]\n",
    "a=np.array(a)\n",
    "#a.sort(key=lambda x:x[3])\n",
    "b = a[a[:,-1].argsort()][::-1]\n",
    "print(b)"
   ]
  },
  {
   "cell_type": "code",
   "execution_count": 126,
   "metadata": {},
   "outputs": [
    {
     "name": "stdout",
     "output_type": "stream",
     "text": [
      "[[ 7  8  9 10]\n",
      " [ 1  2  3  4]\n",
      " [ 2  3  4  1]\n",
      " [ 3  4  1  2]\n",
      " [ 7  8  9 10]]\n"
     ]
    }
   ],
   "source": [
    "a=[[1,2,3,4],\n",
    "   [2,3,4,1],\n",
    "   [3,4,1,2]]\n",
    "a=np.array(a)\n",
    "b = np.array([7,8,9,10])\n",
    "c = np.vstack((b,a,b))\n",
    "print(c)"
   ]
  },
  {
   "cell_type": "code",
   "execution_count": 56,
   "metadata": {},
   "outputs": [
    {
     "name": "stdout",
     "output_type": "stream",
     "text": [
      "[1, 2, 3, 9, 4]\n"
     ]
    }
   ],
   "source": [
    "a=[1,2,3,4]\n",
    "a.insert(-1,9)\n",
    "print(a)"
   ]
  },
  {
   "cell_type": "code",
   "execution_count": 55,
   "metadata": {},
   "outputs": [
    {
     "name": "stdout",
     "output_type": "stream",
     "text": [
      "4 1\n"
     ]
    }
   ],
   "source": [
    "def aaa(a1, a2=1):\n",
    "    a1 = a2*2 if a1 is None else a1\n",
    "    print(a1, a2)\n",
    "\n",
    "aaa(4)"
   ]
  },
  {
   "cell_type": "code",
   "execution_count": 21,
   "metadata": {},
   "outputs": [
    {
     "data": {
      "text/plain": [
       "array([0, 1, 2, 3, 4, 5, 6, 7, 8, 9])"
      ]
     },
     "execution_count": 21,
     "metadata": {},
     "output_type": "execute_result"
    }
   ],
   "source": [
    "np.array(range(0, 10, 1))"
   ]
  },
  {
   "cell_type": "code",
   "execution_count": 246,
   "metadata": {},
   "outputs": [
    {
     "data": {
      "text/plain": [
       "array([ 0.5,  1. ,  1.5,  2. ])"
      ]
     },
     "execution_count": 246,
     "metadata": {},
     "output_type": "execute_result"
    }
   ],
   "source": [
    "aa = np.array([1, 2, 3, 4])\n",
    "bb = np.array([2])\n",
    "aa/bb"
   ]
  },
  {
   "cell_type": "code",
   "execution_count": 268,
   "metadata": {},
   "outputs": [
    {
     "name": "stdout",
     "output_type": "stream",
     "text": [
      "[[1, 1, 1, 1, 1, 1, 1, 1, 1, 1], [1, 2, 3]]\n"
     ]
    }
   ],
   "source": [
    "a = [[1]*10]\n",
    "a.append([1,2,3])\n",
    "print(a)"
   ]
  },
  {
   "cell_type": "code",
   "execution_count": 255,
   "metadata": {},
   "outputs": [
    {
     "name": "stdout",
     "output_type": "stream",
     "text": [
      "[[], [], [], []]\n"
     ]
    }
   ],
   "source": [
    "aaa=[]\n",
    "aaa.append([]) \n",
    "print(aaa*4)"
   ]
  },
  {
   "cell_type": "code",
   "execution_count": 244,
   "metadata": {},
   "outputs": [
    {
     "name": "stdout",
     "output_type": "stream",
     "text": [
      "4\n",
      "[3, [2, 4, 6, 8], 1.0]\n",
      "[3, 2, 1.0]\n"
     ]
    }
   ],
   "source": [
    "rt = []\n",
    "r1 = [1, [1, 2, 3, 4], 0.5]\n",
    "r2 = [2, [1, 2, 3, 4], 0.5]\n",
    "\n",
    "rt = r1\n",
    "\n",
    "rt[0] += r2[0]\n",
    "print(len(rt[1]))\n",
    "for i in range(len(rt[1])):\n",
    "    rt[1][i] += r2[1][i]\n",
    "rt[2] += r2[2]\n",
    "\n",
    "print(rt)\n",
    "\n",
    "ry1 = [rt[0], rt[1][0], rt[2]]\n",
    "print(ry1)"
   ]
  },
  {
   "cell_type": "code",
   "execution_count": 39,
   "metadata": {},
   "outputs": [
    {
     "name": "stdout",
     "output_type": "stream",
     "text": [
      "0\n",
      "[1, 3]\n"
     ]
    }
   ],
   "source": [
    "# あとで消す\n",
    "a = {1:(0,10), 2:(1,20), 3:(0,30), 4:(2,40), 5:(4,10), 6:(3,50), 7:(4,22)}\n",
    "a.values()\n",
    "a.keys()\n",
    "\n",
    "zero_selected = min(list(a.values())[0])\n",
    "print(zero_selected)\n",
    "\n",
    "keys_of_zero_selected = [key for key in a if a[key][0] == 0]\n",
    "print(keys_of_zero_selected)\n",
    "\n",
    "#for key in a.keys():\n",
    "#    print(a[key][0])"
   ]
  },
  {
   "cell_type": "code",
   "execution_count": 40,
   "metadata": {},
   "outputs": [
    {
     "name": "stdout",
     "output_type": "stream",
     "text": [
      "6 50\n"
     ]
    }
   ],
   "source": [
    "# あとで消す\n",
    "max_key = max(a, key=(lambda x:a[x][1]))\n",
    "max_val = max(a[x][1] for x in a)\n",
    "#key = [key for key in a if a[key][0]==max_val]\n",
    "\n",
    "print(max_key, max_val)"
   ]
  },
  {
   "cell_type": "code",
   "execution_count": 111,
   "metadata": {},
   "outputs": [
    {
     "name": "stdout",
     "output_type": "stream",
     "text": [
      "(4, 22) [1, 2, 3]\n"
     ]
    }
   ],
   "source": [
    "# あとで消す\n",
    "max_val = max(a.values())\n",
    "key = [key for key in a if a[key][0] < 2]\n",
    "\n",
    "print(max_val, key)"
   ]
  },
  {
   "cell_type": "code",
   "execution_count": 221,
   "metadata": {},
   "outputs": [
    {
     "name": "stdout",
     "output_type": "stream",
     "text": [
      "{1: (0, 10), 2: (1, 20), 3: (0, 30), 4: (2, 40), 5: (4, 10), 6: (3, 50), 7: (4, 22)}\n",
      "10\n",
      "20\n",
      "30\n",
      "40\n",
      "10\n",
      "50\n",
      "22\n"
     ]
    }
   ],
   "source": [
    "print(a)\n",
    "for i in a.values():\n",
    "    print(i[1])"
   ]
  }
 ],
 "metadata": {
  "kernelspec": {
   "display_name": "Python 3",
   "language": "python",
   "name": "python3"
  },
  "language_info": {
   "codemirror_mode": {
    "name": "ipython",
    "version": 3
   },
   "file_extension": ".py",
   "mimetype": "text/x-python",
   "name": "python",
   "nbconvert_exporter": "python",
   "pygments_lexer": "ipython3",
   "version": "3.6.1"
  }
 },
 "nbformat": 4,
 "nbformat_minor": 2
}
