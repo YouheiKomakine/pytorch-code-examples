{
 "cells": [
  {
   "cell_type": "markdown",
   "metadata": {},
   "source": [
    "---\n",
    "## 第2章　教師あり学習の概要\n",
    "\n",
    "### 2.1 導入\n",
    "教師あり学習 (supervised learning) では、それぞれの問題に入力 (input)、出力 (ouput) として扱える変数が存在する。  \n",
    "入力は分野により予測変数 (predictor)、独立変数 (independent variable)、特徴 (feature)などと呼ばれ、  \n",
    "出力は応答変数 (response variable)、従属変数 (dependent variable)などと呼ばれる。  \n",
    "  \n",
    "### 2.2 変数の種類と用語\n",
    "出力には量的変数 (quantitative variable)、質的変数 (qualitative variable) がある。  \n",
    "質的変数はカテゴリ型変数 (categorical variable)、離散変数 (discrete variable)、因子 (factor)などと呼ばれることもある。  \n",
    "  \n",
    "予測問題は出力の種類によって異なる名称で呼ばれる。  \n",
    "量的な出力を予測する問題は回帰 (regression) と呼ばれ、質的な出力を予測する問題は分類 (classification) と呼ばれる。  \n",
    "これら2つのタスクには多くの共通点を有しており、共に関数近似 (function approximation) の問題とみなすことができる。  \n",
    "  \n",
    "3つ目の変数の種類として、 {小, 中, 大} といった順序付きカテゴリ型変数 (ordered categorical variable) がある。       \n",
    "3つ以上のカテゴリがある場合、複数の数値化法が存在する。  \n",
    "最もよく使われるものはダミー変数 (dummy variable) を用いる方法である。  \n",
    "K水準の質的変数はK次元の二値ベクトルを使い、そのカテゴリに対応する要素を１，残りの要素を０として表現できる。  \n",
    "  \n",
    "本書では入力変数を $X$、その要素を $X_{j}$、量的な出力を $Y$、質的な出力を $G$ と表記する。\n",
    "大文字かつ太字の変数は行列を表す。"
   ]
  },
  {
   "cell_type": "markdown",
   "metadata": {},
   "source": [
    "---\n",
    "### 2.3 予測のための2つの簡単なアプローチ：最小二乗法と最近傍法\n",
    "\n",
    "線形モデルでは、入力ベクトル $X^{\\mathrm{T}} = (X_{1}, X_{2}, \\ldots, X_{p})$ が与えられた時、出力 $Y$ を  \n",
    "\n",
    "\\begin{align*}\n",
    "\\hat{Y} = \\hat{\\beta}_{0} + \\sum_{j=1}^{p} X_{j} \\hat{\\beta}_{j}\n",
    "\\end{align*}\n",
    "\n",
    "と予測する。ここで $\\hat{\\beta}_{0}$ は切片 (intercept) を表し、バイアス (bias) と呼ばれることもある。  \n",
    "定数１を $X$ に加えてベクトル表記に変形すると\n",
    "\n",
    "\\begin{align*}\n",
    "\\hat{Y} = X^{\\mathrm{T}}\\hat{\\beta}\n",
    "\\end{align*}\n",
    "\n",
    "となり、内積の形に簡易化することができる。\n"
   ]
  },
  {
   "cell_type": "markdown",
   "metadata": {},
   "source": [
    "####  最小二乗法 (least squares) \n",
    "残差二乗和  \n",
    "\n",
    "\\begin{align*}\n",
    "RSS(\\beta) = \\sum_{i=1}^{N} (\\hat{y}_{i} - f(x_{i}^{\\mathrm{T}} \\beta ))^{2}\n",
    "\\end{align*}\n",
    "\n",
    "を最小にする $\\beta$ を選択する。  \n",
    "$RSS(\\beta)$ はパラメータ $\\beta$ の二次関数であるので必ず最小値が存在するが、一般に一意な解を得られる保証はない。  \n",
    "上の式を行列表記すると  \n",
    "\n",
    "\\begin{align*}\n",
    "RSS(\\beta) = (\\mathbf{y} - \\mathbf{X}\\beta)^{\\mathrm{T}} (\\mathbf{y} - \\mathbf{X} \\beta)\n",
    "\\end{align*}\n",
    "\n",
    "となる。ここで $\\mathbf{X}$ は各行が入力ベクトルに対応する $N \\times p$ 行列、  \n",
    "$\\mathbf{y}$ は各要素が出力に対応する $N$ 次元ベクトルである。  \n",
    "これを $\\beta$ に関して偏微分すると、正規方程式 (normal equation)  \n",
    "\n",
    "\\begin{align*}\n",
    "\\mathbf{X}^{\\mathrm{T}} (\\mathbf{y} - \\mathbf{X} \\beta) = 0\n",
    "\\end{align*}\n",
    "\n",
    "を得る。$\\mathbf{X}^{\\mathrm{T}}\\mathbf{X}$ が特異でなければ、正規方程式の一意な解を  \n",
    "\n",
    "\\begin{align*}\n",
    "\\hat{\\beta} = (\\mathbf{X}^{\\mathrm{T}} \\mathbf{X})^{-1} \\mathbf{X}^{\\mathrm{T}} \\mathbf{y}\n",
    "\\end{align*}\n",
    "\n",
    "と求めることができる。  \n",
    "$i$ 番目の入力 $x_{i}$ に当てはめた値は $\\hat{y}_{i} = \\hat{y}(X_{i}) = x_{i}^{\\mathrm{T}}\\hat{\\beta}$ となり、任意の入力 $x_{0}$ に対して $x_{0}^{\\mathrm{T}}\\hat{\\beta}$ が予測値となる。  \n",
    "このような予測値を集めて構成される超平面は $p$ 次元パラメータ $\\beta$ により特徴づけられる。    \n",
    "  \n",
    "　＊　  \n",
    "  \n",
    "次に、分類問題の枠組みで考える。  \n",
    "２クラス分類問題では、出力のクラスを表す変数 $G$ は例えば青クラス／オレンジクラスの値をとる。  \n",
    "応答変数 $Y$ を青クラスが0、オレンジクラスが1として線形モデルを当てはめ、\n",
    "モデルの出力値 $\\hat{Y}$ が  \n",
    "\n",
    "\\begin{align*}\n",
    "\\hat{G} = \\begin{cases} &\\text{orange} &\\hat{Y}>0.5 \\\\\n",
    "&\\text{blue} &\\hat{Y} \\leq 0.5 \\end{cases}\n",
    "\\end{align*}\n",
    "\n",
    "とクラス変数 $G$ に変換されるものとする。  \n",
    "図示したものは下の通り。"
   ]
  },
  {
   "cell_type": "code",
   "execution_count": 1,
   "metadata": {
    "scrolled": true
   },
   "outputs": [
    {
     "data": {
      "image/png": "[encoded data removed]",
      "text/plain": [
       "<matplotlib.figure.Figure at 0x7f4bd6b1f2b0>"
      ]
     },
     "metadata": {},
     "output_type": "display_data"
    }
   ],
   "source": [
    "import numpy as np\n",
    "import matplotlib.pyplot as plt\n",
    "np.random.seed(0)\n",
    "\n",
    "X1 = np.random.randn(100,2) + np.array([1,2])\n",
    "X2 = np.random.randn(100,2) + np.array([3,0])\n",
    "DBx = np.arange(np.min(X1[:,0])-3, np.max(X2[:,0])+3, 0.1)\n",
    "\n",
    "plt.scatter(X1[:,0], X1[:,1], c='orange', marker=\"o\", alpha=0.4)\n",
    "plt.scatter(X2[:,0], X2[:,1], c='blue', marker=\"o\", alpha=0.4)\n",
    "plt.plot(DBx, DBx*0.5)\n",
    "\n",
    "plt.fill_between(DBx, DBx+20, DBx*0.5, facecolor='y', alpha=0.1)\n",
    "plt.fill_between(DBx, DBx*0.5, DBx-20, facecolor='b', alpha=0.1)\n",
    "plt.xlim(np.min(X1[:,0])-0.3, np.max(X2[:,0])+0.3)\n",
    "plt.ylim(np.min(X2[:,1])-0.3, np.max(X1[:,1])+0.3)\n",
    "\n",
    "plt.show()"
   ]
  },
  {
   "cell_type": "markdown",
   "metadata": {},
   "source": [
    "図中で２つのクラスの予測結果は、    \n",
    "この場合線形な決定境界 (decision boundary) $\\{ x : x^{\\mathrm{T}}\\hat{\\beta} = 0.5 \\}$ によって隔てられている。   \n",
    "  \n",
    "各クラスのデータがそれぞれ１つのガウス分布から生成されているとき、線形決定境界は最適な選択であり、  \n",
    "２つのクラスの重なりはやむを得ず、予測に与える重複領域の悪影響を避けることはできない。  \n",
    "  \n",
    "一方、データが混合ガウス分布から生成されているとき、線形決定境界は一般に最適でない。  "
   ]
  }
 ],
 "metadata": {
  "kernelspec": {
   "display_name": "Python 3",
   "language": "python",
   "name": "python3"
  },
  "language_info": {
   "codemirror_mode": {
    "name": "ipython",
    "version": 3
   },
   "file_extension": ".py",
   "mimetype": "text/x-python",
   "name": "python",
   "nbconvert_exporter": "python",
   "pygments_lexer": "ipython3",
   "version": "3.5.2"
  }
 },
 "nbformat": 4,
 "nbformat_minor": 2
}
