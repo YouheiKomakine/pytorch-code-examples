{
 "cells": [
  {
   "cell_type": "markdown",
   "metadata": {},
   "source": [
    "## PyTorch_Getting_Started"
   ]
  },
  {
   "cell_type": "markdown",
   "metadata": {},
   "source": [
    "---"
   ]
  },
  {
   "cell_type": "markdown",
   "metadata": {},
   "source": [
    "### Note: \n",
    "Original source code is from PyTorch Tutorials.  \n",
    " - http://pytorch.org/tutorials/index.html  \n",
    "   \n",
    "These codes are for python3.  \n",
    "(Add a bit change, and most of them probably can run with python2)  \n",
    "Please install Numpy, PyTorch and other libraries before trying to use codes on your computer.    "
   ]
  },
  {
   "cell_type": "markdown",
   "metadata": {},
   "source": [
    "---"
   ]
  },
  {
   "cell_type": "markdown",
   "metadata": {},
   "source": [
    "### Contents\n",
    "- Tensors\n",
    "- Operations\n",
    "- Converting Numpy Array <-> torch Tensor"
   ]
  },
  {
   "cell_type": "markdown",
   "metadata": {},
   "source": [
    "---"
   ]
  },
  {
   "cell_type": "code",
   "execution_count": 19,
   "metadata": {},
   "outputs": [],
   "source": [
    "# Libraries\n",
    "import numpy as np\n",
    "import torch\n",
    "\n",
    "# for python2\n",
    "# from __future__ import print_function"
   ]
  },
  {
   "cell_type": "markdown",
   "metadata": {},
   "source": [
    "### Tensors"
   ]
  },
  {
   "cell_type": "code",
   "execution_count": 20,
   "metadata": {
    "scrolled": false
   },
   "outputs": [
    {
     "name": "stdout",
     "output_type": "stream",
     "text": [
      "\n",
      " 0.0000e+00 -0.0000e+00  0.0000e+00\n",
      "-0.0000e+00  9.1783e-35  1.4013e-45\n",
      " 1.1771e-43  8.4078e-42  0.0000e+00\n",
      "-0.0000e+00  1.3592e+19  2.7837e-40\n",
      "[torch.FloatTensor of size 4x3]\n",
      "\n",
      "\n",
      " 0.6133  0.2062  0.0156  0.7510  0.4168\n",
      " 0.4910  0.1803  0.5962  0.0310  0.4294\n",
      " 0.3287  0.8615  0.5831  0.7689  0.8393\n",
      "[torch.FloatTensor of size 3x5]\n",
      "\n"
     ]
    }
   ],
   "source": [
    "a = torch.Tensor(4, 3)\n",
    "print(a)\n",
    "b = torch.rand(3, 5)\n",
    "print(b)"
   ]
  },
  {
   "cell_type": "code",
   "execution_count": 21,
   "metadata": {},
   "outputs": [
    {
     "name": "stdout",
     "output_type": "stream",
     "text": [
      "torch.Size([4, 3])\n"
     ]
    }
   ],
   "source": [
    "print(a.size())"
   ]
  },
  {
   "cell_type": "markdown",
   "metadata": {},
   "source": [
    "### Operations"
   ]
  },
  {
   "cell_type": "code",
   "execution_count": 22,
   "metadata": {
    "scrolled": true
   },
   "outputs": [
    {
     "name": "stdout",
     "output_type": "stream",
     "text": [
      "\n",
      " 0.0000e+00 -0.0000e+00  1.6631e+19  4.6577e-10\n",
      " 1.0354e-30  1.4013e-45  7.3085e-35  1.4013e-45\n",
      " 7.3086e-35  1.4013e-45  1.6628e+19 -1.0845e-19\n",
      "[torch.FloatTensor of size 3x4]\n",
      "\n",
      "\n",
      " 0.1331  0.7929  0.5171  0.2744\n",
      " 0.3289  0.2833  0.6245  0.1268\n",
      " 0.8952  0.7020  0.1322  0.8609\n",
      "[torch.FloatTensor of size 3x4]\n",
      "\n",
      "\n",
      " 1.3311e-01  7.9292e-01  1.6631e+19  2.7441e-01\n",
      " 3.2889e-01  2.8327e-01  6.2449e-01  1.2679e-01\n",
      " 8.9518e-01  7.0205e-01  1.6628e+19  8.6091e-01\n",
      "[torch.FloatTensor of size 3x4]\n",
      "\n"
     ]
    }
   ],
   "source": [
    "# Addition\n",
    "c = torch.Tensor(3,4)\n",
    "d = torch.rand(3,4)\n",
    "print(c)\n",
    "print(d)\n",
    "print(c + d)"
   ]
  },
  {
   "cell_type": "code",
   "execution_count": 23,
   "metadata": {},
   "outputs": [
    {
     "name": "stdout",
     "output_type": "stream",
     "text": [
      "\n",
      " 1.3311e-01  7.9292e-01  1.6631e+19  2.7441e-01\n",
      " 3.2889e-01  2.8327e-01  6.2449e-01  1.2679e-01\n",
      " 8.9518e-01  7.0205e-01  1.6628e+19  8.6091e-01\n",
      "[torch.FloatTensor of size 3x4]\n",
      "\n",
      "\n",
      " 1.3311e-01  7.9292e-01  1.6631e+19  2.7441e-01\n",
      " 3.2889e-01  2.8327e-01  6.2449e-01  1.2679e-01\n",
      " 8.9518e-01  7.0205e-01  1.6628e+19  8.6091e-01\n",
      "[torch.FloatTensor of size 3x4]\n",
      "\n"
     ]
    }
   ],
   "source": [
    "# other syntax 1\n",
    "print(torch.add(c, d))\n",
    "\n",
    "# other syntax 2\n",
    "result = torch.Tensor(c.size())\n",
    "torch.add(c, d, out=result)\n",
    "print(result)"
   ]
  },
  {
   "cell_type": "code",
   "execution_count": 24,
   "metadata": {},
   "outputs": [
    {
     "name": "stdout",
     "output_type": "stream",
     "text": [
      "\n",
      " 0.1331  0.7929  0.5171  0.2744\n",
      " 0.3289  0.2833  0.6245  0.1268\n",
      " 0.8952  0.7020  0.1322  0.8609\n",
      "[torch.FloatTensor of size 3x4]\n",
      "\n",
      "\n",
      " 0.1331  0.7929  0.5171  0.2744\n",
      " 0.3289  0.2833  0.6245  0.1268\n",
      " 0.8952  0.7020  0.1322  0.8609\n",
      "[torch.FloatTensor of size 3x4]\n",
      "\n",
      "\n",
      " 0.5169  0.1375  0.1492  0.5506\n",
      " 0.8289  0.9273  0.4016  0.3451\n",
      " 0.3559  0.1218  0.2840  0.4282\n",
      "[torch.FloatTensor of size 3x4]\n",
      "\n"
     ]
    }
   ],
   "source": [
    "# Addition in-place\n",
    "e = torch.rand(d.size())\n",
    "print(d)\n",
    "\n",
    "d.add(e)\n",
    "print(d)\n",
    "\n",
    "# operation with an \"_\" will change tensor.\n",
    "d.add_(e)\n",
    "print(e)"
   ]
  },
  {
   "cell_type": "code",
   "execution_count": 28,
   "metadata": {
    "scrolled": true
   },
   "outputs": [
    {
     "name": "stdout",
     "output_type": "stream",
     "text": [
      "\n",
      " 0.4265  0.8838  0.1292  0.3227  0.5040\n",
      " 0.5206  0.9144  0.6112  0.4042  0.2336\n",
      " 0.6662  0.4924  0.0223  0.3493  0.4468\n",
      "[torch.FloatTensor of size 3x5]\n",
      "\n",
      "\n",
      " 0.1292\n",
      " 0.6112\n",
      " 0.0223\n",
      "[torch.FloatTensor of size 3]\n",
      "\n",
      "\n",
      " 0.6662\n",
      " 0.4924\n",
      " 0.0223\n",
      " 0.3493\n",
      " 0.4468\n",
      "[torch.FloatTensor of size 5]\n",
      "\n"
     ]
    }
   ],
   "source": [
    "# You can use numpy-like indexing.\n",
    "\n",
    "f = torch.rand(3, 5)\n",
    "print(f)\n",
    "print(f[:, 2])\n",
    "print(f[-1,:])"
   ]
  },
  {
   "cell_type": "markdown",
   "metadata": {},
   "source": [
    "---"
   ]
  },
  {
   "cell_type": "markdown",
   "metadata": {},
   "source": [
    "### Converting Numpy Array <-> torch Tensor"
   ]
  },
  {
   "cell_type": "code",
   "execution_count": 31,
   "metadata": {},
   "outputs": [
    {
     "name": "stdout",
     "output_type": "stream",
     "text": [
      "\n",
      " 1\n",
      " 1\n",
      " 1\n",
      " 1\n",
      "[torch.FloatTensor of size 4]\n",
      "\n"
     ]
    }
   ],
   "source": [
    "g = torch.ones(4)\n",
    "print(g)"
   ]
  },
  {
   "cell_type": "code",
   "execution_count": 34,
   "metadata": {},
   "outputs": [
    {
     "name": "stdout",
     "output_type": "stream",
     "text": [
      "[ 1.  1.  1.  1.]\n"
     ]
    }
   ],
   "source": [
    "# torch Tensor to numpy Array\n",
    "h = g.numpy()\n",
    "print(h)"
   ]
  },
  {
   "cell_type": "code",
   "execution_count": 39,
   "metadata": {},
   "outputs": [
    {
     "name": "stdout",
     "output_type": "stream",
     "text": [
      "\n",
      " 2\n",
      " 2\n",
      " 2\n",
      " 2\n",
      "[torch.FloatTensor of size 4]\n",
      "\n",
      "[ 2.  2.  2.  2.]\n"
     ]
    }
   ],
   "source": [
    "g.add_(1)\n",
    "print(g)\n",
    "print(h)"
   ]
  },
  {
   "cell_type": "code",
   "execution_count": 46,
   "metadata": {},
   "outputs": [
    {
     "name": "stdout",
     "output_type": "stream",
     "text": [
      "[[ 0.23858292  0.89265807  0.086246  ]\n",
      " [ 0.54225071  0.31392856  0.97159074]]\n",
      "\n",
      " 0.2386  0.8927  0.0862\n",
      " 0.5423  0.3139  0.9716\n",
      "[torch.DoubleTensor of size 2x3]\n",
      "\n",
      "value of j[0, 0] is  0.23858292330910946\n"
     ]
    }
   ],
   "source": [
    "# numpy Array to torch Tensor\n",
    "\n",
    "i = np.random.rand(2, 3)\n",
    "print(i)\n",
    "\n",
    "j = torch.from_numpy(i)\n",
    "print(j)\n",
    "print(\"value of j[0, 0] is \", j[0,0])"
   ]
  }
 ],
 "metadata": {
  "kernelspec": {
   "display_name": "Environment (conda_snt)",
   "language": "python",
   "name": "conda_snt"
  },
  "language_info": {
   "codemirror_mode": {
    "name": "ipython",
    "version": 3
   },
   "file_extension": ".py",
   "mimetype": "text/x-python",
   "name": "python",
   "nbconvert_exporter": "python",
   "pygments_lexer": "ipython3",
   "version": "3.5.4"
  }
 },
 "nbformat": 4,
 "nbformat_minor": 2
}
